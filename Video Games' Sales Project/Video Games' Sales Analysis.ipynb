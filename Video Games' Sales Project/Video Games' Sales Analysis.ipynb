{
 "cells": [
  {
   "cell_type": "markdown",
   "metadata": {},
   "source": [
    "# Project 2 Part I\n",
    "\n",
    "## Section 1: Dataset\n",
    "\n",
    "## Explanation for Dataset\n",
    "\n",
    "I chose this dataset because I have loved playing video games since childhood. **Destiny** was one of my favorites, as my parents never allowed me to play any mature-rated games during that time. This analysis will help me understand how the dimensions of the video game industry vary across regions such as North America, Europe, and Japan.\n",
    "\n",
    "I am performing this analysis for the following reasons:\n",
    "\n",
    "- Global Sales Distribution:\n",
    "\n",
    "  Analyze which games dominate global sales and point out key trends from top-selling titles.\n",
    "\n",
    "- Genre Popularity:\n",
    "\n",
    "  Observe which genres are performing best in terms of sales and note regional variations in taste.\n",
    "\n",
    "- Regional Sales Comparison:\n",
    "\n",
    "  Investigate the differences in sales across North America, Europe, and Japan.\n",
    "\n",
    "- Ratings vs. Sales:\n",
    "\n",
    "  Compare critic scores to worldwide sales to determine whether highly-rated games always achieve commercial success.\n",
    "\n",
    "\n",
    "\n",
    "\n",
    "I will also examine the ratings distribution, including comparing the scores between critics and users to see how they may or may not agree. By answering these and other questions, I hope to uncover what drives the video game industry and what makes a game successful. This analysis is not just about understanding numbers and trends but also the cultural and economic forces that shape the games we play and love.\n",
    "\n",
    "### Dataset Location\n",
    "- **Kaggle**: [Video Game Sales and Ratings](https://www.kaggle.com/datasets/thedevastator/video-game-sales-and-ratings/data)  \n",
    "- **Credit**: The Devastator"
   ]
  },
  {
   "cell_type": "markdown",
   "metadata": {},
   "source": [
    "## Loaded Dataset"
   ]
  },
  {
   "cell_type": "code",
   "execution_count": 195,
   "metadata": {},
   "outputs": [
    {
     "data": {
      "text/html": [
       "<div>\n",
       "<style scoped>\n",
       "    .dataframe tbody tr th:only-of-type {\n",
       "        vertical-align: middle;\n",
       "    }\n",
       "\n",
       "    .dataframe tbody tr th {\n",
       "        vertical-align: top;\n",
       "    }\n",
       "\n",
       "    .dataframe thead th {\n",
       "        text-align: right;\n",
       "    }\n",
       "</style>\n",
       "<table border=\"1\" class=\"dataframe\">\n",
       "  <thead>\n",
       "    <tr style=\"text-align: right;\">\n",
       "      <th></th>\n",
       "      <th>index</th>\n",
       "      <th>Name</th>\n",
       "      <th>Platform</th>\n",
       "      <th>Year_of_Release</th>\n",
       "      <th>Genre</th>\n",
       "      <th>Publisher</th>\n",
       "      <th>NA_Sales</th>\n",
       "      <th>EU_Sales</th>\n",
       "      <th>JP_Sales</th>\n",
       "      <th>Other_Sales</th>\n",
       "      <th>Global_Sales</th>\n",
       "      <th>Critic_Score</th>\n",
       "      <th>Critic_Count</th>\n",
       "      <th>User_Score</th>\n",
       "      <th>User_Count</th>\n",
       "      <th>Developer</th>\n",
       "      <th>Rating</th>\n",
       "    </tr>\n",
       "  </thead>\n",
       "  <tbody>\n",
       "    <tr>\n",
       "      <th>0</th>\n",
       "      <td>0</td>\n",
       "      <td>Wii Sports</td>\n",
       "      <td>Wii</td>\n",
       "      <td>2006.0</td>\n",
       "      <td>Sports</td>\n",
       "      <td>Nintendo</td>\n",
       "      <td>41.36</td>\n",
       "      <td>28.96</td>\n",
       "      <td>3.77</td>\n",
       "      <td>8.45</td>\n",
       "      <td>82.53</td>\n",
       "      <td>76.0</td>\n",
       "      <td>51.0</td>\n",
       "      <td>8</td>\n",
       "      <td>322.0</td>\n",
       "      <td>Nintendo</td>\n",
       "      <td>E</td>\n",
       "    </tr>\n",
       "    <tr>\n",
       "      <th>1</th>\n",
       "      <td>1</td>\n",
       "      <td>Super Mario Bros.</td>\n",
       "      <td>NES</td>\n",
       "      <td>1985.0</td>\n",
       "      <td>Platform</td>\n",
       "      <td>Nintendo</td>\n",
       "      <td>29.08</td>\n",
       "      <td>3.58</td>\n",
       "      <td>6.81</td>\n",
       "      <td>0.77</td>\n",
       "      <td>40.24</td>\n",
       "      <td>NaN</td>\n",
       "      <td>NaN</td>\n",
       "      <td>NaN</td>\n",
       "      <td>NaN</td>\n",
       "      <td>NaN</td>\n",
       "      <td>NaN</td>\n",
       "    </tr>\n",
       "    <tr>\n",
       "      <th>2</th>\n",
       "      <td>2</td>\n",
       "      <td>Mario Kart Wii</td>\n",
       "      <td>Wii</td>\n",
       "      <td>2008.0</td>\n",
       "      <td>Racing</td>\n",
       "      <td>Nintendo</td>\n",
       "      <td>15.68</td>\n",
       "      <td>12.76</td>\n",
       "      <td>3.79</td>\n",
       "      <td>3.29</td>\n",
       "      <td>35.52</td>\n",
       "      <td>82.0</td>\n",
       "      <td>73.0</td>\n",
       "      <td>8.3</td>\n",
       "      <td>709.0</td>\n",
       "      <td>Nintendo</td>\n",
       "      <td>E</td>\n",
       "    </tr>\n",
       "    <tr>\n",
       "      <th>3</th>\n",
       "      <td>3</td>\n",
       "      <td>Wii Sports Resort</td>\n",
       "      <td>Wii</td>\n",
       "      <td>2009.0</td>\n",
       "      <td>Sports</td>\n",
       "      <td>Nintendo</td>\n",
       "      <td>15.61</td>\n",
       "      <td>10.93</td>\n",
       "      <td>3.28</td>\n",
       "      <td>2.95</td>\n",
       "      <td>32.77</td>\n",
       "      <td>80.0</td>\n",
       "      <td>73.0</td>\n",
       "      <td>8</td>\n",
       "      <td>192.0</td>\n",
       "      <td>Nintendo</td>\n",
       "      <td>E</td>\n",
       "    </tr>\n",
       "    <tr>\n",
       "      <th>4</th>\n",
       "      <td>4</td>\n",
       "      <td>Pokemon Red/Pokemon Blue</td>\n",
       "      <td>GB</td>\n",
       "      <td>1996.0</td>\n",
       "      <td>Role-Playing</td>\n",
       "      <td>Nintendo</td>\n",
       "      <td>11.27</td>\n",
       "      <td>8.89</td>\n",
       "      <td>10.22</td>\n",
       "      <td>1.00</td>\n",
       "      <td>31.37</td>\n",
       "      <td>NaN</td>\n",
       "      <td>NaN</td>\n",
       "      <td>NaN</td>\n",
       "      <td>NaN</td>\n",
       "      <td>NaN</td>\n",
       "      <td>NaN</td>\n",
       "    </tr>\n",
       "  </tbody>\n",
       "</table>\n",
       "</div>"
      ],
      "text/plain": [
       "   index                      Name Platform  Year_of_Release         Genre  \\\n",
       "0      0                Wii Sports      Wii           2006.0        Sports   \n",
       "1      1         Super Mario Bros.      NES           1985.0      Platform   \n",
       "2      2            Mario Kart Wii      Wii           2008.0        Racing   \n",
       "3      3         Wii Sports Resort      Wii           2009.0        Sports   \n",
       "4      4  Pokemon Red/Pokemon Blue       GB           1996.0  Role-Playing   \n",
       "\n",
       "  Publisher  NA_Sales  EU_Sales  JP_Sales  Other_Sales  Global_Sales  \\\n",
       "0  Nintendo     41.36     28.96      3.77         8.45         82.53   \n",
       "1  Nintendo     29.08      3.58      6.81         0.77         40.24   \n",
       "2  Nintendo     15.68     12.76      3.79         3.29         35.52   \n",
       "3  Nintendo     15.61     10.93      3.28         2.95         32.77   \n",
       "4  Nintendo     11.27      8.89     10.22         1.00         31.37   \n",
       "\n",
       "   Critic_Score  Critic_Count User_Score  User_Count Developer Rating  \n",
       "0          76.0          51.0          8       322.0  Nintendo      E  \n",
       "1           NaN           NaN        NaN         NaN       NaN    NaN  \n",
       "2          82.0          73.0        8.3       709.0  Nintendo      E  \n",
       "3          80.0          73.0          8       192.0  Nintendo      E  \n",
       "4           NaN           NaN        NaN         NaN       NaN    NaN  "
      ]
     },
     "execution_count": 195,
     "metadata": {},
     "output_type": "execute_result"
    }
   ],
   "source": [
    "import pandas as pd\n",
    "\n",
    "df = pd.read_csv(\"Video_Games.csv\")\n",
    "df.head()"
   ]
  },
  {
   "cell_type": "markdown",
   "metadata": {},
   "source": [
    "## Initial Inspection of the Dataset\n",
    "\n",
    "Before analyzing the dataset, it is important to inspect it to ensure no duplicates and invalid variables.\n",
    "\n",
    "### Key Objectives:\n",
    "1. Understand the structure of the dataset.\n",
    "2. Identify missing or incomplete data.\n",
    "3. Check for duplicate entries.\n",
    "4. Ensure all columns have appropriate data types.\n"
   ]
  },
  {
   "cell_type": "code",
   "execution_count": 196,
   "metadata": {},
   "outputs": [
    {
     "name": "stdout",
     "output_type": "stream",
     "text": [
      "<class 'pandas.core.frame.DataFrame'>\n",
      "RangeIndex: 16928 entries, 0 to 16927\n",
      "Data columns (total 17 columns):\n",
      " #   Column           Non-Null Count  Dtype  \n",
      "---  ------           --------------  -----  \n",
      " 0   index            16928 non-null  int64  \n",
      " 1   Name             16926 non-null  object \n",
      " 2   Platform         16928 non-null  object \n",
      " 3   Year_of_Release  16655 non-null  float64\n",
      " 4   Genre            16926 non-null  object \n",
      " 5   Publisher        16873 non-null  object \n",
      " 6   NA_Sales         16928 non-null  float64\n",
      " 7   EU_Sales         16928 non-null  float64\n",
      " 8   JP_Sales         16928 non-null  float64\n",
      " 9   Other_Sales      16928 non-null  float64\n",
      " 10  Global_Sales     16928 non-null  float64\n",
      " 11  Critic_Score     8260 non-null   float64\n",
      " 12  Critic_Count     8260 non-null   float64\n",
      " 13  User_Score       10159 non-null  object \n",
      " 14  User_Count       7718 non-null   float64\n",
      " 15  Developer        10240 non-null  object \n",
      " 16  Rating           10092 non-null  object \n",
      "dtypes: float64(9), int64(1), object(7)\n",
      "memory usage: 2.2+ MB\n"
     ]
    }
   ],
   "source": [
    "df.info()"
   ]
  },
  {
   "cell_type": "code",
   "execution_count": 197,
   "metadata": {},
   "outputs": [
    {
     "data": {
      "text/html": [
       "<div>\n",
       "<style scoped>\n",
       "    .dataframe tbody tr th:only-of-type {\n",
       "        vertical-align: middle;\n",
       "    }\n",
       "\n",
       "    .dataframe tbody tr th {\n",
       "        vertical-align: top;\n",
       "    }\n",
       "\n",
       "    .dataframe thead th {\n",
       "        text-align: right;\n",
       "    }\n",
       "</style>\n",
       "<table border=\"1\" class=\"dataframe\">\n",
       "  <thead>\n",
       "    <tr style=\"text-align: right;\">\n",
       "      <th></th>\n",
       "      <th>index</th>\n",
       "      <th>Name</th>\n",
       "      <th>Platform</th>\n",
       "      <th>Year_of_Release</th>\n",
       "      <th>Genre</th>\n",
       "      <th>Publisher</th>\n",
       "      <th>NA_Sales</th>\n",
       "      <th>EU_Sales</th>\n",
       "      <th>JP_Sales</th>\n",
       "      <th>Other_Sales</th>\n",
       "      <th>Global_Sales</th>\n",
       "      <th>Critic_Score</th>\n",
       "      <th>Critic_Count</th>\n",
       "      <th>User_Score</th>\n",
       "      <th>User_Count</th>\n",
       "      <th>Developer</th>\n",
       "      <th>Rating</th>\n",
       "    </tr>\n",
       "  </thead>\n",
       "  <tbody>\n",
       "    <tr>\n",
       "      <th>0</th>\n",
       "      <td>0</td>\n",
       "      <td>Wii Sports</td>\n",
       "      <td>Wii</td>\n",
       "      <td>2006.0</td>\n",
       "      <td>Sports</td>\n",
       "      <td>Nintendo</td>\n",
       "      <td>41.36</td>\n",
       "      <td>28.96</td>\n",
       "      <td>3.77</td>\n",
       "      <td>8.45</td>\n",
       "      <td>82.53</td>\n",
       "      <td>76.0</td>\n",
       "      <td>51.0</td>\n",
       "      <td>8</td>\n",
       "      <td>322.0</td>\n",
       "      <td>Nintendo</td>\n",
       "      <td>E</td>\n",
       "    </tr>\n",
       "    <tr>\n",
       "      <th>1</th>\n",
       "      <td>1</td>\n",
       "      <td>Super Mario Bros.</td>\n",
       "      <td>NES</td>\n",
       "      <td>1985.0</td>\n",
       "      <td>Platform</td>\n",
       "      <td>Nintendo</td>\n",
       "      <td>29.08</td>\n",
       "      <td>3.58</td>\n",
       "      <td>6.81</td>\n",
       "      <td>0.77</td>\n",
       "      <td>40.24</td>\n",
       "      <td>NaN</td>\n",
       "      <td>NaN</td>\n",
       "      <td>NaN</td>\n",
       "      <td>NaN</td>\n",
       "      <td>NaN</td>\n",
       "      <td>NaN</td>\n",
       "    </tr>\n",
       "    <tr>\n",
       "      <th>2</th>\n",
       "      <td>2</td>\n",
       "      <td>Mario Kart Wii</td>\n",
       "      <td>Wii</td>\n",
       "      <td>2008.0</td>\n",
       "      <td>Racing</td>\n",
       "      <td>Nintendo</td>\n",
       "      <td>15.68</td>\n",
       "      <td>12.76</td>\n",
       "      <td>3.79</td>\n",
       "      <td>3.29</td>\n",
       "      <td>35.52</td>\n",
       "      <td>82.0</td>\n",
       "      <td>73.0</td>\n",
       "      <td>8.3</td>\n",
       "      <td>709.0</td>\n",
       "      <td>Nintendo</td>\n",
       "      <td>E</td>\n",
       "    </tr>\n",
       "    <tr>\n",
       "      <th>3</th>\n",
       "      <td>3</td>\n",
       "      <td>Wii Sports Resort</td>\n",
       "      <td>Wii</td>\n",
       "      <td>2009.0</td>\n",
       "      <td>Sports</td>\n",
       "      <td>Nintendo</td>\n",
       "      <td>15.61</td>\n",
       "      <td>10.93</td>\n",
       "      <td>3.28</td>\n",
       "      <td>2.95</td>\n",
       "      <td>32.77</td>\n",
       "      <td>80.0</td>\n",
       "      <td>73.0</td>\n",
       "      <td>8</td>\n",
       "      <td>192.0</td>\n",
       "      <td>Nintendo</td>\n",
       "      <td>E</td>\n",
       "    </tr>\n",
       "    <tr>\n",
       "      <th>4</th>\n",
       "      <td>4</td>\n",
       "      <td>Pokemon Red/Pokemon Blue</td>\n",
       "      <td>GB</td>\n",
       "      <td>1996.0</td>\n",
       "      <td>Role-Playing</td>\n",
       "      <td>Nintendo</td>\n",
       "      <td>11.27</td>\n",
       "      <td>8.89</td>\n",
       "      <td>10.22</td>\n",
       "      <td>1.00</td>\n",
       "      <td>31.37</td>\n",
       "      <td>NaN</td>\n",
       "      <td>NaN</td>\n",
       "      <td>NaN</td>\n",
       "      <td>NaN</td>\n",
       "      <td>NaN</td>\n",
       "      <td>NaN</td>\n",
       "    </tr>\n",
       "    <tr>\n",
       "      <th>...</th>\n",
       "      <td>...</td>\n",
       "      <td>...</td>\n",
       "      <td>...</td>\n",
       "      <td>...</td>\n",
       "      <td>...</td>\n",
       "      <td>...</td>\n",
       "      <td>...</td>\n",
       "      <td>...</td>\n",
       "      <td>...</td>\n",
       "      <td>...</td>\n",
       "      <td>...</td>\n",
       "      <td>...</td>\n",
       "      <td>...</td>\n",
       "      <td>...</td>\n",
       "      <td>...</td>\n",
       "      <td>...</td>\n",
       "      <td>...</td>\n",
       "    </tr>\n",
       "    <tr>\n",
       "      <th>16923</th>\n",
       "      <td>16923</td>\n",
       "      <td>Aliens: Colonial Marines</td>\n",
       "      <td>PS3</td>\n",
       "      <td>2013.0</td>\n",
       "      <td>Shooter</td>\n",
       "      <td>Sega</td>\n",
       "      <td>0.20</td>\n",
       "      <td>0.29</td>\n",
       "      <td>0.00</td>\n",
       "      <td>0.11</td>\n",
       "      <td>0.60</td>\n",
       "      <td>43.0</td>\n",
       "      <td>25.0</td>\n",
       "      <td>3.6</td>\n",
       "      <td>295.0</td>\n",
       "      <td>Gearbox Software</td>\n",
       "      <td>M</td>\n",
       "    </tr>\n",
       "    <tr>\n",
       "      <th>16924</th>\n",
       "      <td>16924</td>\n",
       "      <td>Backyard Wrestling: Don't Try This at Home</td>\n",
       "      <td>PS2</td>\n",
       "      <td>2003.0</td>\n",
       "      <td>Fighting</td>\n",
       "      <td>Eidos Interactive</td>\n",
       "      <td>0.30</td>\n",
       "      <td>0.23</td>\n",
       "      <td>0.00</td>\n",
       "      <td>0.08</td>\n",
       "      <td>0.60</td>\n",
       "      <td>51.0</td>\n",
       "      <td>24.0</td>\n",
       "      <td>7.8</td>\n",
       "      <td>29.0</td>\n",
       "      <td>Paradox Development</td>\n",
       "      <td>M</td>\n",
       "    </tr>\n",
       "    <tr>\n",
       "      <th>16925</th>\n",
       "      <td>16925</td>\n",
       "      <td>Yakuza: Dead Souls</td>\n",
       "      <td>PS3</td>\n",
       "      <td>2011.0</td>\n",
       "      <td>Shooter</td>\n",
       "      <td>Sega</td>\n",
       "      <td>0.09</td>\n",
       "      <td>0.06</td>\n",
       "      <td>0.42</td>\n",
       "      <td>0.03</td>\n",
       "      <td>0.60</td>\n",
       "      <td>64.0</td>\n",
       "      <td>55.0</td>\n",
       "      <td>7.4</td>\n",
       "      <td>69.0</td>\n",
       "      <td>Ryu ga Gotoku Studios</td>\n",
       "      <td>M</td>\n",
       "    </tr>\n",
       "    <tr>\n",
       "      <th>16926</th>\n",
       "      <td>16926</td>\n",
       "      <td>Fight Night Round 2</td>\n",
       "      <td>XB</td>\n",
       "      <td>2005.0</td>\n",
       "      <td>Fighting</td>\n",
       "      <td>Electronic Arts</td>\n",
       "      <td>0.42</td>\n",
       "      <td>0.16</td>\n",
       "      <td>0.00</td>\n",
       "      <td>0.02</td>\n",
       "      <td>0.60</td>\n",
       "      <td>88.0</td>\n",
       "      <td>48.0</td>\n",
       "      <td>8.8</td>\n",
       "      <td>27.0</td>\n",
       "      <td>EA Sports</td>\n",
       "      <td>T</td>\n",
       "    </tr>\n",
       "    <tr>\n",
       "      <th>16927</th>\n",
       "      <td>16927</td>\n",
       "      <td>MonHun Nikki: Poka Poka Ailu Mura</td>\n",
       "      <td>PSP</td>\n",
       "      <td>2010.0</td>\n",
       "      <td>Role-Playing</td>\n",
       "      <td>Capcom</td>\n",
       "      <td>0.00</td>\n",
       "      <td>0.00</td>\n",
       "      <td>0.60</td>\n",
       "      <td>0.00</td>\n",
       "      <td>0.60</td>\n",
       "      <td>NaN</td>\n",
       "      <td>NaN</td>\n",
       "      <td>NaN</td>\n",
       "      <td>NaN</td>\n",
       "      <td>NaN</td>\n",
       "      <td>NaN</td>\n",
       "    </tr>\n",
       "  </tbody>\n",
       "</table>\n",
       "<p>16928 rows × 17 columns</p>\n",
       "</div>"
      ],
      "text/plain": [
       "       index                                        Name Platform  \\\n",
       "0          0                                  Wii Sports      Wii   \n",
       "1          1                           Super Mario Bros.      NES   \n",
       "2          2                              Mario Kart Wii      Wii   \n",
       "3          3                           Wii Sports Resort      Wii   \n",
       "4          4                    Pokemon Red/Pokemon Blue       GB   \n",
       "...      ...                                         ...      ...   \n",
       "16923  16923                    Aliens: Colonial Marines      PS3   \n",
       "16924  16924  Backyard Wrestling: Don't Try This at Home      PS2   \n",
       "16925  16925                          Yakuza: Dead Souls      PS3   \n",
       "16926  16926                         Fight Night Round 2       XB   \n",
       "16927  16927           MonHun Nikki: Poka Poka Ailu Mura      PSP   \n",
       "\n",
       "       Year_of_Release         Genre          Publisher  NA_Sales  EU_Sales  \\\n",
       "0               2006.0        Sports           Nintendo     41.36     28.96   \n",
       "1               1985.0      Platform           Nintendo     29.08      3.58   \n",
       "2               2008.0        Racing           Nintendo     15.68     12.76   \n",
       "3               2009.0        Sports           Nintendo     15.61     10.93   \n",
       "4               1996.0  Role-Playing           Nintendo     11.27      8.89   \n",
       "...                ...           ...                ...       ...       ...   \n",
       "16923           2013.0       Shooter               Sega      0.20      0.29   \n",
       "16924           2003.0      Fighting  Eidos Interactive      0.30      0.23   \n",
       "16925           2011.0       Shooter               Sega      0.09      0.06   \n",
       "16926           2005.0      Fighting    Electronic Arts      0.42      0.16   \n",
       "16927           2010.0  Role-Playing             Capcom      0.00      0.00   \n",
       "\n",
       "       JP_Sales  Other_Sales  Global_Sales  Critic_Score  Critic_Count  \\\n",
       "0          3.77         8.45         82.53          76.0          51.0   \n",
       "1          6.81         0.77         40.24           NaN           NaN   \n",
       "2          3.79         3.29         35.52          82.0          73.0   \n",
       "3          3.28         2.95         32.77          80.0          73.0   \n",
       "4         10.22         1.00         31.37           NaN           NaN   \n",
       "...         ...          ...           ...           ...           ...   \n",
       "16923      0.00         0.11          0.60          43.0          25.0   \n",
       "16924      0.00         0.08          0.60          51.0          24.0   \n",
       "16925      0.42         0.03          0.60          64.0          55.0   \n",
       "16926      0.00         0.02          0.60          88.0          48.0   \n",
       "16927      0.60         0.00          0.60           NaN           NaN   \n",
       "\n",
       "      User_Score  User_Count              Developer Rating  \n",
       "0              8       322.0               Nintendo      E  \n",
       "1            NaN         NaN                    NaN    NaN  \n",
       "2            8.3       709.0               Nintendo      E  \n",
       "3              8       192.0               Nintendo      E  \n",
       "4            NaN         NaN                    NaN    NaN  \n",
       "...          ...         ...                    ...    ...  \n",
       "16923        3.6       295.0       Gearbox Software      M  \n",
       "16924        7.8        29.0    Paradox Development      M  \n",
       "16925        7.4        69.0  Ryu ga Gotoku Studios      M  \n",
       "16926        8.8        27.0              EA Sports      T  \n",
       "16927        NaN         NaN                    NaN    NaN  \n",
       "\n",
       "[16928 rows x 17 columns]"
      ]
     },
     "execution_count": 197,
     "metadata": {},
     "output_type": "execute_result"
    }
   ],
   "source": [
    "df.head()\n",
    "df\n",
    "df.tail()\n",
    "df"
   ]
  },
  {
   "cell_type": "code",
   "execution_count": 198,
   "metadata": {},
   "outputs": [
    {
     "data": {
      "text/plain": [
       "index                 0\n",
       "Name                  2\n",
       "Platform              0\n",
       "Year_of_Release     273\n",
       "Genre                 2\n",
       "Publisher            55\n",
       "NA_Sales              0\n",
       "EU_Sales              0\n",
       "JP_Sales              0\n",
       "Other_Sales           0\n",
       "Global_Sales          0\n",
       "Critic_Score       8668\n",
       "Critic_Count       8668\n",
       "User_Score         6769\n",
       "User_Count         9210\n",
       "Developer          6688\n",
       "Rating             6836\n",
       "dtype: int64"
      ]
     },
     "execution_count": 198,
     "metadata": {},
     "output_type": "execute_result"
    }
   ],
   "source": [
    "df.isnull().sum()"
   ]
  },
  {
   "cell_type": "code",
   "execution_count": 199,
   "metadata": {},
   "outputs": [
    {
     "data": {
      "text/plain": [
       "np.int64(0)"
      ]
     },
     "execution_count": 199,
     "metadata": {},
     "output_type": "execute_result"
    }
   ],
   "source": [
    "duplicates = df.duplicated().sum()\n",
    "duplicates"
   ]
  },
  {
   "cell_type": "markdown",
   "metadata": {},
   "source": [
    "## Found Zero Duplicates\n",
    "\n",
    "After inspecting the dataset for duplicate rows, we found that there are no duplicate entries. The dataset is clean!!!\n"
   ]
  },
  {
   "cell_type": "markdown",
   "metadata": {},
   "source": [
    "# Section 2: Exploratory Data Analysis (EDA)\n",
    "### Summarize Data"
   ]
  },
  {
   "cell_type": "code",
   "execution_count": 200,
   "metadata": {},
   "outputs": [
    {
     "data": {
      "text/html": [
       "<div>\n",
       "<style scoped>\n",
       "    .dataframe tbody tr th:only-of-type {\n",
       "        vertical-align: middle;\n",
       "    }\n",
       "\n",
       "    .dataframe tbody tr th {\n",
       "        vertical-align: top;\n",
       "    }\n",
       "\n",
       "    .dataframe thead th {\n",
       "        text-align: right;\n",
       "    }\n",
       "</style>\n",
       "<table border=\"1\" class=\"dataframe\">\n",
       "  <thead>\n",
       "    <tr style=\"text-align: right;\">\n",
       "      <th></th>\n",
       "      <th>NA_Sales</th>\n",
       "      <th>EU_Sales</th>\n",
       "      <th>JP_Sales</th>\n",
       "      <th>Global_Sales</th>\n",
       "    </tr>\n",
       "  </thead>\n",
       "  <tbody>\n",
       "    <tr>\n",
       "      <th>count</th>\n",
       "      <td>16928.000000</td>\n",
       "      <td>16928.000000</td>\n",
       "      <td>16928.000000</td>\n",
       "      <td>16928.000000</td>\n",
       "    </tr>\n",
       "    <tr>\n",
       "      <th>mean</th>\n",
       "      <td>0.266390</td>\n",
       "      <td>0.146850</td>\n",
       "      <td>0.078170</td>\n",
       "      <td>0.539520</td>\n",
       "    </tr>\n",
       "    <tr>\n",
       "      <th>std</th>\n",
       "      <td>0.814326</td>\n",
       "      <td>0.504585</td>\n",
       "      <td>0.308756</td>\n",
       "      <td>1.550545</td>\n",
       "    </tr>\n",
       "    <tr>\n",
       "      <th>min</th>\n",
       "      <td>0.000000</td>\n",
       "      <td>0.000000</td>\n",
       "      <td>0.000000</td>\n",
       "      <td>0.010000</td>\n",
       "    </tr>\n",
       "    <tr>\n",
       "      <th>25%</th>\n",
       "      <td>0.000000</td>\n",
       "      <td>0.000000</td>\n",
       "      <td>0.000000</td>\n",
       "      <td>0.060000</td>\n",
       "    </tr>\n",
       "    <tr>\n",
       "      <th>50%</th>\n",
       "      <td>0.080000</td>\n",
       "      <td>0.020000</td>\n",
       "      <td>0.000000</td>\n",
       "      <td>0.170000</td>\n",
       "    </tr>\n",
       "    <tr>\n",
       "      <th>75%</th>\n",
       "      <td>0.240000</td>\n",
       "      <td>0.110000</td>\n",
       "      <td>0.040000</td>\n",
       "      <td>0.490000</td>\n",
       "    </tr>\n",
       "    <tr>\n",
       "      <th>max</th>\n",
       "      <td>41.360000</td>\n",
       "      <td>28.960000</td>\n",
       "      <td>10.220000</td>\n",
       "      <td>82.530000</td>\n",
       "    </tr>\n",
       "  </tbody>\n",
       "</table>\n",
       "</div>"
      ],
      "text/plain": [
       "           NA_Sales      EU_Sales      JP_Sales  Global_Sales\n",
       "count  16928.000000  16928.000000  16928.000000  16928.000000\n",
       "mean       0.266390      0.146850      0.078170      0.539520\n",
       "std        0.814326      0.504585      0.308756      1.550545\n",
       "min        0.000000      0.000000      0.000000      0.010000\n",
       "25%        0.000000      0.000000      0.000000      0.060000\n",
       "50%        0.080000      0.020000      0.000000      0.170000\n",
       "75%        0.240000      0.110000      0.040000      0.490000\n",
       "max       41.360000     28.960000     10.220000     82.530000"
      ]
     },
     "execution_count": 200,
     "metadata": {},
     "output_type": "execute_result"
    }
   ],
   "source": [
    "# Summary statistics for sales columns\n",
    "df[['NA_Sales', 'EU_Sales', 'JP_Sales', 'Global_Sales']].describe()"
   ]
  },
  {
   "cell_type": "markdown",
   "metadata": {},
   "source": [
    "## Interpreting the Results from .describe()\n",
    "\n",
    "### Count:\n",
    "- The count represents the total number of rows in the dataset. Each column (`NA_Sales`, `EU_Sales`, `JP_Sales`, and `Global_Sales`) has data for all 16,928 rows, meaning there are no missing values.\n",
    "\n",
    "### Mean:\n",
    "The mean shows the average sales:\n",
    "- Example: A mean of `0.266` million units for `NA_Sales` equals approximately 266,000 units.\n",
    "- Similarly, global sales have a mean of `0.539` million units (~539,000 units), indicating the typical sales volume for a game.\n",
    "\n",
    "### Standard Deviation (std):\n",
    "- The standard deviation of `1.55` in `Global_Sales` indicates significant variability, meaning some games have extremely high sales compared to the average.\n",
    "\n",
    "### Minimum (Min):\n",
    "- A minimum of `0` for regional sales means there are games with no sales in specific regions, which is expected if those games were not released in those areas.\n",
    "\n",
    "### Percentiles:\n",
    "- **50th Percentile (Median):** The median `Global_Sales` of `0.17` million units (~170,000 units) shows that more than half of the games sold fewer than this amount globally.\n",
    "- **75th Percentile:** At the 75th percentile, global sales are `0.49` million units (~490,000 units), meaning only 25% of games sold more than this.\n",
    "\n",
    "### Maximum (Max):\n",
    "- The maximum value for `Global_Sales` is `82.53` million units, representing the highest-selling game in the dataset. This is likely an outlier, such as a highly popular blockbuster game. Could be GTA???"
   ]
  },
  {
   "cell_type": "markdown",
   "metadata": {},
   "source": [
    "# Section 3: Data Visualizations"
   ]
  },
  {
   "cell_type": "markdown",
   "metadata": {},
   "source": [
    "## Purpose\n",
    "Visualizations reveal trends in data, this seciton is useful for finding: \n",
    "- Global sales distribution\n",
    "- Genre popularity\n",
    "- Regional sales comparison\n",
    "- Relationships like critic scores vs. global sales"
   ]
  },
  {
   "cell_type": "markdown",
   "metadata": {},
   "source": [
    "### Cumulative Distribution of Global Sales"
   ]
  },
  {
   "cell_type": "code",
   "execution_count": 201,
   "metadata": {},
   "outputs": [
    {
     "data": {
      "text/plain": [
       "Text(0, 0.5, 'Cumulative Percentage')"
      ]
     },
     "execution_count": 201,
     "metadata": {},
     "output_type": "execute_result"
    },
    {
     "data": {
      "image/png": "[encoded data removed]",
      "text/plain": [
       "<Figure size 1000x600 with 1 Axes>"
      ]
     },
     "metadata": {},
     "output_type": "display_data"
    }
   ],
   "source": [
    "import matplotlib.pyplot as plt\n",
    "\n",
    "valid_sales = df[df['Global_Sales'] > 0] # remove zero outlier\n",
    "sorted_sales = valid_sales['Global_Sales'].sort_values()\n",
    "\n",
    "cumulative_sales = sorted_sales.cumsum() / sorted_sales.sum()\n",
    "\n",
    "plt.figure(figsize=(10, 6))\n",
    "plt.plot(sorted_sales.values, cumulative_sales)\n",
    "plt.title('Cumulative Distribution of Global Sales')\n",
    "plt.xlabel('Global Sales (in millions)')\n",
    "plt.ylabel('Cumulative Percentage')\n"
   ]
  },
  {
   "cell_type": "markdown",
   "metadata": {},
   "source": [
    "### Summary: Cumulative Distribution of Global Sales\n",
    "\n",
    "- **80% of total sales** come from games selling **20 million units or fewer**.\n",
    "- The remaining **20% of sales** are dominated by a few blockbuster games selling **over 20 million units**.\n",
    "- Sales are highly concentrated, with most games contributing minimally to the total.\n"
   ]
  },
  {
   "cell_type": "markdown",
   "metadata": {},
   "source": [
    "### Genre Popularity\n",
    "\n",
    "- Determine which genre is most popular in refrence to copies sold. "
   ]
  },
  {
   "cell_type": "code",
   "execution_count": 202,
   "metadata": {},
   "outputs": [
    {
     "data": {
      "text/plain": [
       "([0, 1, 2, 3, 4, 5, 6, 7, 8, 9, 10, 11],\n",
       " [Text(0, 0, 'Action'),\n",
       "  Text(1, 0, 'Sports'),\n",
       "  Text(2, 0, 'Shooter'),\n",
       "  Text(3, 0, 'Role-Playing'),\n",
       "  Text(4, 0, 'Platform'),\n",
       "  Text(5, 0, 'Misc'),\n",
       "  Text(6, 0, 'Racing'),\n",
       "  Text(7, 0, 'Fighting'),\n",
       "  Text(8, 0, 'Simulation'),\n",
       "  Text(9, 0, 'Puzzle'),\n",
       "  Text(10, 0, 'Adventure'),\n",
       "  Text(11, 0, 'Strategy')])"
      ]
     },
     "execution_count": 202,
     "metadata": {},
     "output_type": "execute_result"
    },
    {
     "data": {
      "image/png": "[encoded data removed]",
      "text/plain": [
       "<Figure size 640x480 with 1 Axes>"
      ]
     },
     "metadata": {},
     "output_type": "display_data"
    }
   ],
   "source": [
    "genre_sales = valid_sales.groupby('Genre')['Global_Sales'].sum().sort_values(ascending=False)\n",
    "\n",
    "plt.bar(genre_sales.index, genre_sales.values)\n",
    "plt.title('Genre Popularity by Total Global Sales')\n",
    "plt.xlabel('Genre')\n",
    "plt.ylabel('Total Global Sales (in millions)')\n",
    "plt.xticks(rotation = 50)\n"
   ]
  },
  {
   "cell_type": "markdown",
   "metadata": {},
   "source": [
    "### Summary of Genre Popularity\n",
    "\n",
    "- The bar graph shows the total global sales for each video game genre.\n",
    "- **Action** is the top genre, with massive sales driven by popular franchises like **Assassins's Creed** and **Grand Theft Auto (GTA)**.\n",
    "- **Sports** and **Shooter** genres also rank high, supported by successful titles like FIFA, Madden, and popular first-person shooters.\n",
    "- **Puzzle** and **Adventure** genres contribute less to total sales compared to the top genres.\n",
    "- Overall, the data highlights the dominance of fast-paced, high-energy games in the market."
   ]
  },
  {
   "cell_type": "markdown",
   "metadata": {},
   "source": [
    "### Regional Sales Comparison:"
   ]
  },
  {
   "cell_type": "code",
   "execution_count": 203,
   "metadata": {},
   "outputs": [
    {
     "data": {
      "text/plain": [
       "Text(0, 0.5, 'Total Sales (in millions)')"
      ]
     },
     "execution_count": 203,
     "metadata": {},
     "output_type": "execute_result"
    },
    {
     "data": {
      "image/png": "[encoded data removed]",
      "text/plain": [
       "<Figure size 1000x600 with 1 Axes>"
      ]
     },
     "metadata": {},
     "output_type": "display_data"
    }
   ],
   "source": [
    "region_sales = valid_sales[['NA_Sales', 'EU_Sales', 'JP_Sales', 'Other_Sales']].sum()\n",
    "\n",
    "plt.figure(figsize=(10, 6))\n",
    "plt.bar(region_sales.index, region_sales.values)\n",
    "plt.title('Regional Sales Comparison')\n",
    "plt.xlabel('Regions')\n",
    "plt.ylabel('Total Sales (in millions)')"
   ]
  },
  {
   "cell_type": "markdown",
   "metadata": {},
   "source": [
    "### Summary of Regional Sales Comparison\n",
    "\n",
    "- **North America (NA_Sales):** Highest sales with ~4,500 million units.\n",
    "- **Europe (EU_Sales):** Second largest with ~2,500 million units.\n",
    "- **Japan (JP_Sales):** ~1,200 million units, a smaller but significant market.\n",
    "- **Other regions:** Least sales with ~800 million units.\n",
    "\n",
    "North America leads the market by a large margin, followed by Europe, while Japan and other regions contribute smaller shares.\n"
   ]
  },
  {
   "cell_type": "code",
   "execution_count": 204,
   "metadata": {},
   "outputs": [
    {
     "data": {
      "text/plain": [
       "(0.5, 38.0)"
      ]
     },
     "execution_count": 204,
     "metadata": {},
     "output_type": "execute_result"
    },
    {
     "data": {
      "image/png": "[encoded data removed]",
      "text/plain": [
       "<Figure size 1000x600 with 1 Axes>"
      ]
     },
     "metadata": {},
     "output_type": "display_data"
    }
   ],
   "source": [
    "filtered_data = valid_sales[(valid_sales['Critic_Score'] > 0) & (valid_sales['Global_Sales'] > 0)]\n",
    "\n",
    "plt.figure(figsize=(10, 6))\n",
    "plt.scatter(filtered_data['Critic_Score'], filtered_data['Global_Sales'])\n",
    "plt.title('Critic Scores vs. Global Sales')\n",
    "plt.xlabel('Critic Score')\n",
    "plt.ylabel('Global Sales (in millions)')\n",
    "plt.ylim(0.5, 38) # remove outliers"
   ]
  },
  {
   "cell_type": "markdown",
   "metadata": {},
   "source": [
    "### Summary: Critic Scores vs. Global Sales\n",
    "\n",
    "- Games with **critic scores > 80** tend to achieve higher global sales.\n",
    "- Most games fall between **40–80 critic scores** with sales below 5 million units.\n",
    "- A few outliers have extremely high sales (over 20 million) but are not strictly tied to top critic scores.\n",
    "- While critic scores influence sales, other factors likely contribute to a game's success (likely by massive studios: Activision and Nintendo)."
   ]
  },
  {
   "cell_type": "markdown",
   "metadata": {},
   "source": [
    "### Exploratory Data Analysis (EDA) \n",
    "- Descriptive Statistics:"
   ]
  },
  {
   "cell_type": "code",
   "execution_count": 205,
   "metadata": {},
   "outputs": [
    {
     "data": {
      "text/plain": [
       "count    16928.000000\n",
       "mean         0.539520\n",
       "std          1.550545\n",
       "min          0.010000\n",
       "25%          0.060000\n",
       "50%          0.170000\n",
       "75%          0.490000\n",
       "max         82.530000\n",
       "Name: Global_Sales, dtype: float64"
      ]
     },
     "execution_count": 205,
     "metadata": {},
     "output_type": "execute_result"
    }
   ],
   "source": [
    "valid_sales['Global_Sales'].describe()"
   ]
  },
  {
   "cell_type": "markdown",
   "metadata": {},
   "source": [
    "### EDA Summary\n",
    "\n",
    "- **Global Sales**:\n",
    "  - Average sales are **0.54 million units**, but the data is heavily skewed with a few blockbusters like *Wii Sports* (**82.53 million units**).\n",
    "  - The median sales are much lower at **0.17 million units**, showing most games sell significantly less.\n",
    "- **Regional Sales**: **North America** leads with the highest average sales, followed by **Europe**, while **Japan** has much lower sales.\n",
    "- **Critic Scores**: High critic scores often help sales but don’t guarantee success.\n"
   ]
  },
  {
   "cell_type": "markdown",
   "metadata": {},
   "source": [
    "# Section 4: Observations w/ Questions"
   ]
  },
  {
   "cell_type": "markdown",
   "metadata": {},
   "source": [
    "# Observations:\n",
    "\n",
    "### Global Sales\n",
    "- **80% of games** sell fewer than **20 million units**, with a few blockbuster titles dominating sales.\n",
    "\n",
    "### Genre Popularity\n",
    "- The **action genre** leads globally, driven by franchises like *Assassin's Creed* and *GTA*.\n",
    "- Genres like **puzzle** and **adventure** contribute less to overall sales.\n",
    "\n",
    "### Regional Sales\n",
    "- **North America** dominates with approximately **4,500 million units** in sales while **Europe** and **Japan** follow, but sell significanly less than NA. \n",
    "\n",
    "### Critic Scores\n",
    "- Games with **critic scores above 80** tend to achieve **higher sales**.\n",
    "- However, outliers suggest other factors, such as **publishers** play a role.\n",
    "\n",
    "# Potential Questions for Part II:\n",
    "\n",
    "1. Does **user score** correlate with global sales, and how does this relationship compare to **critic scores**?\n",
    "2. Which **genres** perform better in specific regions, such as **Role-Playing games in Japan**?\n",
    "3. How do **publishers** like **Nintendo** and **Activision** perform globally versus regionally?\n",
    "4. Are specific **platforms** (e.g., consoles, PC, GB/DS) more successful in particular regions?"
   ]
  },
  {
   "cell_type": "markdown",
   "metadata": {},
   "source": [
    "---\n",
    "# Final Project: Part 2\n",
    "\n",
    "This analysis explores the relationship between **User Score** and **Global Sales** in the video game dataset above.\n",
    "\n",
    "# Section 5: Data Science\n",
    "\n",
    "## Question:\n",
    "Does **User Score** significantly affect **Global Sales**?\n",
    "\n",
    "## Approach:\n",
    "To answer this question, we performed hypothesis testing using a z-test and visualized the relationship with a scatter plot and regression line.\n",
    "\n",
    "1. **Hypothesis Testing**:\n",
    "   - Null Hypothesis (H₀): There is no significant relationship between User Score and Global Sales. Mathematically, the slope of the regression line (b₁) is equal to 0: H₀: b₁ = 0.\n",
    "   - Alternative Hypothesis (Hₐ): There is a significant relationship between User Score and Global Sales. Mathematically, the slope of the regression line (b₁) is not equal to 0: Hₐ: b₁ ≠ 0.\n",
    "   - A z-test was performed to calculate the z-statistic and p-value, and the results were compared to the standard significance level of 0.05.\n",
    "\n",
    "2. **Visualization**:\n",
    "   - Use a  scatter plot and box plot to show the data distribution between User Score and Global Sales.\n",
    "   - Use a regression line in the scatter plot to illustrate the relationship, and calculate the correlation coefficient to understand the relationship.\n"
   ]
  },
  {
   "cell_type": "markdown",
   "metadata": {},
   "source": [
    "### Clean the Data\n",
    "\n",
    "- **Removed invalid entries**: Excluded rows where `User_Score` is **tbd**, as these are not numerical values.\n",
    "- **Converted User_Score**: Changed `User_Score` to a float data type to allow numerical calculations.\n",
    "- **Filtered Global Sales**: Remove rows from `Global_Sales` that had 20 million units or greater to remove extremely high sales outliers that affect the data."
   ]
  },
  {
   "cell_type": "code",
   "execution_count": 218,
   "metadata": {},
   "outputs": [
    {
     "name": "stderr",
     "output_type": "stream",
     "text": [
      "C:\\Users\\cjsla\\AppData\\Local\\Temp\\ipykernel_22752\\4122127081.py:2: SettingWithCopyWarning: \n",
      "A value is trying to be set on a copy of a slice from a DataFrame.\n",
      "Try using .loc[row_indexer,col_indexer] = value instead\n",
      "\n",
      "See the caveats in the documentation: https://pandas.pydata.org/pandas-docs/stable/user_guide/indexing.html#returning-a-view-versus-a-copy\n",
      "  df_clean['User_Score'] = df_clean['User_Score'].astype(float)\n"
     ]
    },
    {
     "data": {
      "text/html": [
       "<div>\n",
       "<style scoped>\n",
       "    .dataframe tbody tr th:only-of-type {\n",
       "        vertical-align: middle;\n",
       "    }\n",
       "\n",
       "    .dataframe tbody tr th {\n",
       "        vertical-align: top;\n",
       "    }\n",
       "\n",
       "    .dataframe thead th {\n",
       "        text-align: right;\n",
       "    }\n",
       "</style>\n",
       "<table border=\"1\" class=\"dataframe\">\n",
       "  <thead>\n",
       "    <tr style=\"text-align: right;\">\n",
       "      <th></th>\n",
       "      <th>index</th>\n",
       "      <th>Name</th>\n",
       "      <th>Platform</th>\n",
       "      <th>Year_of_Release</th>\n",
       "      <th>Genre</th>\n",
       "      <th>Publisher</th>\n",
       "      <th>NA_Sales</th>\n",
       "      <th>EU_Sales</th>\n",
       "      <th>JP_Sales</th>\n",
       "      <th>Other_Sales</th>\n",
       "      <th>Global_Sales</th>\n",
       "      <th>Critic_Score</th>\n",
       "      <th>Critic_Count</th>\n",
       "      <th>User_Score</th>\n",
       "      <th>User_Count</th>\n",
       "      <th>Developer</th>\n",
       "      <th>Rating</th>\n",
       "    </tr>\n",
       "  </thead>\n",
       "  <tbody>\n",
       "    <tr>\n",
       "      <th>20</th>\n",
       "      <td>20</td>\n",
       "      <td>Pokemon Diamond/Pokemon Pearl</td>\n",
       "      <td>DS</td>\n",
       "      <td>2006.0</td>\n",
       "      <td>Role-Playing</td>\n",
       "      <td>Nintendo</td>\n",
       "      <td>6.38</td>\n",
       "      <td>4.46</td>\n",
       "      <td>6.04</td>\n",
       "      <td>1.36</td>\n",
       "      <td>18.25</td>\n",
       "      <td>NaN</td>\n",
       "      <td>NaN</td>\n",
       "      <td>NaN</td>\n",
       "      <td>NaN</td>\n",
       "      <td>NaN</td>\n",
       "      <td>NaN</td>\n",
       "    </tr>\n",
       "    <tr>\n",
       "      <th>21</th>\n",
       "      <td>21</td>\n",
       "      <td>Super Mario Land</td>\n",
       "      <td>GB</td>\n",
       "      <td>1989.0</td>\n",
       "      <td>Platform</td>\n",
       "      <td>Nintendo</td>\n",
       "      <td>10.83</td>\n",
       "      <td>2.71</td>\n",
       "      <td>4.18</td>\n",
       "      <td>0.42</td>\n",
       "      <td>18.14</td>\n",
       "      <td>NaN</td>\n",
       "      <td>NaN</td>\n",
       "      <td>NaN</td>\n",
       "      <td>NaN</td>\n",
       "      <td>NaN</td>\n",
       "      <td>NaN</td>\n",
       "    </tr>\n",
       "    <tr>\n",
       "      <th>22</th>\n",
       "      <td>22</td>\n",
       "      <td>Super Mario Bros. 3</td>\n",
       "      <td>NES</td>\n",
       "      <td>1988.0</td>\n",
       "      <td>Platform</td>\n",
       "      <td>Nintendo</td>\n",
       "      <td>9.54</td>\n",
       "      <td>3.44</td>\n",
       "      <td>3.84</td>\n",
       "      <td>0.46</td>\n",
       "      <td>17.28</td>\n",
       "      <td>NaN</td>\n",
       "      <td>NaN</td>\n",
       "      <td>NaN</td>\n",
       "      <td>NaN</td>\n",
       "      <td>NaN</td>\n",
       "      <td>NaN</td>\n",
       "    </tr>\n",
       "    <tr>\n",
       "      <th>23</th>\n",
       "      <td>23</td>\n",
       "      <td>Grand Theft Auto V</td>\n",
       "      <td>X360</td>\n",
       "      <td>2013.0</td>\n",
       "      <td>Action</td>\n",
       "      <td>Take-Two Interactive</td>\n",
       "      <td>9.66</td>\n",
       "      <td>5.14</td>\n",
       "      <td>0.06</td>\n",
       "      <td>1.41</td>\n",
       "      <td>16.27</td>\n",
       "      <td>97.0</td>\n",
       "      <td>58.0</td>\n",
       "      <td>8.1</td>\n",
       "      <td>3711.0</td>\n",
       "      <td>Rockstar North</td>\n",
       "      <td>M</td>\n",
       "    </tr>\n",
       "    <tr>\n",
       "      <th>24</th>\n",
       "      <td>24</td>\n",
       "      <td>Grand Theft Auto: Vice City</td>\n",
       "      <td>PS2</td>\n",
       "      <td>2002.0</td>\n",
       "      <td>Action</td>\n",
       "      <td>Take-Two Interactive</td>\n",
       "      <td>8.41</td>\n",
       "      <td>5.49</td>\n",
       "      <td>0.47</td>\n",
       "      <td>1.78</td>\n",
       "      <td>16.15</td>\n",
       "      <td>95.0</td>\n",
       "      <td>62.0</td>\n",
       "      <td>8.7</td>\n",
       "      <td>730.0</td>\n",
       "      <td>Rockstar North</td>\n",
       "      <td>M</td>\n",
       "    </tr>\n",
       "    <tr>\n",
       "      <th>...</th>\n",
       "      <td>...</td>\n",
       "      <td>...</td>\n",
       "      <td>...</td>\n",
       "      <td>...</td>\n",
       "      <td>...</td>\n",
       "      <td>...</td>\n",
       "      <td>...</td>\n",
       "      <td>...</td>\n",
       "      <td>...</td>\n",
       "      <td>...</td>\n",
       "      <td>...</td>\n",
       "      <td>...</td>\n",
       "      <td>...</td>\n",
       "      <td>...</td>\n",
       "      <td>...</td>\n",
       "      <td>...</td>\n",
       "      <td>...</td>\n",
       "    </tr>\n",
       "    <tr>\n",
       "      <th>16923</th>\n",
       "      <td>16923</td>\n",
       "      <td>Aliens: Colonial Marines</td>\n",
       "      <td>PS3</td>\n",
       "      <td>2013.0</td>\n",
       "      <td>Shooter</td>\n",
       "      <td>Sega</td>\n",
       "      <td>0.20</td>\n",
       "      <td>0.29</td>\n",
       "      <td>0.00</td>\n",
       "      <td>0.11</td>\n",
       "      <td>0.60</td>\n",
       "      <td>43.0</td>\n",
       "      <td>25.0</td>\n",
       "      <td>3.6</td>\n",
       "      <td>295.0</td>\n",
       "      <td>Gearbox Software</td>\n",
       "      <td>M</td>\n",
       "    </tr>\n",
       "    <tr>\n",
       "      <th>16924</th>\n",
       "      <td>16924</td>\n",
       "      <td>Backyard Wrestling: Don't Try This at Home</td>\n",
       "      <td>PS2</td>\n",
       "      <td>2003.0</td>\n",
       "      <td>Fighting</td>\n",
       "      <td>Eidos Interactive</td>\n",
       "      <td>0.30</td>\n",
       "      <td>0.23</td>\n",
       "      <td>0.00</td>\n",
       "      <td>0.08</td>\n",
       "      <td>0.60</td>\n",
       "      <td>51.0</td>\n",
       "      <td>24.0</td>\n",
       "      <td>7.8</td>\n",
       "      <td>29.0</td>\n",
       "      <td>Paradox Development</td>\n",
       "      <td>M</td>\n",
       "    </tr>\n",
       "    <tr>\n",
       "      <th>16925</th>\n",
       "      <td>16925</td>\n",
       "      <td>Yakuza: Dead Souls</td>\n",
       "      <td>PS3</td>\n",
       "      <td>2011.0</td>\n",
       "      <td>Shooter</td>\n",
       "      <td>Sega</td>\n",
       "      <td>0.09</td>\n",
       "      <td>0.06</td>\n",
       "      <td>0.42</td>\n",
       "      <td>0.03</td>\n",
       "      <td>0.60</td>\n",
       "      <td>64.0</td>\n",
       "      <td>55.0</td>\n",
       "      <td>7.4</td>\n",
       "      <td>69.0</td>\n",
       "      <td>Ryu ga Gotoku Studios</td>\n",
       "      <td>M</td>\n",
       "    </tr>\n",
       "    <tr>\n",
       "      <th>16926</th>\n",
       "      <td>16926</td>\n",
       "      <td>Fight Night Round 2</td>\n",
       "      <td>XB</td>\n",
       "      <td>2005.0</td>\n",
       "      <td>Fighting</td>\n",
       "      <td>Electronic Arts</td>\n",
       "      <td>0.42</td>\n",
       "      <td>0.16</td>\n",
       "      <td>0.00</td>\n",
       "      <td>0.02</td>\n",
       "      <td>0.60</td>\n",
       "      <td>88.0</td>\n",
       "      <td>48.0</td>\n",
       "      <td>8.8</td>\n",
       "      <td>27.0</td>\n",
       "      <td>EA Sports</td>\n",
       "      <td>T</td>\n",
       "    </tr>\n",
       "    <tr>\n",
       "      <th>16927</th>\n",
       "      <td>16927</td>\n",
       "      <td>MonHun Nikki: Poka Poka Ailu Mura</td>\n",
       "      <td>PSP</td>\n",
       "      <td>2010.0</td>\n",
       "      <td>Role-Playing</td>\n",
       "      <td>Capcom</td>\n",
       "      <td>0.00</td>\n",
       "      <td>0.00</td>\n",
       "      <td>0.60</td>\n",
       "      <td>0.00</td>\n",
       "      <td>0.60</td>\n",
       "      <td>NaN</td>\n",
       "      <td>NaN</td>\n",
       "      <td>NaN</td>\n",
       "      <td>NaN</td>\n",
       "      <td>NaN</td>\n",
       "      <td>NaN</td>\n",
       "    </tr>\n",
       "  </tbody>\n",
       "</table>\n",
       "<p>14467 rows × 17 columns</p>\n",
       "</div>"
      ],
      "text/plain": [
       "       index                                        Name Platform  \\\n",
       "20        20               Pokemon Diamond/Pokemon Pearl       DS   \n",
       "21        21                            Super Mario Land       GB   \n",
       "22        22                         Super Mario Bros. 3      NES   \n",
       "23        23                          Grand Theft Auto V     X360   \n",
       "24        24                 Grand Theft Auto: Vice City      PS2   \n",
       "...      ...                                         ...      ...   \n",
       "16923  16923                    Aliens: Colonial Marines      PS3   \n",
       "16924  16924  Backyard Wrestling: Don't Try This at Home      PS2   \n",
       "16925  16925                          Yakuza: Dead Souls      PS3   \n",
       "16926  16926                         Fight Night Round 2       XB   \n",
       "16927  16927           MonHun Nikki: Poka Poka Ailu Mura      PSP   \n",
       "\n",
       "       Year_of_Release         Genre             Publisher  NA_Sales  \\\n",
       "20              2006.0  Role-Playing              Nintendo      6.38   \n",
       "21              1989.0      Platform              Nintendo     10.83   \n",
       "22              1988.0      Platform              Nintendo      9.54   \n",
       "23              2013.0        Action  Take-Two Interactive      9.66   \n",
       "24              2002.0        Action  Take-Two Interactive      8.41   \n",
       "...                ...           ...                   ...       ...   \n",
       "16923           2013.0       Shooter                  Sega      0.20   \n",
       "16924           2003.0      Fighting     Eidos Interactive      0.30   \n",
       "16925           2011.0       Shooter                  Sega      0.09   \n",
       "16926           2005.0      Fighting       Electronic Arts      0.42   \n",
       "16927           2010.0  Role-Playing                Capcom      0.00   \n",
       "\n",
       "       EU_Sales  JP_Sales  Other_Sales  Global_Sales  Critic_Score  \\\n",
       "20         4.46      6.04         1.36         18.25           NaN   \n",
       "21         2.71      4.18         0.42         18.14           NaN   \n",
       "22         3.44      3.84         0.46         17.28           NaN   \n",
       "23         5.14      0.06         1.41         16.27          97.0   \n",
       "24         5.49      0.47         1.78         16.15          95.0   \n",
       "...         ...       ...          ...           ...           ...   \n",
       "16923      0.29      0.00         0.11          0.60          43.0   \n",
       "16924      0.23      0.00         0.08          0.60          51.0   \n",
       "16925      0.06      0.42         0.03          0.60          64.0   \n",
       "16926      0.16      0.00         0.02          0.60          88.0   \n",
       "16927      0.00      0.60         0.00          0.60           NaN   \n",
       "\n",
       "       Critic_Count  User_Score  User_Count              Developer Rating  \n",
       "20              NaN         NaN         NaN                    NaN    NaN  \n",
       "21              NaN         NaN         NaN                    NaN    NaN  \n",
       "22              NaN         NaN         NaN                    NaN    NaN  \n",
       "23             58.0         8.1      3711.0         Rockstar North      M  \n",
       "24             62.0         8.7       730.0         Rockstar North      M  \n",
       "...             ...         ...         ...                    ...    ...  \n",
       "16923          25.0         3.6       295.0       Gearbox Software      M  \n",
       "16924          24.0         7.8        29.0    Paradox Development      M  \n",
       "16925          55.0         7.4        69.0  Ryu ga Gotoku Studios      M  \n",
       "16926          48.0         8.8        27.0              EA Sports      T  \n",
       "16927           NaN         NaN         NaN                    NaN    NaN  \n",
       "\n",
       "[14467 rows x 17 columns]"
      ]
     },
     "execution_count": 218,
     "metadata": {},
     "output_type": "execute_result"
    }
   ],
   "source": [
    "df_clean = df[df['User_Score'] != 'tbd'] \n",
    "df_clean['User_Score'] = df_clean['User_Score'].astype(float)  \n",
    "\n",
    "df_clean = df_clean[\n",
    "    (df_clean['Global_Sales'] <= 20)  \n",
    "]\n",
    "df_clean\n"
   ]
  },
  {
   "cell_type": "markdown",
   "metadata": {},
   "source": [
    "## Hypothesis Testing"
   ]
  },
  {
   "cell_type": "code",
   "execution_count": 219,
   "metadata": {},
   "outputs": [],
   "source": [
    "import numpy as np\n",
    "from scipy.stats import norm\n",
    "\n",
    "mean_user_score = df_clean['User_Score'].mean()\n",
    "std_user_score = df_clean['User_Score'].std()\n",
    "n = len(df_clean['User_Score'])\n",
    "hypothesis_test_value = 0  \n",
    "\n",
    "standard_error = std_user_score / (n ** 0.5)\n",
    "\n",
    "z_stat = (mean_user_score - hypothesis_test_value) / standard_error\n",
    "\n",
    "p_value = norm.cdf(-abs(z_stat)) * 2\n"
   ]
  },
  {
   "cell_type": "code",
   "execution_count": 220,
   "metadata": {},
   "outputs": [
    {
     "data": {
      "text/plain": [
       "np.float64(7.124594419208306)"
      ]
     },
     "execution_count": 220,
     "metadata": {},
     "output_type": "execute_result"
    }
   ],
   "source": [
    "mean_user_score"
   ]
  },
  {
   "cell_type": "code",
   "execution_count": 221,
   "metadata": {},
   "outputs": [
    {
     "data": {
      "text/plain": [
       "np.float64(1.4994906264567909)"
      ]
     },
     "execution_count": 221,
     "metadata": {},
     "output_type": "execute_result"
    }
   ],
   "source": [
    "std_user_score"
   ]
  },
  {
   "cell_type": "code",
   "execution_count": 222,
   "metadata": {},
   "outputs": [
    {
     "data": {
      "text/plain": [
       "14467"
      ]
     },
     "execution_count": 222,
     "metadata": {},
     "output_type": "execute_result"
    }
   ],
   "source": [
    "n"
   ]
  },
  {
   "cell_type": "code",
   "execution_count": 223,
   "metadata": {},
   "outputs": [
    {
     "data": {
      "text/plain": [
       "np.float64(0.012466786284780583)"
      ]
     },
     "execution_count": 223,
     "metadata": {},
     "output_type": "execute_result"
    }
   ],
   "source": [
    "standard_error"
   ]
  },
  {
   "cell_type": "code",
   "execution_count": 224,
   "metadata": {},
   "outputs": [
    {
     "data": {
      "text/plain": [
       "np.float64(571.4860475234095)"
      ]
     },
     "execution_count": 224,
     "metadata": {},
     "output_type": "execute_result"
    }
   ],
   "source": [
    "z_stat"
   ]
  },
  {
   "cell_type": "code",
   "execution_count": 225,
   "metadata": {},
   "outputs": [
    {
     "data": {
      "text/plain": [
       "np.float64(0.0)"
      ]
     },
     "execution_count": 225,
     "metadata": {},
     "output_type": "execute_result"
    }
   ],
   "source": [
    "p_value"
   ]
  },
  {
   "cell_type": "markdown",
   "metadata": {},
   "source": [
    "## Hypothesis Test Results:\n",
    "\n",
    "1. **Mean of User_Score**: `mean_user_score` = 7.12\n",
    "2. **Standard Deviation of User_Score**: `std_user_score` = 1.499\n",
    "3. **Sample Size**: `n` = 14467\n",
    "4. **Standard Error**: `standard_error` = 0.0124\n",
    "5. **Z-Statistic**: `z_stat` = 571.486\n",
    "6. **P-Value**: `p_value` = 0\n",
    "\n",
    "### Interpretation:\n",
    "- If the p-value is less than 0.05, we reject the null hypothesis, indicating a statistically significant relationship.\n",
    "- If the p-value is greater than or equal to 0.05, we fail to reject the null hypothesis, indicating no significant relationship.\n"
   ]
  },
  {
   "cell_type": "markdown",
   "metadata": {},
   "source": [
    "### Calculate Correlation\n",
    "The correlation coefficient measures how strongly **User Score** and **Global Sales** are related. It gives a value between -1 and 1:\n",
    "\n",
    "- A positive number means that as one value increases, the other tends to increase too (e.g., higher User Scores might mean higher sales).\n",
    "- A negative number means that as one value increases, the other tends to decrease (e.g., higher User Scores might mean lower sales).\n",
    "- A number close to 0 means there’s no strong relationship between the two.\n",
    "\n",
    "By calculating the correlation, we can understand whether there is any meaningful connection between User Score and Global Sales in the dataset.\n"
   ]
  },
  {
   "cell_type": "code",
   "execution_count": 226,
   "metadata": {},
   "outputs": [
    {
     "data": {
      "text/plain": [
       "np.float64(0.11179321058826332)"
      ]
     },
     "execution_count": 226,
     "metadata": {},
     "output_type": "execute_result"
    }
   ],
   "source": [
    "correlation = df_clean['User_Score'].corr(df_clean['Global_Sales'])\n",
    "correlation\n"
   ]
  },
  {
   "cell_type": "markdown",
   "metadata": {},
   "source": [
    "### Correlation Results:\n",
    "The correlation coefficient, r = `correlation`, indicates the strength and direction of the linear relationship between User Score and Global Sales. A correlation value close to 0 (0.11) implies a weak relationship, this idea is consistent with the other hypothesis test results.\n"
   ]
  },
  {
   "cell_type": "markdown",
   "metadata": {},
   "source": [
    "### Section 6: Scatter Plot with Regression Line"
   ]
  },
  {
   "cell_type": "code",
   "execution_count": 227,
   "metadata": {},
   "outputs": [
    {
     "data": {
      "text/plain": [
       "Text(0, 0.5, 'Global Sales')"
      ]
     },
     "execution_count": 227,
     "metadata": {},
     "output_type": "execute_result"
    },
    {
     "data": {
      "image/png": "[encoded data removed]",
      "text/plain": [
       "<Figure size 640x480 with 1 Axes>"
      ]
     },
     "metadata": {},
     "output_type": "display_data"
    }
   ],
   "source": [
    "import matplotlib.pyplot as plt\n",
    "\n",
    "b1 = correlation * (df_clean['Global_Sales'].std() / df_clean['User_Score'].std())\n",
    "b0 = df_clean['Global_Sales'].mean() - b1 * df_clean['User_Score'].mean()\n",
    "\n",
    "df_clean['Predicted_Global_Sales'] = b0 + b1 * df_clean['User_Score']\n",
    "\n",
    "plt.scatter(df_clean['User_Score'], df_clean['Global_Sales'], label='Data', alpha=0.6)\n",
    "plt.plot(df_clean['User_Score'], df_clean['Predicted_Global_Sales'], color='red') \n",
    "plt.title('User Score vs Global Sales')\n",
    "plt.xlabel('User Score')\n",
    "plt.ylabel('Global Sales')\n"
   ]
  },
  {
   "cell_type": "markdown",
   "metadata": {},
   "source": [
    "### Observations:\n",
    "- The regression line is nearly flat, showing the weak relationship between User Score and Global Sales.\n",
    "- The low correlation value, r = `correlation`, aligns with the hypothesis test results and suggests that User Score is not a strong indicator of Global Sales.\n"
   ]
  },
  {
   "cell_type": "code",
   "execution_count": 228,
   "metadata": {},
   "outputs": [
    {
     "name": "stderr",
     "output_type": "stream",
     "text": [
      "C:\\Users\\cjsla\\AppData\\Local\\Temp\\ipykernel_22752\\3078548537.py:2: MatplotlibDeprecationWarning: The 'labels' parameter of boxplot() has been renamed 'tick_labels' since Matplotlib 3.9; support for the old name will be dropped in 3.11.\n",
      "  plt.boxplot(\n"
     ]
    },
    {
     "data": {
      "image/png": "[encoded data removed]",
      "text/plain": [
       "<Figure size 800x400 with 1 Axes>"
      ]
     },
     "metadata": {},
     "output_type": "display_data"
    }
   ],
   "source": [
    "plt.figure(figsize=(8, 4)) \n",
    "plt.boxplot(\n",
    "    df_clean['Global_Sales'],\n",
    "    vert=False,\n",
    "    labels=['Global Sales']\n",
    ")\n",
    "plt.title('Distribution of Global Sales')\n",
    "plt.xlabel('Sales (in millions)')\n",
    "plt.xlim(0, 10) \n",
    "plt.grid(axis='x', linestyle='--', alpha=0.7) \n",
    "plt.show()\n"
   ]
  },
  {
   "cell_type": "markdown",
   "metadata": {},
   "source": [
    "# Box Plot Data Visualization | Why was the Linear Regression so flat? \n",
    "\n",
    "This box plot shows the distribution of **Global Sales** across all games, providing a clearer visual of the range compared to the scatter plot. \n",
    "\n",
    "### Observations:\n",
    "1. Most games' sales fall below 5 million units, with a few significant outliers. Removing this outlier will affect the visual but would ethically answer the hypothesis since most of the important data would be removed.\n",
    "2. The box plot reveals that the majority of games underperform globaly compared to the top-selling games, which skew the overall average.\n",
    "3. The distribution is **positively skewed**, with the bulk of sales concentrated near the lower range and a small number of games achieving exceptionally high sales.\n",
    "4. The outliers in the plot represent blockbuster games (GTA & WII), which are significantly more successful than the majority of games. These outliers may distort broader trends and should be carefully considered in analysis. Even after removing these outliers, the data is concentrated on the lower end which causes a flat line. \n"
   ]
  },
  {
   "cell_type": "markdown",
   "metadata": {},
   "source": [
    "# Section 7: Overall Summary\n",
    "\n",
    "This project explored the relationship between **User Score** and **Global Sales** in this video game dataset. Using hypothesis testing and regression analysis, the following trends were identified:\n",
    "\n",
    "1. The hypothesis test yielded a **z-statistic** of 571.48 and a **p-value** of 0. Since the p-value is less than 0.05, we rejected the null hypothesis, indicating a statistically significant relationship between User Score and Global Sales.\n",
    "2. The correlation coefficient (r = 0.11) confirmed that while the relationship is statistically significant, it is extremely weak and does not explain much of the variation in sales.\n",
    "3. The box plot revealed that most games had sales under 5 million units, with a few significant outliers skewing the overall average.\n",
    "\n",
    "### Conclusion:\n",
    "\n",
    "The analysis demonstrates that while the relationship between **User Score and Global Sales** is statistically significant, it is not practically meaningful due to the weak correlation (r = 0.11). This suggests that **User Score is not a strong indicator of Global Sales**, and other factors, such as game genre, platform, or marketing budgets, likely play a more significant role.\n",
    "\n",
    "The results presented highlight the importance of exploring multiple variables to better understand sales performance. Future research could benefit from including additional data points, such as marketing budgets, genre-specific trends, or platform-specific sales, to provide a clearer and more comprehensive understanding of what drives global sales in the video game industry.\n"
   ]
  }
 ],
 "metadata": {
  "kernelspec": {
   "display_name": "Python 3",
   "language": "python",
   "name": "python3"
  },
  "language_info": {
   "codemirror_mode": {
    "name": "ipython",
    "version": 3
   },
   "file_extension": ".py",
   "mimetype": "text/x-python",
   "name": "python",
   "nbconvert_exporter": "python",
   "pygments_lexer": "ipython3",
   "version": "3.12.8"
  }
 },
 "nbformat": 4,
 "nbformat_minor": 2
}
