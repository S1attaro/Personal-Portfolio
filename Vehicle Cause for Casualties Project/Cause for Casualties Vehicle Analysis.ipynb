{
 "cells": [
  {
   "cell_type": "markdown",
   "metadata": {},
   "source": [
    "# STAT207 Mini-Project #1 - Cause for Casualties Analysis\n",
    "\n",
    "Connor Slattery"
   ]
  },
  {
   "cell_type": "code",
   "execution_count": 114,
   "metadata": {},
   "outputs": [],
   "source": [
    "#Imports here\n",
    "import pandas as pd \n",
    "import seaborn as sns \n",
    "import numpy as np \n",
    "import matplotlib.pyplot as plt"
   ]
  },
  {
   "cell_type": "markdown",
   "metadata": {},
   "source": [
    "## 1. Introduction"
   ]
  },
  {
   "cell_type": "markdown",
   "metadata": {},
   "source": [
    "## Research Question: \n",
    "How does the relationship between Casualties and Weather Conditions change when categorized by Cause in this dataset? \n",
    "\n",
    "## Research Motivation: \n",
    "I wanted to explore the correlation between weather conditions, causes of accidents, and the number of casualties. Investigating the connection between these variables helps car manufacturers, governments, urban planners, insurers, and drivers better understand accident patterns/trends and create better safety features on the road, in vehicles, and in creating law. Investigating these connections, I wanted to determine if there are specific weather conditions and causes of accidents that result in higher number of casualties."
   ]
  },
  {
   "cell_type": "markdown",
   "metadata": {},
   "source": [
    "## 2. Dataset Discussion"
   ]
  },
  {
   "cell_type": "markdown",
   "metadata": {},
   "source": [
    "The dataset I downloaded from Kaggle contains 10,000 traffic accident records. I selected three specific columns to analyze: Casualties, Weather Condition, and Cause. These variables allowed me to investigate the severity of accidents between different weather conditions and consider the 'cause' of the accident.\n",
    "\n",
    "Where to find dataset: https://www.kaggle.com/datasets/adilshamim8/global-traffic-accidents-dataset/data \n",
    "\n",
    "I recently downloaded it on aprox. 2/14/2025"
   ]
  },
  {
   "cell_type": "markdown",
   "metadata": {},
   "source": [
    "### Original Dataset Information: \n",
    "1. Every row is a reported traffic accident from around the world, with information about when and where the accident occurred, road conditions, weather, number of vehicles involved, casualties, and cause.\n",
    "2. From the website - \"The dataset is synthetically generated based on real-world accident trends from global reports. It simulates diverse geographic locations, weather conditions, and accident causes, making it ideal for academic and research purposes.\"\n",
    "3. No, this dataset does not include all possible traffic observations. Possible missing observations include age and driving history. \n",
    "4. Since this dataset does not include age and driving history, the analysis results should be carefully interpreted. Since these variables are very important, researchers or policymakers using this data to enhance road safety should note its limitations and add additional information to complement their analysis. \n",
    "5. - Casualties: The total number of injuries and fatalities caused by the accident.\n",
    "    - Cause: The primary reason for the accident (e.g., Speeding, Drunk Driving, Distracted Driving)\n",
    "    - Weather Condition: The weather during the accident (e.g., Clear, Rain, Fog, Snow)."
   ]
  },
  {
   "cell_type": "code",
   "execution_count": 115,
   "metadata": {},
   "outputs": [
    {
     "data": {
      "text/html": [
       "<div>\n",
       "<style scoped>\n",
       "    .dataframe tbody tr th:only-of-type {\n",
       "        vertical-align: middle;\n",
       "    }\n",
       "\n",
       "    .dataframe tbody tr th {\n",
       "        vertical-align: top;\n",
       "    }\n",
       "\n",
       "    .dataframe thead th {\n",
       "        text-align: right;\n",
       "    }\n",
       "</style>\n",
       "<table border=\"1\" class=\"dataframe\">\n",
       "  <thead>\n",
       "    <tr style=\"text-align: right;\">\n",
       "      <th></th>\n",
       "      <th>Accident ID</th>\n",
       "      <th>Date</th>\n",
       "      <th>Time</th>\n",
       "      <th>Location</th>\n",
       "      <th>Latitude</th>\n",
       "      <th>Longitude</th>\n",
       "      <th>Weather Condition</th>\n",
       "      <th>Road Condition</th>\n",
       "      <th>Vehicles Involved</th>\n",
       "      <th>Casualties</th>\n",
       "      <th>Cause</th>\n",
       "    </tr>\n",
       "  </thead>\n",
       "  <tbody>\n",
       "    <tr>\n",
       "      <th>0</th>\n",
       "      <td>b0dd6f57</td>\n",
       "      <td>2023-04-19</td>\n",
       "      <td>06:39</td>\n",
       "      <td>Mumbai, India</td>\n",
       "      <td>13.488432</td>\n",
       "      <td>-73.290682</td>\n",
       "      <td>Snow</td>\n",
       "      <td>Snowy</td>\n",
       "      <td>5</td>\n",
       "      <td>7</td>\n",
       "      <td>Reckless Driving</td>\n",
       "    </tr>\n",
       "    <tr>\n",
       "      <th>1</th>\n",
       "      <td>debfad09</td>\n",
       "      <td>2023-01-17</td>\n",
       "      <td>02:47</td>\n",
       "      <td>São Paulo, Brazil</td>\n",
       "      <td>-37.798317</td>\n",
       "      <td>-32.244242</td>\n",
       "      <td>Clear</td>\n",
       "      <td>Icy</td>\n",
       "      <td>4</td>\n",
       "      <td>1</td>\n",
       "      <td>Drunk Driving</td>\n",
       "    </tr>\n",
       "    <tr>\n",
       "      <th>2</th>\n",
       "      <td>6d69aa36</td>\n",
       "      <td>2024-04-09</td>\n",
       "      <td>02:55</td>\n",
       "      <td>Sydney, Australia</td>\n",
       "      <td>33.767869</td>\n",
       "      <td>104.869018</td>\n",
       "      <td>Rain</td>\n",
       "      <td>Snowy</td>\n",
       "      <td>1</td>\n",
       "      <td>7</td>\n",
       "      <td>Reckless Driving</td>\n",
       "    </tr>\n",
       "    <tr>\n",
       "      <th>3</th>\n",
       "      <td>425bb1f0</td>\n",
       "      <td>2023-10-10</td>\n",
       "      <td>11:23</td>\n",
       "      <td>Tokyo, Japan</td>\n",
       "      <td>-0.378031</td>\n",
       "      <td>-165.825855</td>\n",
       "      <td>Storm</td>\n",
       "      <td>Wet</td>\n",
       "      <td>4</td>\n",
       "      <td>0</td>\n",
       "      <td>Drunk Driving</td>\n",
       "    </tr>\n",
       "    <tr>\n",
       "      <th>4</th>\n",
       "      <td>90d5cf62</td>\n",
       "      <td>2023-01-02</td>\n",
       "      <td>12:07</td>\n",
       "      <td>Beijing, China</td>\n",
       "      <td>41.254879</td>\n",
       "      <td>-30.776959</td>\n",
       "      <td>Storm</td>\n",
       "      <td>Snowy</td>\n",
       "      <td>3</td>\n",
       "      <td>9</td>\n",
       "      <td>Reckless Driving</td>\n",
       "    </tr>\n",
       "  </tbody>\n",
       "</table>\n",
       "</div>"
      ],
      "text/plain": [
       "  Accident ID        Date   Time           Location   Latitude   Longitude  \\\n",
       "0    b0dd6f57  2023-04-19  06:39      Mumbai, India  13.488432  -73.290682   \n",
       "1    debfad09  2023-01-17  02:47  São Paulo, Brazil -37.798317  -32.244242   \n",
       "2    6d69aa36  2024-04-09  02:55  Sydney, Australia  33.767869  104.869018   \n",
       "3    425bb1f0  2023-10-10  11:23       Tokyo, Japan  -0.378031 -165.825855   \n",
       "4    90d5cf62  2023-01-02  12:07     Beijing, China  41.254879  -30.776959   \n",
       "\n",
       "  Weather Condition Road Condition  Vehicles Involved  Casualties  \\\n",
       "0              Snow          Snowy                  5           7   \n",
       "1             Clear            Icy                  4           1   \n",
       "2              Rain          Snowy                  1           7   \n",
       "3             Storm            Wet                  4           0   \n",
       "4             Storm          Snowy                  3           9   \n",
       "\n",
       "              Cause  \n",
       "0  Reckless Driving  \n",
       "1     Drunk Driving  \n",
       "2  Reckless Driving  \n",
       "3     Drunk Driving  \n",
       "4  Reckless Driving  "
      ]
     },
     "execution_count": 115,
     "metadata": {},
     "output_type": "execute_result"
    }
   ],
   "source": [
    "df = pd.read_csv('global_traffic_accidents.csv')\n",
    "df.head()"
   ]
  },
  {
   "cell_type": "code",
   "execution_count": 116,
   "metadata": {},
   "outputs": [
    {
     "data": {
      "text/plain": [
       "10000"
      ]
     },
     "execution_count": 116,
     "metadata": {},
     "output_type": "execute_result"
    }
   ],
   "source": [
    "df.shape[0]"
   ]
  },
  {
   "cell_type": "markdown",
   "metadata": {},
   "source": [
    "## 3. Dataset Cleaning"
   ]
  },
  {
   "cell_type": "markdown",
   "metadata": {},
   "source": [
    "After choosing the individual columns, I confirmed that no missing values existed. I also looked at unique values for each variable and found them clearly defined. There were no obvious outliers in each column's boxplot, which indicates that the dataset is clean and ready for analysis."
   ]
  },
  {
   "cell_type": "code",
   "execution_count": 117,
   "metadata": {},
   "outputs": [
    {
     "data": {
      "text/html": [
       "<div>\n",
       "<style scoped>\n",
       "    .dataframe tbody tr th:only-of-type {\n",
       "        vertical-align: middle;\n",
       "    }\n",
       "\n",
       "    .dataframe tbody tr th {\n",
       "        vertical-align: top;\n",
       "    }\n",
       "\n",
       "    .dataframe thead th {\n",
       "        text-align: right;\n",
       "    }\n",
       "</style>\n",
       "<table border=\"1\" class=\"dataframe\">\n",
       "  <thead>\n",
       "    <tr style=\"text-align: right;\">\n",
       "      <th></th>\n",
       "      <th>Casualties</th>\n",
       "      <th>Weather Condition</th>\n",
       "      <th>Cause</th>\n",
       "    </tr>\n",
       "  </thead>\n",
       "  <tbody>\n",
       "    <tr>\n",
       "      <th>0</th>\n",
       "      <td>7</td>\n",
       "      <td>Snow</td>\n",
       "      <td>Reckless Driving</td>\n",
       "    </tr>\n",
       "    <tr>\n",
       "      <th>1</th>\n",
       "      <td>1</td>\n",
       "      <td>Clear</td>\n",
       "      <td>Drunk Driving</td>\n",
       "    </tr>\n",
       "    <tr>\n",
       "      <th>2</th>\n",
       "      <td>7</td>\n",
       "      <td>Rain</td>\n",
       "      <td>Reckless Driving</td>\n",
       "    </tr>\n",
       "    <tr>\n",
       "      <th>3</th>\n",
       "      <td>0</td>\n",
       "      <td>Storm</td>\n",
       "      <td>Drunk Driving</td>\n",
       "    </tr>\n",
       "    <tr>\n",
       "      <th>4</th>\n",
       "      <td>9</td>\n",
       "      <td>Storm</td>\n",
       "      <td>Reckless Driving</td>\n",
       "    </tr>\n",
       "    <tr>\n",
       "      <th>...</th>\n",
       "      <td>...</td>\n",
       "      <td>...</td>\n",
       "      <td>...</td>\n",
       "    </tr>\n",
       "    <tr>\n",
       "      <th>9995</th>\n",
       "      <td>10</td>\n",
       "      <td>Storm</td>\n",
       "      <td>Distracted Driving</td>\n",
       "    </tr>\n",
       "    <tr>\n",
       "      <th>9996</th>\n",
       "      <td>9</td>\n",
       "      <td>Storm</td>\n",
       "      <td>Weather Conditions</td>\n",
       "    </tr>\n",
       "    <tr>\n",
       "      <th>9997</th>\n",
       "      <td>3</td>\n",
       "      <td>Snow</td>\n",
       "      <td>Weather Conditions</td>\n",
       "    </tr>\n",
       "    <tr>\n",
       "      <th>9998</th>\n",
       "      <td>3</td>\n",
       "      <td>Storm</td>\n",
       "      <td>Drunk Driving</td>\n",
       "    </tr>\n",
       "    <tr>\n",
       "      <th>9999</th>\n",
       "      <td>4</td>\n",
       "      <td>Storm</td>\n",
       "      <td>Mechanical Failure</td>\n",
       "    </tr>\n",
       "  </tbody>\n",
       "</table>\n",
       "<p>10000 rows × 3 columns</p>\n",
       "</div>"
      ],
      "text/plain": [
       "      Casualties Weather Condition               Cause\n",
       "0              7              Snow    Reckless Driving\n",
       "1              1             Clear       Drunk Driving\n",
       "2              7              Rain    Reckless Driving\n",
       "3              0             Storm       Drunk Driving\n",
       "4              9             Storm    Reckless Driving\n",
       "...          ...               ...                 ...\n",
       "9995          10             Storm  Distracted Driving\n",
       "9996           9             Storm  Weather Conditions\n",
       "9997           3              Snow  Weather Conditions\n",
       "9998           3             Storm       Drunk Driving\n",
       "9999           4             Storm  Mechanical Failure\n",
       "\n",
       "[10000 rows x 3 columns]"
      ]
     },
     "execution_count": 117,
     "metadata": {},
     "output_type": "execute_result"
    }
   ],
   "source": [
    "selected_columns = df[['Casualties', 'Weather Condition', 'Cause']]\n",
    "selected_columns"
   ]
  },
  {
   "cell_type": "code",
   "execution_count": 118,
   "metadata": {},
   "outputs": [
    {
     "data": {
      "text/plain": [
       "10000"
      ]
     },
     "execution_count": 118,
     "metadata": {},
     "output_type": "execute_result"
    }
   ],
   "source": [
    "original_rows = selected_columns.shape[0]\n",
    "original_rows"
   ]
  },
  {
   "cell_type": "code",
   "execution_count": 119,
   "metadata": {},
   "outputs": [
    {
     "data": {
      "text/plain": [
       "Casualties            int64\n",
       "Weather Condition    object\n",
       "Cause                object\n",
       "dtype: object"
      ]
     },
     "execution_count": 119,
     "metadata": {},
     "output_type": "execute_result"
    }
   ],
   "source": [
    "selected_columns.dtypes"
   ]
  },
  {
   "cell_type": "code",
   "execution_count": 120,
   "metadata": {},
   "outputs": [
    {
     "data": {
      "text/plain": [
       "Casualties           0\n",
       "Weather Condition    0\n",
       "Cause                0\n",
       "dtype: int64"
      ]
     },
     "execution_count": 120,
     "metadata": {},
     "output_type": "execute_result"
    }
   ],
   "source": [
    "selected_columns.isna().sum()"
   ]
  },
  {
   "cell_type": "code",
   "execution_count": 121,
   "metadata": {},
   "outputs": [
    {
     "data": {
      "text/plain": [
       "array([ 0,  1,  2,  3,  4,  5,  6,  7,  8,  9, 10])"
      ]
     },
     "execution_count": 121,
     "metadata": {},
     "output_type": "execute_result"
    }
   ],
   "source": [
    "np.unique(df['Casualties'])"
   ]
  },
  {
   "cell_type": "code",
   "execution_count": 122,
   "metadata": {},
   "outputs": [
    {
     "data": {
      "text/plain": [
       "array(['Clear', 'Fog', 'Hail', 'Rain', 'Snow', 'Storm'], dtype=object)"
      ]
     },
     "execution_count": 122,
     "metadata": {},
     "output_type": "execute_result"
    }
   ],
   "source": [
    "np.unique(df['Weather Condition'])"
   ]
  },
  {
   "cell_type": "code",
   "execution_count": 123,
   "metadata": {},
   "outputs": [
    {
     "data": {
      "text/plain": [
       "array(['Distracted Driving', 'Drunk Driving', 'Mechanical Failure',\n",
       "       'Reckless Driving', 'Speeding', 'Weather Conditions'], dtype=object)"
      ]
     },
     "execution_count": 123,
     "metadata": {},
     "output_type": "execute_result"
    }
   ],
   "source": [
    "np.unique(df['Cause'])"
   ]
  },
  {
   "cell_type": "code",
   "execution_count": 124,
   "metadata": {},
   "outputs": [
    {
     "data": {
      "text/plain": [
       "(Cause\n",
       " Drunk Driving         1716\n",
       " Reckless Driving      1685\n",
       " Weather Conditions    1657\n",
       " Speeding              1656\n",
       " Mechanical Failure    1653\n",
       " Distracted Driving    1633\n",
       " Name: count, dtype: int64,\n",
       " Weather Condition\n",
       " Rain     1681\n",
       " Clear    1674\n",
       " Hail     1673\n",
       " Snow     1667\n",
       " Fog      1660\n",
       " Storm    1645\n",
       " Name: count, dtype: int64)"
      ]
     },
     "execution_count": 124,
     "metadata": {},
     "output_type": "execute_result"
    }
   ],
   "source": [
    "cause_counts = selected_columns['Cause'].value_counts()\n",
    "weather_counts = selected_columns['Weather Condition'].value_counts()\n",
    "cause_counts,weather_counts"
   ]
  },
  {
   "cell_type": "markdown",
   "metadata": {},
   "source": [
    "There seem to be no missing/NA values, and all unique values are recognized without any out-of-place, with at least 10 observations in the dataset that correspond to them."
   ]
  },
  {
   "cell_type": "markdown",
   "metadata": {},
   "source": [
    "### Outlier Cleaning"
   ]
  },
  {
   "cell_type": "code",
   "execution_count": 125,
   "metadata": {},
   "outputs": [
    {
     "data": {
      "image/png": "[encoded data removed]",
      "text/plain": [
       "<Figure size 640x480 with 1 Axes>"
      ]
     },
     "metadata": {},
     "output_type": "display_data"
    },
    {
     "data": {
      "image/png": "[encoded data removed]",
      "text/plain": [
       "<Figure size 640x480 with 1 Axes>"
      ]
     },
     "metadata": {},
     "output_type": "display_data"
    },
    {
     "data": {
      "image/png": "[encoded data removed]",
      "text/plain": [
       "<Figure size 640x480 with 1 Axes>"
      ]
     },
     "metadata": {},
     "output_type": "display_data"
    }
   ],
   "source": [
    "for col in selected_columns:\n",
    "    sns.boxplot(df[col])\n",
    "    plt.title(col)\n",
    "    plt.show()"
   ]
  },
  {
   "cell_type": "markdown",
   "metadata": {},
   "source": [
    "As shown in each boxplot, there are no significant outliers within the interquartile range for each column. This is good news; the dataset is clean and has no outliers. I currently cannot determine other means of locating outliers and cleaning in this clean dataset."
   ]
  },
  {
   "cell_type": "markdown",
   "metadata": {},
   "source": [
    "## 4. <u>Research Question</u>: How does the Relationship between `Weather Conditions (x)` and `Casualties (y)` Change based on Different Values of `Cause (z)` in the Dataset?"
   ]
  },
  {
   "cell_type": "markdown",
   "metadata": {},
   "source": [
    "I initially checked for summary statistics by group to examine the correlation between Weather Conditions, Casualties, and Causes. The average casualties across causes and weather conditions varied slightly, but nothing visualized a trend. The highest and lowest casualty rates were not vastly different for most groups.\n",
    "I then ran a regression analysis to see if correlations between Weather Conditions, Cause, and Casualties were significant. The OLS regression model generated p-values for all variables. Statistical significance would be less than 0.05, but the p-values for all variables were higher than this. This means that weather conditions and causes did not significantly impact casualties in this data. The R-squared value was also very low (0.00078), which means the model accounts for no variance in casualties."
   ]
  },
  {
   "cell_type": "markdown",
   "metadata": {},
   "source": [
    "Research Question: How does the relationship between Casualties and Weather Conditions change when categorized by Cause in this dataset? "
   ]
  },
  {
   "cell_type": "code",
   "execution_count": 126,
   "metadata": {},
   "outputs": [
    {
     "data": {
      "image/png": "[encoded data removed]",
      "text/plain": [
       "<Figure size 2000x1000 with 1 Axes>"
      ]
     },
     "metadata": {},
     "output_type": "display_data"
    }
   ],
   "source": [
    "plt.figure(figsize=(20, 10))\n",
    "\n",
    "sns.barplot(data=selected_columns, x='Cause', y='Casualties', hue='Weather Condition')\n",
    "plt.title('Average Casualties by Cause & Weather Condition')\n",
    "plt.xlabel('Cause of Accident')\n",
    "plt.ylabel('Average Casualties')\n",
    "plt.show()"
   ]
  },
  {
   "cell_type": "code",
   "execution_count": 127,
   "metadata": {},
   "outputs": [
    {
     "data": {
      "text/html": [
       "<div>\n",
       "<style scoped>\n",
       "    .dataframe tbody tr th:only-of-type {\n",
       "        vertical-align: middle;\n",
       "    }\n",
       "\n",
       "    .dataframe tbody tr th {\n",
       "        vertical-align: top;\n",
       "    }\n",
       "\n",
       "    .dataframe thead th {\n",
       "        text-align: right;\n",
       "    }\n",
       "</style>\n",
       "<table border=\"1\" class=\"dataframe\">\n",
       "  <thead>\n",
       "    <tr style=\"text-align: right;\">\n",
       "      <th></th>\n",
       "      <th></th>\n",
       "      <th>count</th>\n",
       "      <th>mean</th>\n",
       "      <th>median</th>\n",
       "      <th>std</th>\n",
       "      <th>sum</th>\n",
       "    </tr>\n",
       "    <tr>\n",
       "      <th>Cause</th>\n",
       "      <th>Weather Condition</th>\n",
       "      <th></th>\n",
       "      <th></th>\n",
       "      <th></th>\n",
       "      <th></th>\n",
       "      <th></th>\n",
       "    </tr>\n",
       "  </thead>\n",
       "  <tbody>\n",
       "    <tr>\n",
       "      <th rowspan=\"6\" valign=\"top\">Distracted Driving</th>\n",
       "      <th>Clear</th>\n",
       "      <td>261</td>\n",
       "      <td>5.394636</td>\n",
       "      <td>5.0</td>\n",
       "      <td>2.980935</td>\n",
       "      <td>1408</td>\n",
       "    </tr>\n",
       "    <tr>\n",
       "      <th>Fog</th>\n",
       "      <td>266</td>\n",
       "      <td>4.954887</td>\n",
       "      <td>5.0</td>\n",
       "      <td>3.072371</td>\n",
       "      <td>1318</td>\n",
       "    </tr>\n",
       "    <tr>\n",
       "      <th>Hail</th>\n",
       "      <td>289</td>\n",
       "      <td>5.107266</td>\n",
       "      <td>5.0</td>\n",
       "      <td>3.155504</td>\n",
       "      <td>1476</td>\n",
       "    </tr>\n",
       "    <tr>\n",
       "      <th>Rain</th>\n",
       "      <td>284</td>\n",
       "      <td>5.049296</td>\n",
       "      <td>5.0</td>\n",
       "      <td>3.079230</td>\n",
       "      <td>1434</td>\n",
       "    </tr>\n",
       "    <tr>\n",
       "      <th>Snow</th>\n",
       "      <td>277</td>\n",
       "      <td>5.050542</td>\n",
       "      <td>5.0</td>\n",
       "      <td>3.034400</td>\n",
       "      <td>1399</td>\n",
       "    </tr>\n",
       "    <tr>\n",
       "      <th>Storm</th>\n",
       "      <td>256</td>\n",
       "      <td>5.039062</td>\n",
       "      <td>5.0</td>\n",
       "      <td>3.165754</td>\n",
       "      <td>1290</td>\n",
       "    </tr>\n",
       "    <tr>\n",
       "      <th rowspan=\"6\" valign=\"top\">Drunk Driving</th>\n",
       "      <th>Clear</th>\n",
       "      <td>268</td>\n",
       "      <td>4.899254</td>\n",
       "      <td>5.0</td>\n",
       "      <td>3.205963</td>\n",
       "      <td>1313</td>\n",
       "    </tr>\n",
       "    <tr>\n",
       "      <th>Fog</th>\n",
       "      <td>307</td>\n",
       "      <td>4.817590</td>\n",
       "      <td>4.0</td>\n",
       "      <td>3.253849</td>\n",
       "      <td>1479</td>\n",
       "    </tr>\n",
       "    <tr>\n",
       "      <th>Hail</th>\n",
       "      <td>279</td>\n",
       "      <td>4.860215</td>\n",
       "      <td>5.0</td>\n",
       "      <td>3.140332</td>\n",
       "      <td>1356</td>\n",
       "    </tr>\n",
       "    <tr>\n",
       "      <th>Rain</th>\n",
       "      <td>281</td>\n",
       "      <td>4.903915</td>\n",
       "      <td>5.0</td>\n",
       "      <td>3.115861</td>\n",
       "      <td>1378</td>\n",
       "    </tr>\n",
       "    <tr>\n",
       "      <th>Snow</th>\n",
       "      <td>285</td>\n",
       "      <td>5.091228</td>\n",
       "      <td>5.0</td>\n",
       "      <td>3.113820</td>\n",
       "      <td>1451</td>\n",
       "    </tr>\n",
       "    <tr>\n",
       "      <th>Storm</th>\n",
       "      <td>296</td>\n",
       "      <td>5.114865</td>\n",
       "      <td>5.0</td>\n",
       "      <td>3.315140</td>\n",
       "      <td>1514</td>\n",
       "    </tr>\n",
       "    <tr>\n",
       "      <th rowspan=\"6\" valign=\"top\">Mechanical Failure</th>\n",
       "      <th>Clear</th>\n",
       "      <td>294</td>\n",
       "      <td>4.578231</td>\n",
       "      <td>4.0</td>\n",
       "      <td>3.032081</td>\n",
       "      <td>1346</td>\n",
       "    </tr>\n",
       "    <tr>\n",
       "      <th>Fog</th>\n",
       "      <td>267</td>\n",
       "      <td>4.973783</td>\n",
       "      <td>5.0</td>\n",
       "      <td>3.080875</td>\n",
       "      <td>1328</td>\n",
       "    </tr>\n",
       "    <tr>\n",
       "      <th>Hail</th>\n",
       "      <td>265</td>\n",
       "      <td>4.901887</td>\n",
       "      <td>5.0</td>\n",
       "      <td>3.116093</td>\n",
       "      <td>1299</td>\n",
       "    </tr>\n",
       "    <tr>\n",
       "      <th>Rain</th>\n",
       "      <td>284</td>\n",
       "      <td>4.989437</td>\n",
       "      <td>5.0</td>\n",
       "      <td>3.079034</td>\n",
       "      <td>1417</td>\n",
       "    </tr>\n",
       "    <tr>\n",
       "      <th>Snow</th>\n",
       "      <td>274</td>\n",
       "      <td>4.733577</td>\n",
       "      <td>4.0</td>\n",
       "      <td>3.210303</td>\n",
       "      <td>1297</td>\n",
       "    </tr>\n",
       "    <tr>\n",
       "      <th>Storm</th>\n",
       "      <td>269</td>\n",
       "      <td>5.237918</td>\n",
       "      <td>5.0</td>\n",
       "      <td>3.049818</td>\n",
       "      <td>1409</td>\n",
       "    </tr>\n",
       "    <tr>\n",
       "      <th rowspan=\"6\" valign=\"top\">Reckless Driving</th>\n",
       "      <th>Clear</th>\n",
       "      <td>279</td>\n",
       "      <td>5.078853</td>\n",
       "      <td>5.0</td>\n",
       "      <td>3.199744</td>\n",
       "      <td>1417</td>\n",
       "    </tr>\n",
       "    <tr>\n",
       "      <th>Fog</th>\n",
       "      <td>288</td>\n",
       "      <td>5.399306</td>\n",
       "      <td>5.0</td>\n",
       "      <td>3.048436</td>\n",
       "      <td>1555</td>\n",
       "    </tr>\n",
       "    <tr>\n",
       "      <th>Hail</th>\n",
       "      <td>284</td>\n",
       "      <td>4.922535</td>\n",
       "      <td>5.0</td>\n",
       "      <td>3.138891</td>\n",
       "      <td>1398</td>\n",
       "    </tr>\n",
       "    <tr>\n",
       "      <th>Rain</th>\n",
       "      <td>257</td>\n",
       "      <td>4.941634</td>\n",
       "      <td>4.0</td>\n",
       "      <td>3.142529</td>\n",
       "      <td>1270</td>\n",
       "    </tr>\n",
       "    <tr>\n",
       "      <th>Snow</th>\n",
       "      <td>293</td>\n",
       "      <td>4.819113</td>\n",
       "      <td>5.0</td>\n",
       "      <td>3.192142</td>\n",
       "      <td>1412</td>\n",
       "    </tr>\n",
       "    <tr>\n",
       "      <th>Storm</th>\n",
       "      <td>284</td>\n",
       "      <td>4.647887</td>\n",
       "      <td>5.0</td>\n",
       "      <td>3.269296</td>\n",
       "      <td>1320</td>\n",
       "    </tr>\n",
       "    <tr>\n",
       "      <th rowspan=\"6\" valign=\"top\">Speeding</th>\n",
       "      <th>Clear</th>\n",
       "      <td>287</td>\n",
       "      <td>5.108014</td>\n",
       "      <td>5.0</td>\n",
       "      <td>3.115297</td>\n",
       "      <td>1466</td>\n",
       "    </tr>\n",
       "    <tr>\n",
       "      <th>Fog</th>\n",
       "      <td>258</td>\n",
       "      <td>5.108527</td>\n",
       "      <td>5.0</td>\n",
       "      <td>2.994782</td>\n",
       "      <td>1318</td>\n",
       "    </tr>\n",
       "    <tr>\n",
       "      <th>Hail</th>\n",
       "      <td>271</td>\n",
       "      <td>5.232472</td>\n",
       "      <td>5.0</td>\n",
       "      <td>3.154276</td>\n",
       "      <td>1418</td>\n",
       "    </tr>\n",
       "    <tr>\n",
       "      <th>Rain</th>\n",
       "      <td>297</td>\n",
       "      <td>5.218855</td>\n",
       "      <td>5.0</td>\n",
       "      <td>3.042922</td>\n",
       "      <td>1550</td>\n",
       "    </tr>\n",
       "    <tr>\n",
       "      <th>Snow</th>\n",
       "      <td>270</td>\n",
       "      <td>4.903704</td>\n",
       "      <td>5.0</td>\n",
       "      <td>2.985402</td>\n",
       "      <td>1324</td>\n",
       "    </tr>\n",
       "    <tr>\n",
       "      <th>Storm</th>\n",
       "      <td>273</td>\n",
       "      <td>4.959707</td>\n",
       "      <td>5.0</td>\n",
       "      <td>3.215631</td>\n",
       "      <td>1354</td>\n",
       "    </tr>\n",
       "    <tr>\n",
       "      <th rowspan=\"6\" valign=\"top\">Weather Conditions</th>\n",
       "      <th>Clear</th>\n",
       "      <td>285</td>\n",
       "      <td>4.961404</td>\n",
       "      <td>5.0</td>\n",
       "      <td>3.224344</td>\n",
       "      <td>1414</td>\n",
       "    </tr>\n",
       "    <tr>\n",
       "      <th>Fog</th>\n",
       "      <td>274</td>\n",
       "      <td>5.007299</td>\n",
       "      <td>5.0</td>\n",
       "      <td>3.014000</td>\n",
       "      <td>1372</td>\n",
       "    </tr>\n",
       "    <tr>\n",
       "      <th>Hail</th>\n",
       "      <td>285</td>\n",
       "      <td>4.764912</td>\n",
       "      <td>4.0</td>\n",
       "      <td>3.155171</td>\n",
       "      <td>1358</td>\n",
       "    </tr>\n",
       "    <tr>\n",
       "      <th>Rain</th>\n",
       "      <td>278</td>\n",
       "      <td>5.043165</td>\n",
       "      <td>5.0</td>\n",
       "      <td>3.274164</td>\n",
       "      <td>1402</td>\n",
       "    </tr>\n",
       "    <tr>\n",
       "      <th>Snow</th>\n",
       "      <td>268</td>\n",
       "      <td>4.891791</td>\n",
       "      <td>5.0</td>\n",
       "      <td>3.161011</td>\n",
       "      <td>1311</td>\n",
       "    </tr>\n",
       "    <tr>\n",
       "      <th>Storm</th>\n",
       "      <td>267</td>\n",
       "      <td>4.910112</td>\n",
       "      <td>5.0</td>\n",
       "      <td>3.087595</td>\n",
       "      <td>1311</td>\n",
       "    </tr>\n",
       "  </tbody>\n",
       "</table>\n",
       "</div>"
      ],
      "text/plain": [
       "                                      count      mean  median       std   sum\n",
       "Cause              Weather Condition                                         \n",
       "Distracted Driving Clear                261  5.394636     5.0  2.980935  1408\n",
       "                   Fog                  266  4.954887     5.0  3.072371  1318\n",
       "                   Hail                 289  5.107266     5.0  3.155504  1476\n",
       "                   Rain                 284  5.049296     5.0  3.079230  1434\n",
       "                   Snow                 277  5.050542     5.0  3.034400  1399\n",
       "                   Storm                256  5.039062     5.0  3.165754  1290\n",
       "Drunk Driving      Clear                268  4.899254     5.0  3.205963  1313\n",
       "                   Fog                  307  4.817590     4.0  3.253849  1479\n",
       "                   Hail                 279  4.860215     5.0  3.140332  1356\n",
       "                   Rain                 281  4.903915     5.0  3.115861  1378\n",
       "                   Snow                 285  5.091228     5.0  3.113820  1451\n",
       "                   Storm                296  5.114865     5.0  3.315140  1514\n",
       "Mechanical Failure Clear                294  4.578231     4.0  3.032081  1346\n",
       "                   Fog                  267  4.973783     5.0  3.080875  1328\n",
       "                   Hail                 265  4.901887     5.0  3.116093  1299\n",
       "                   Rain                 284  4.989437     5.0  3.079034  1417\n",
       "                   Snow                 274  4.733577     4.0  3.210303  1297\n",
       "                   Storm                269  5.237918     5.0  3.049818  1409\n",
       "Reckless Driving   Clear                279  5.078853     5.0  3.199744  1417\n",
       "                   Fog                  288  5.399306     5.0  3.048436  1555\n",
       "                   Hail                 284  4.922535     5.0  3.138891  1398\n",
       "                   Rain                 257  4.941634     4.0  3.142529  1270\n",
       "                   Snow                 293  4.819113     5.0  3.192142  1412\n",
       "                   Storm                284  4.647887     5.0  3.269296  1320\n",
       "Speeding           Clear                287  5.108014     5.0  3.115297  1466\n",
       "                   Fog                  258  5.108527     5.0  2.994782  1318\n",
       "                   Hail                 271  5.232472     5.0  3.154276  1418\n",
       "                   Rain                 297  5.218855     5.0  3.042922  1550\n",
       "                   Snow                 270  4.903704     5.0  2.985402  1324\n",
       "                   Storm                273  4.959707     5.0  3.215631  1354\n",
       "Weather Conditions Clear                285  4.961404     5.0  3.224344  1414\n",
       "                   Fog                  274  5.007299     5.0  3.014000  1372\n",
       "                   Hail                 285  4.764912     4.0  3.155171  1358\n",
       "                   Rain                 278  5.043165     5.0  3.274164  1402\n",
       "                   Snow                 268  4.891791     5.0  3.161011  1311\n",
       "                   Storm                267  4.910112     5.0  3.087595  1311"
      ]
     },
     "execution_count": 127,
     "metadata": {},
     "output_type": "execute_result"
    }
   ],
   "source": [
    "summary_stats = selected_columns.groupby(['Cause', 'Weather Condition'])['Casualties'].agg(['count', 'mean', 'median', 'std', 'sum'])\n",
    "summary_stats"
   ]
  },
  {
   "cell_type": "code",
   "execution_count": 128,
   "metadata": {},
   "outputs": [
    {
     "data": {
      "text/html": [
       "<table class=\"simpletable\">\n",
       "<tr>\n",
       "               <td></td>                  <th>coef</th>     <th>std err</th>      <th>t</th>      <th>P>|t|</th>  <th>[0.025</th>    <th>0.975]</th>  \n",
       "</tr>\n",
       "<tr>\n",
       "  <th>Intercept</th>                   <td>    5.1076</td> <td>    0.105</td> <td>   48.771</td> <td> 0.000</td> <td>    4.902</td> <td>    5.313</td>\n",
       "</tr>\n",
       "<tr>\n",
       "  <th>Cause[T.Drunk Driving]</th>      <td>   -0.1509</td> <td>    0.108</td> <td>   -1.394</td> <td> 0.163</td> <td>   -0.363</td> <td>    0.061</td>\n",
       "</tr>\n",
       "<tr>\n",
       "  <th>Cause[T.Mechanical Failure]</th> <td>   -0.2009</td> <td>    0.109</td> <td>   -1.839</td> <td> 0.066</td> <td>   -0.415</td> <td>    0.013</td>\n",
       "</tr>\n",
       "<tr>\n",
       "  <th>Cause[T.Reckless Driving]</th>   <td>   -0.1290</td> <td>    0.109</td> <td>   -1.186</td> <td> 0.236</td> <td>   -0.342</td> <td>    0.084</td>\n",
       "</tr>\n",
       "<tr>\n",
       "  <th>Cause[T.Speeding]</th>           <td>   -0.0081</td> <td>    0.109</td> <td>   -0.074</td> <td> 0.941</td> <td>   -0.222</td> <td>    0.206</td>\n",
       "</tr>\n",
       "<tr>\n",
       "  <th>Cause[T.Weather Conditions]</th> <td>   -0.1693</td> <td>    0.109</td> <td>   -1.551</td> <td> 0.121</td> <td>   -0.383</td> <td>    0.045</td>\n",
       "</tr>\n",
       "<tr>\n",
       "  <th>Weather_Condition[T.Fog]</th>    <td>    0.0464</td> <td>    0.108</td> <td>    0.428</td> <td> 0.669</td> <td>   -0.166</td> <td>    0.259</td>\n",
       "</tr>\n",
       "<tr>\n",
       "  <th>Weather_Condition[T.Hail]</th>   <td>   -0.0344</td> <td>    0.108</td> <td>   -0.318</td> <td> 0.751</td> <td>   -0.247</td> <td>    0.178</td>\n",
       "</tr>\n",
       "<tr>\n",
       "  <th>Weather_Condition[T.Rain]</th>   <td>    0.0281</td> <td>    0.108</td> <td>    0.260</td> <td> 0.795</td> <td>   -0.184</td> <td>    0.240</td>\n",
       "</tr>\n",
       "<tr>\n",
       "  <th>Weather_Condition[T.Snow]</th>   <td>   -0.0821</td> <td>    0.108</td> <td>   -0.758</td> <td> 0.448</td> <td>   -0.294</td> <td>    0.130</td>\n",
       "</tr>\n",
       "<tr>\n",
       "  <th>Weather_Condition[T.Storm]</th>  <td>   -0.0129</td> <td>    0.109</td> <td>   -0.119</td> <td> 0.906</td> <td>   -0.226</td> <td>    0.200</td>\n",
       "</tr>\n",
       "</table>"
      ],
      "text/latex": [
       "\\begin{center}\n",
       "\\begin{tabular}{lcccccc}\n",
       "\\toprule\n",
       "                                     & \\textbf{coef} & \\textbf{std err} & \\textbf{t} & \\textbf{P$> |$t$|$} & \\textbf{[0.025} & \\textbf{0.975]}  \\\\\n",
       "\\midrule\n",
       "\\textbf{Intercept}                   &       5.1076  &        0.105     &    48.771  &         0.000        &        4.902    &        5.313     \\\\\n",
       "\\textbf{Cause[T.Drunk Driving]}      &      -0.1509  &        0.108     &    -1.394  &         0.163        &       -0.363    &        0.061     \\\\\n",
       "\\textbf{Cause[T.Mechanical Failure]} &      -0.2009  &        0.109     &    -1.839  &         0.066        &       -0.415    &        0.013     \\\\\n",
       "\\textbf{Cause[T.Reckless Driving]}   &      -0.1290  &        0.109     &    -1.186  &         0.236        &       -0.342    &        0.084     \\\\\n",
       "\\textbf{Cause[T.Speeding]}           &      -0.0081  &        0.109     &    -0.074  &         0.941        &       -0.222    &        0.206     \\\\\n",
       "\\textbf{Cause[T.Weather Conditions]} &      -0.1693  &        0.109     &    -1.551  &         0.121        &       -0.383    &        0.045     \\\\\n",
       "\\textbf{Weather\\_Condition[T.Fog]}   &       0.0464  &        0.108     &     0.428  &         0.669        &       -0.166    &        0.259     \\\\\n",
       "\\textbf{Weather\\_Condition[T.Hail]}  &      -0.0344  &        0.108     &    -0.318  &         0.751        &       -0.247    &        0.178     \\\\\n",
       "\\textbf{Weather\\_Condition[T.Rain]}  &       0.0281  &        0.108     &     0.260  &         0.795        &       -0.184    &        0.240     \\\\\n",
       "\\textbf{Weather\\_Condition[T.Snow]}  &      -0.0821  &        0.108     &    -0.758  &         0.448        &       -0.294    &        0.130     \\\\\n",
       "\\textbf{Weather\\_Condition[T.Storm]} &      -0.0129  &        0.109     &    -0.119  &         0.906        &       -0.226    &        0.200     \\\\\n",
       "\\bottomrule\n",
       "\\end{tabular}\n",
       "\\end{center}"
      ],
      "text/plain": [
       "<class 'statsmodels.iolib.table.SimpleTable'>"
      ]
     },
     "execution_count": 128,
     "metadata": {},
     "output_type": "execute_result"
    }
   ],
   "source": [
    "import statsmodels.formula.api as smf\n",
    "filtered_columns = selected_columns.rename(columns={'Weather Condition': 'Weather_Condition'})\n",
    "\n",
    "formula = smf.ols('Casualties ~ Cause + Weather_Condition', data=filtered_columns).fit()\n",
    "formula.summary().tables[1]"
   ]
  },
  {
   "cell_type": "code",
   "execution_count": 129,
   "metadata": {},
   "outputs": [
    {
     "data": {
      "text/plain": [
       "0.0007885817098767234"
      ]
     },
     "execution_count": 129,
     "metadata": {},
     "output_type": "execute_result"
    }
   ],
   "source": [
    "y_test = filtered_columns['Casualties']\n",
    "y_pred_test = formula.predict(filtered_columns)\n",
    "\n",
    "from sklearn.metrics import r2_score\n",
    "r_squared = r2_score(y_test, y_pred_test)\n",
    "r_squared"
   ]
  },
  {
   "cell_type": "markdown",
   "metadata": {},
   "source": [
    "### Key Findings "
   ]
  },
  {
   "cell_type": "markdown",
   "metadata": {},
   "source": [
    "- p-values > 0.5\n",
    "- R^2 = 0.000788\n",
    "\n",
    "\n",
    "The average casualty differences between causes and weather conditions were negligible, typically below 0.3 casualties.\n",
    "Reckless Driving recorded the most significant casualty rate during foggy conditions, while Distracted Driving and Speeding had visually simular casualties.\n",
    "The OLS regression model found no significant statistical correlation between weather conditions, accident causes, and casualties, supported by high p-values and low R-squared values. "
   ]
  },
  {
   "cell_type": "markdown",
   "metadata": {},
   "source": [
    "## 5. Conclusion"
   ]
  },
  {
   "cell_type": "markdown",
   "metadata": {},
   "source": [
    "This analysis did not find strong evidence that weather and accident causes significantly affect the number of casualties in this data set. This means that other variables, such as road conditions, location, and time, might affect the number of accidents. Further investigation with additional variables may reveal what makes casualties in traffic accidents different. Others could use my outcome as a learning moment or a challenge to identify further possible correlations in the variables I chose. In the future, I would like to see additional data on driver history and age to see if those variables play a role in providing an answer to this question. Since this dataset does not have those metrics, I can only assume that the variable I chose could not answer the correlation to casualties in this dataset. "
   ]
  }
 ],
 "metadata": {
  "kernelspec": {
   "display_name": "Python 3",
   "language": "python",
   "name": "python3"
  },
  "language_info": {
   "codemirror_mode": {
    "name": "ipython",
    "version": 3
   },
   "file_extension": ".py",
   "mimetype": "text/x-python",
   "name": "python",
   "nbconvert_exporter": "python",
   "pygments_lexer": "ipython3",
   "version": "3.12.9"
  }
 },
 "nbformat": 4,
 "nbformat_minor": 4
}
