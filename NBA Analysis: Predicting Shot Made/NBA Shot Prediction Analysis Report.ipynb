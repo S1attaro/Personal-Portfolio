{
 "cells": [
  {
   "cell_type": "code",
   "execution_count": 1,
   "id": "5aa9ad0b",
   "metadata": {},
   "outputs": [],
   "source": [
    "import pandas as pd\n",
    "import seaborn as sns\n",
    "import matplotlib.pyplot as plt\n",
    "import numpy as np\n",
    "from sklearn.model_selection import train_test_split\n",
    "import statsmodels.formula.api as smf\n",
    "import statsmodels.api as sm\n",
    "from sklearn.metrics import r2_score\n",
    "from scipy.stats import zscore\n",
    "from sklearn.linear_model import LinearRegression\n",
    "from sklearn.preprocessing import StandardScaler\n",
    "from sklearn.linear_model import Lasso"
   ]
  },
  {
   "cell_type": "markdown",
   "id": "e0ce1733",
   "metadata": {},
   "source": [
    "## 1. Introduction\n",
    "\n",
    "When analyzing NBA player performance and team strategy, accurately predicting the binary outcome of each shot (`made = 1`, `missed = 0`) is important. Coaches, players, and data analysts use large shot-chart datasets to optimize shot selection. As the Sports Journal (2013) observed:\n",
    "\n",
    "> “The finding that field goal percentage rate explained a very large proportion of the variance in success (i.e., 61.4%) highlights the importance of offensive efficiency not only of the starting players but also of the ‘bench’ players, since the latter group also contribute to the field goal percentage rate.”\n",
    "\n",
    "In practice facilities across the league, the Noah Shooting System is installed above the hoop to capture the ball’s flight path 30 times per second. It measures key shooting metrics, such as shot arc, depth, and left/right position, and provides instant verbal feedback to help players develop consistent mechanics. Mike Dunleavy Jr., Vice President of Basketball Operations for the Golden State Warriors, emphasizes its impact:\n",
    "\n",
    "> “The data generated is used heavily by the Golden State Warriors and is a big part of our player development program. We have seen first-hand how it can improve shooting percentages.”\n",
    "\n",
    "\n",
    "### Citations\n",
    "\n",
    "- Factors associated with success among NBA teams. The Sport Journal. (2013, November 27). https://thesportjournal.org/article/factors-associated-with-success-among-nba-teams/ \n",
    "- Now used by 26 of 30 NBA teams. Noah Basketball - Choose Your Service. (2022). https://www.noahbasketball.com/blog/26-of-30-nba-teams \n",
    "\n",
    "\n",
    "In this project, we build a **logistic-regression model** to predict `SHOT_MADE`, our **response variable**, based on five key predictors:\n",
    "\n",
    "- **Categorical**  \n",
    "  - `SHOT_TYPE` (e.g. jump, layup, dunk)  \n",
    "  - `PLAYER_POSITION` (guard, wing, big)  \n",
    "  - `COURT_REGION` (paint, mid-range, three-point)  \n",
    "- **Numerical**  \n",
    "  - `SHOT_DISTANCE` (feet)  \n",
    "  - `QUARTER`(1-6)\n",
    "\n",
    "We train and validate our model on a dataset of **20,000+ NBA shots** from the 2023–24 regular season, using **five-fold cross-validation** to optimize using selected paramaters and evaluate performance via **area under the ROC curve (AUC)**.\n",
    "\n",
    "---\n",
    "\n",
    "### Research Goals\n",
    "\n",
    "1. **Primary Goal**\n",
    "    - Build a predictive model that will effectively predict `SHOT_MADE` for new datasets. Our method of appraoch will be to maximize predictive accuracy (AUC) for new shot-chart data through five-fold cross-validation.\n",
    "\n",
    "2. **Secondary Goals**   \n",
    "   - **Interaction analysis:** Explore joint effects (e.g. how distance & shot type influence shot probability).  \n",
    "   - **Actionable insights:** Provide recommendations for NBA analysts to design plays with higher expected scoring efficiency based on our models performace. \n"
   ]
  },
  {
   "cell_type": "markdown",
   "id": "3437f46a",
   "metadata": {},
   "source": [
    "## 2. Dataset Discussion\n",
    "\n",
    "We analyze the 2024 NBA regular-season shot location dataset compiled by Dom Samangy, Basketball Analytics Coordinator for the New Orleans Pelicans, and downloaded on April 22, 2025 from the GitHub repository (https://github.com/DomSamangy/NBA_Shots_04_25). Each of the 218,701 rows in this CSV represents a single shot attempt recorded during the 2024 NBA season. The data was crowd-sourced from NBA.com API feeds via scraping and manual aggregation, so they may exclude certain unlogged or unofficial plays (e.g., Preseason or Summer League games), which could cause bias in our model if those shot types differ systematically. Coaches using our predictions should be aware that under-recorded situations may lead the model to over or under-estimate success rates in `SHOT_MADE` in this context.\n",
    "\n",
    "### Selected Variables\n",
    "\n",
    "**Response**  \n",
    "- **`SHOT_MADE`** (1 = made, 0 = missed): Predicting shot success directly shows offensive efficiency for players and teams.\n",
    "\n",
    "**Explanatory**  \n",
    "- **`POSITION`** (Guard, Wing, Big): Guards, wings, and bigs face different defensives, shot roles vary.  \n",
    "- **`SHOT_TYPE`** (2PT vs. 3PT): Type of shot chosen (2PT or 3PT).  \n",
    "- **`ZONE_ABB`** Court side abbreviations: L = Left Wing, LC = Left-Center, C = Center, RC = Right-Center, R = Right Wing.\n",
    "- **`SHOT_DISTANCE`** (feet): Distance of the shot with respect to the center of the hoop.  \n",
    "- **`QUARTER`** (1–4): Quarter of the game. Standard games have 4 quarters, but overtime can extend the total to 5 or 6.\n",
    "\n",
    "Our five explanatory variables include three categorical variables: **`POSITION`** , **`SHOT_TYPE`**, and **`ZONE_ABB`**, and two numerical variables: **`SHOT_DISTANCE`** and **`QUARTER`**. These variables were selected because they are most likely to influence the probability of making a shot. We expect that factors like the distance from the basket and the type of shot will have significant impacts on the response varaible, **`SHOT_MADE`**.\n",
    "\n",
    "---\n",
    "\n",
    "### Observations Left Out and Why We Didn’t Use Them\n",
    "\n",
    "We decided to remove some variables from our dataset because they were either too repetitive, too specific, or not useful for our current goals. Here's how we grouped them:\n",
    "\n",
    "**Redundant (We use better varaibles)**\n",
    "\n",
    "- `ZONE_NAME`, `BASIC_ZONE`, `ZONE_RANGE`  \n",
    "  These were removed because `ZONE_ABB` already gives us a more detailed zone description.\n",
    "\n",
    "- `POSITION_GROUP`  \n",
    "  This just splits players into Guards (G), Forwards (F), and Centers (C), but `POSITION` gives us more detailed roles like PG, SG, etc.\n",
    "\n",
    "- `ACTION_TYPE`  \n",
    "  Even though this could be helpful, we already have `SHOT_TYPE`, which shows the point value (2PT or 3PT) and is easier to work with.\n",
    "\n",
    "**Too Much Variability**\n",
    "\n",
    "- `SEASON_1`, `SEASON_2`, `TEAM_ID`, `TEAM_NAME`, `PLAYER_ID`, `PLAYER_NAME`  \n",
    "  These all have lots of unique or specific values, making them hard to use in a general model.\n",
    "\n",
    "- `GAME_ID`, `EVENT_TYPE`  \n",
    "  These are hard to measure unless we focused on one specific team or event at a time.\n",
    "\n",
    "**Already Removed or Not Needed**\n",
    "\n",
    "- `GAME_DATE`  \n",
    "  All date data was already taken out from the original dataset.\n",
    "\n",
    "**Could Be Useful, But We Didn’t Include Them**\n",
    "\n",
    "- `LOC_X`, `LOC_Y`  \n",
    "  These give shot locations on the court, but we weren’t sure how to handle the exact coordinates.\n",
    "\n",
    "- `MINS_LEFT`, `SECS_LEFT`  \n",
    "  Time left in the game could matter, but we didn’t include them in this version. We might use them in the future.\n",
    "\n"
   ]
  },
  {
   "cell_type": "code",
   "execution_count": 2,
   "id": "36fa2725",
   "metadata": {},
   "outputs": [
    {
     "data": {
      "text/html": [
       "<div>\n",
       "<style scoped>\n",
       "    .dataframe tbody tr th:only-of-type {\n",
       "        vertical-align: middle;\n",
       "    }\n",
       "\n",
       "    .dataframe tbody tr th {\n",
       "        vertical-align: top;\n",
       "    }\n",
       "\n",
       "    .dataframe thead th {\n",
       "        text-align: right;\n",
       "    }\n",
       "</style>\n",
       "<table border=\"1\" class=\"dataframe\">\n",
       "  <thead>\n",
       "    <tr style=\"text-align: right;\">\n",
       "      <th></th>\n",
       "      <th>SEASON_1</th>\n",
       "      <th>SEASON_2</th>\n",
       "      <th>TEAM_ID</th>\n",
       "      <th>TEAM_NAME</th>\n",
       "      <th>PLAYER_ID</th>\n",
       "      <th>PLAYER_NAME</th>\n",
       "      <th>POSITION_GROUP</th>\n",
       "      <th>POSITION</th>\n",
       "      <th>GAME_DATE</th>\n",
       "      <th>GAME_ID</th>\n",
       "      <th>...</th>\n",
       "      <th>BASIC_ZONE</th>\n",
       "      <th>ZONE_NAME</th>\n",
       "      <th>ZONE_ABB</th>\n",
       "      <th>ZONE_RANGE</th>\n",
       "      <th>LOC_X</th>\n",
       "      <th>LOC_Y</th>\n",
       "      <th>SHOT_DISTANCE</th>\n",
       "      <th>QUARTER</th>\n",
       "      <th>MINS_LEFT</th>\n",
       "      <th>SECS_LEFT</th>\n",
       "    </tr>\n",
       "  </thead>\n",
       "  <tbody>\n",
       "    <tr>\n",
       "      <th>0</th>\n",
       "      <td>2024</td>\n",
       "      <td>2023-24</td>\n",
       "      <td>1610612764</td>\n",
       "      <td>Washington Wizards</td>\n",
       "      <td>1629673</td>\n",
       "      <td>Jordan Poole</td>\n",
       "      <td>G</td>\n",
       "      <td>SG</td>\n",
       "      <td>11/3/2023</td>\n",
       "      <td>22300003</td>\n",
       "      <td>...</td>\n",
       "      <td>In The Paint (Non-RA)</td>\n",
       "      <td>Center</td>\n",
       "      <td>C</td>\n",
       "      <td>8-16 ft.</td>\n",
       "      <td>-0.4</td>\n",
       "      <td>17.45</td>\n",
       "      <td>12</td>\n",
       "      <td>1</td>\n",
       "      <td>11</td>\n",
       "      <td>1</td>\n",
       "    </tr>\n",
       "    <tr>\n",
       "      <th>1</th>\n",
       "      <td>2024</td>\n",
       "      <td>2023-24</td>\n",
       "      <td>1610612764</td>\n",
       "      <td>Washington Wizards</td>\n",
       "      <td>1630166</td>\n",
       "      <td>Deni Avdija</td>\n",
       "      <td>F</td>\n",
       "      <td>SF</td>\n",
       "      <td>11/3/2023</td>\n",
       "      <td>22300003</td>\n",
       "      <td>...</td>\n",
       "      <td>Above the Break 3</td>\n",
       "      <td>Center</td>\n",
       "      <td>C</td>\n",
       "      <td>24+ ft.</td>\n",
       "      <td>1.5</td>\n",
       "      <td>30.55</td>\n",
       "      <td>25</td>\n",
       "      <td>1</td>\n",
       "      <td>10</td>\n",
       "      <td>26</td>\n",
       "    </tr>\n",
       "    <tr>\n",
       "      <th>2</th>\n",
       "      <td>2024</td>\n",
       "      <td>2023-24</td>\n",
       "      <td>1610612764</td>\n",
       "      <td>Washington Wizards</td>\n",
       "      <td>1626145</td>\n",
       "      <td>Tyus Jones</td>\n",
       "      <td>G</td>\n",
       "      <td>PG</td>\n",
       "      <td>11/3/2023</td>\n",
       "      <td>22300003</td>\n",
       "      <td>...</td>\n",
       "      <td>Restricted Area</td>\n",
       "      <td>Center</td>\n",
       "      <td>C</td>\n",
       "      <td>Less Than 8 ft.</td>\n",
       "      <td>-3.3</td>\n",
       "      <td>6.55</td>\n",
       "      <td>3</td>\n",
       "      <td>1</td>\n",
       "      <td>9</td>\n",
       "      <td>46</td>\n",
       "    </tr>\n",
       "    <tr>\n",
       "      <th>3</th>\n",
       "      <td>2024</td>\n",
       "      <td>2023-24</td>\n",
       "      <td>1610612764</td>\n",
       "      <td>Washington Wizards</td>\n",
       "      <td>1629673</td>\n",
       "      <td>Jordan Poole</td>\n",
       "      <td>G</td>\n",
       "      <td>SG</td>\n",
       "      <td>11/3/2023</td>\n",
       "      <td>22300003</td>\n",
       "      <td>...</td>\n",
       "      <td>Restricted Area</td>\n",
       "      <td>Center</td>\n",
       "      <td>C</td>\n",
       "      <td>Less Than 8 ft.</td>\n",
       "      <td>-1.0</td>\n",
       "      <td>5.85</td>\n",
       "      <td>1</td>\n",
       "      <td>1</td>\n",
       "      <td>8</td>\n",
       "      <td>30</td>\n",
       "    </tr>\n",
       "    <tr>\n",
       "      <th>4</th>\n",
       "      <td>2024</td>\n",
       "      <td>2023-24</td>\n",
       "      <td>1610612764</td>\n",
       "      <td>Washington Wizards</td>\n",
       "      <td>1626145</td>\n",
       "      <td>Tyus Jones</td>\n",
       "      <td>G</td>\n",
       "      <td>PG</td>\n",
       "      <td>11/3/2023</td>\n",
       "      <td>22300003</td>\n",
       "      <td>...</td>\n",
       "      <td>Restricted Area</td>\n",
       "      <td>Center</td>\n",
       "      <td>C</td>\n",
       "      <td>Less Than 8 ft.</td>\n",
       "      <td>0.0</td>\n",
       "      <td>6.25</td>\n",
       "      <td>1</td>\n",
       "      <td>1</td>\n",
       "      <td>8</td>\n",
       "      <td>8</td>\n",
       "    </tr>\n",
       "  </tbody>\n",
       "</table>\n",
       "<p>5 rows × 26 columns</p>\n",
       "</div>"
      ],
      "text/plain": [
       "   SEASON_1 SEASON_2     TEAM_ID           TEAM_NAME  PLAYER_ID   PLAYER_NAME  \\\n",
       "0      2024  2023-24  1610612764  Washington Wizards    1629673  Jordan Poole   \n",
       "1      2024  2023-24  1610612764  Washington Wizards    1630166   Deni Avdija   \n",
       "2      2024  2023-24  1610612764  Washington Wizards    1626145    Tyus Jones   \n",
       "3      2024  2023-24  1610612764  Washington Wizards    1629673  Jordan Poole   \n",
       "4      2024  2023-24  1610612764  Washington Wizards    1626145    Tyus Jones   \n",
       "\n",
       "  POSITION_GROUP POSITION  GAME_DATE   GAME_ID  ...             BASIC_ZONE  \\\n",
       "0              G       SG  11/3/2023  22300003  ...  In The Paint (Non-RA)   \n",
       "1              F       SF  11/3/2023  22300003  ...      Above the Break 3   \n",
       "2              G       PG  11/3/2023  22300003  ...        Restricted Area   \n",
       "3              G       SG  11/3/2023  22300003  ...        Restricted Area   \n",
       "4              G       PG  11/3/2023  22300003  ...        Restricted Area   \n",
       "\n",
       "  ZONE_NAME ZONE_ABB       ZONE_RANGE LOC_X  LOC_Y SHOT_DISTANCE QUARTER  \\\n",
       "0    Center        C         8-16 ft.  -0.4  17.45            12       1   \n",
       "1    Center        C          24+ ft.   1.5  30.55            25       1   \n",
       "2    Center        C  Less Than 8 ft.  -3.3   6.55             3       1   \n",
       "3    Center        C  Less Than 8 ft.  -1.0   5.85             1       1   \n",
       "4    Center        C  Less Than 8 ft.   0.0   6.25             1       1   \n",
       "\n",
       "  MINS_LEFT SECS_LEFT  \n",
       "0        11         1  \n",
       "1        10        26  \n",
       "2         9        46  \n",
       "3         8        30  \n",
       "4         8         8  \n",
       "\n",
       "[5 rows x 26 columns]"
      ]
     },
     "execution_count": 2,
     "metadata": {},
     "output_type": "execute_result"
    }
   ],
   "source": [
    "df = pd.read_csv(\"NBA_2024_Shots.csv\")\n",
    "df.head()"
   ]
  },
  {
   "cell_type": "code",
   "execution_count": 3,
   "id": "e3e09a3d",
   "metadata": {},
   "outputs": [
    {
     "name": "stdout",
     "output_type": "stream",
     "text": [
      "There are 218701 rows.\n"
     ]
    }
   ],
   "source": [
    "print(\"There are\", df.shape[0] ,\"rows.\")"
   ]
  },
  {
   "cell_type": "markdown",
   "id": "3c213964",
   "metadata": {},
   "source": [
    "**Making Reponse Varaible** "
   ]
  },
  {
   "cell_type": "code",
   "execution_count": 4,
   "id": "087c4b5c",
   "metadata": {},
   "outputs": [
    {
     "name": "stderr",
     "output_type": "stream",
     "text": [
      "C:\\Users\\cjsla\\AppData\\Local\\Temp\\ipykernel_35328\\631131598.py:1: FutureWarning: Downcasting behavior in `replace` is deprecated and will be removed in a future version. To retain the old behavior, explicitly call `result.infer_objects(copy=False)`. To opt-in to the future behavior, set `pd.set_option('future.no_silent_downcasting', True)`\n",
      "  df['y'] = df['SHOT_MADE'].replace({True:1, False:0})\n"
     ]
    },
    {
     "data": {
      "text/plain": [
       "0         0\n",
       "1         1\n",
       "2         1\n",
       "3         1\n",
       "4         1\n",
       "         ..\n",
       "218696    0\n",
       "218697    0\n",
       "218698    1\n",
       "218699    1\n",
       "218700    0\n",
       "Name: y, Length: 218701, dtype: int64"
      ]
     },
     "execution_count": 4,
     "metadata": {},
     "output_type": "execute_result"
    }
   ],
   "source": [
    "df['y'] = df['SHOT_MADE'].replace({True:1, False:0})\n",
    "df[\"y\"]"
   ]
  },
  {
   "cell_type": "markdown",
   "id": "bceeda90",
   "metadata": {},
   "source": [
    "## 3. Data Cleaning"
   ]
  },
  {
   "cell_type": "markdown",
   "id": "ca2c7024",
   "metadata": {},
   "source": [
    "We started by checking the data types and unique values of the variables `SHOT_TYPE`, `ZONE_ABB`, `SHOT_DISTANCE`, `QUARTER`, `POSITION`, and `SHOT_MADE`. We also checked for missing values using **.isna().sum()**. We found 1,264 missing values in the `POSITION` column, so we dropped those rows, leaving 217,437 rows for analysis.\n",
    "\n",
    "Next, we looked at the categories in `SHOT_TYPE`, `ZONE_ABB`, and `POSITION` to see if any were rare. The category **BC** in `ZONE_ABB` had only 464 observations, but BC (backcourt) is an important data point in our observations, so we decided to keep them all.\n",
    "\n",
    "We then made a scatterplot of `SHOT_DISTANCE` vs `QUARTER` to check for outliers. Some shot distances were very high (up to 80 feet), but we decided not to remove them since they likely represent real long-distance shots like half-court shots.\n",
    "\n",
    "**Outlier Cleaning**\n",
    "\n",
    "We removed rows where the `QUARTER` value was greater than 4, as overtime games are rare and could create bias the data. This reduced the dataset by 1,176 rows, leaving 216,261 rows.\n",
    "\n",
    "Finally, we removed rows with hybrid positions like **PF-SF** and **PG-SG** to keep the `POSITION` variable consistent. This reduced the dataset by 8,117 rows, leaving 210,584 rows.\n"
   ]
  },
  {
   "cell_type": "code",
   "execution_count": 5,
   "id": "d079333b",
   "metadata": {},
   "outputs": [
    {
     "data": {
      "text/html": [
       "<div>\n",
       "<style scoped>\n",
       "    .dataframe tbody tr th:only-of-type {\n",
       "        vertical-align: middle;\n",
       "    }\n",
       "\n",
       "    .dataframe tbody tr th {\n",
       "        vertical-align: top;\n",
       "    }\n",
       "\n",
       "    .dataframe thead th {\n",
       "        text-align: right;\n",
       "    }\n",
       "</style>\n",
       "<table border=\"1\" class=\"dataframe\">\n",
       "  <thead>\n",
       "    <tr style=\"text-align: right;\">\n",
       "      <th></th>\n",
       "      <th>SHOT_MADE</th>\n",
       "      <th>POSITION</th>\n",
       "      <th>SHOT_TYPE</th>\n",
       "      <th>ZONE_ABB</th>\n",
       "      <th>SHOT_DISTANCE</th>\n",
       "      <th>QUARTER</th>\n",
       "      <th>y</th>\n",
       "    </tr>\n",
       "  </thead>\n",
       "  <tbody>\n",
       "    <tr>\n",
       "      <th>0</th>\n",
       "      <td>False</td>\n",
       "      <td>SG</td>\n",
       "      <td>2PT Field Goal</td>\n",
       "      <td>C</td>\n",
       "      <td>12</td>\n",
       "      <td>1</td>\n",
       "      <td>0</td>\n",
       "    </tr>\n",
       "    <tr>\n",
       "      <th>1</th>\n",
       "      <td>True</td>\n",
       "      <td>SF</td>\n",
       "      <td>3PT Field Goal</td>\n",
       "      <td>C</td>\n",
       "      <td>25</td>\n",
       "      <td>1</td>\n",
       "      <td>1</td>\n",
       "    </tr>\n",
       "    <tr>\n",
       "      <th>2</th>\n",
       "      <td>True</td>\n",
       "      <td>PG</td>\n",
       "      <td>2PT Field Goal</td>\n",
       "      <td>C</td>\n",
       "      <td>3</td>\n",
       "      <td>1</td>\n",
       "      <td>1</td>\n",
       "    </tr>\n",
       "    <tr>\n",
       "      <th>3</th>\n",
       "      <td>True</td>\n",
       "      <td>SG</td>\n",
       "      <td>2PT Field Goal</td>\n",
       "      <td>C</td>\n",
       "      <td>1</td>\n",
       "      <td>1</td>\n",
       "      <td>1</td>\n",
       "    </tr>\n",
       "    <tr>\n",
       "      <th>4</th>\n",
       "      <td>True</td>\n",
       "      <td>PG</td>\n",
       "      <td>2PT Field Goal</td>\n",
       "      <td>C</td>\n",
       "      <td>1</td>\n",
       "      <td>1</td>\n",
       "      <td>1</td>\n",
       "    </tr>\n",
       "  </tbody>\n",
       "</table>\n",
       "</div>"
      ],
      "text/plain": [
       "   SHOT_MADE POSITION       SHOT_TYPE ZONE_ABB  SHOT_DISTANCE  QUARTER  y\n",
       "0      False       SG  2PT Field Goal        C             12        1  0\n",
       "1       True       SF  3PT Field Goal        C             25        1  1\n",
       "2       True       PG  2PT Field Goal        C              3        1  1\n",
       "3       True       SG  2PT Field Goal        C              1        1  1\n",
       "4       True       PG  2PT Field Goal        C              1        1  1"
      ]
     },
     "execution_count": 5,
     "metadata": {},
     "output_type": "execute_result"
    }
   ],
   "source": [
    "vars = df[[\"SHOT_MADE\", \"POSITION\", \"SHOT_TYPE\", \"ZONE_ABB\", \"SHOT_DISTANCE\", \"QUARTER\", 'y']]\n",
    "vars.head()"
   ]
  },
  {
   "cell_type": "code",
   "execution_count": 6,
   "id": "e7f8ede0",
   "metadata": {},
   "outputs": [
    {
     "data": {
      "text/plain": [
       "SHOT_MADE          bool\n",
       "POSITION         object\n",
       "SHOT_TYPE        object\n",
       "ZONE_ABB         object\n",
       "SHOT_DISTANCE     int64\n",
       "QUARTER           int64\n",
       "y                 int64\n",
       "dtype: object"
      ]
     },
     "execution_count": 6,
     "metadata": {},
     "output_type": "execute_result"
    }
   ],
   "source": [
    "vars.dtypes"
   ]
  },
  {
   "cell_type": "code",
   "execution_count": 7,
   "id": "7a8d07bd",
   "metadata": {},
   "outputs": [
    {
     "data": {
      "text/plain": [
       "SHOT_MADE           0\n",
       "POSITION         1264\n",
       "SHOT_TYPE           0\n",
       "ZONE_ABB            0\n",
       "SHOT_DISTANCE       0\n",
       "QUARTER             0\n",
       "y                   0\n",
       "dtype: int64"
      ]
     },
     "execution_count": 7,
     "metadata": {},
     "output_type": "execute_result"
    }
   ],
   "source": [
    "vars.isna().sum()"
   ]
  },
  {
   "cell_type": "code",
   "execution_count": 8,
   "id": "ec3cf303",
   "metadata": {},
   "outputs": [
    {
     "data": {
      "text/plain": [
       "array(['SG', 'SF', 'PG', 'PF', 'PF-SF', 'C-PF', 'C', 'PF-C', 'PG-SG',\n",
       "       'SF-PF', 'SG-PG', 'SF-SG', nan], dtype=object)"
      ]
     },
     "execution_count": 8,
     "metadata": {},
     "output_type": "execute_result"
    }
   ],
   "source": [
    "vars['POSITION'].unique()"
   ]
  },
  {
   "cell_type": "code",
   "execution_count": 9,
   "id": "e1328ec0",
   "metadata": {},
   "outputs": [
    {
     "data": {
      "text/plain": [
       "array(['2PT Field Goal', '3PT Field Goal'], dtype=object)"
      ]
     },
     "execution_count": 9,
     "metadata": {},
     "output_type": "execute_result"
    }
   ],
   "source": [
    "vars['SHOT_TYPE'].unique()"
   ]
  },
  {
   "cell_type": "code",
   "execution_count": 10,
   "id": "d1b6cdbe",
   "metadata": {},
   "outputs": [
    {
     "data": {
      "text/plain": [
       "array(['C', 'LC', 'RC', 'R', 'L', 'BC'], dtype=object)"
      ]
     },
     "execution_count": 10,
     "metadata": {},
     "output_type": "execute_result"
    }
   ],
   "source": [
    "vars['ZONE_ABB'].unique()"
   ]
  },
  {
   "cell_type": "code",
   "execution_count": 11,
   "id": "e9b66036",
   "metadata": {},
   "outputs": [],
   "source": [
    "df_clean = vars.dropna()\n",
    "total_dropped = vars.shape[0] - df_clean.shape[0]"
   ]
  },
  {
   "cell_type": "code",
   "execution_count": 12,
   "id": "c3835e18",
   "metadata": {},
   "outputs": [
    {
     "name": "stdout",
     "output_type": "stream",
     "text": [
      "There are 1264 total dropped rows after cleaning.\n"
     ]
    }
   ],
   "source": [
    "print(\"There are\", total_dropped ,\"total dropped rows after cleaning.\")"
   ]
  },
  {
   "cell_type": "code",
   "execution_count": 13,
   "id": "7a8fc583",
   "metadata": {},
   "outputs": [
    {
     "name": "stdout",
     "output_type": "stream",
     "text": [
      "There are 217437 total rows.\n"
     ]
    }
   ],
   "source": [
    "print(\"There are\", df_clean.shape[0] ,\"total rows.\")"
   ]
  },
  {
   "cell_type": "code",
   "execution_count": 14,
   "id": "a66dd32a",
   "metadata": {},
   "outputs": [
    {
     "data": {
      "text/html": [
       "<div>\n",
       "<style scoped>\n",
       "    .dataframe tbody tr th:only-of-type {\n",
       "        vertical-align: middle;\n",
       "    }\n",
       "\n",
       "    .dataframe tbody tr th {\n",
       "        vertical-align: top;\n",
       "    }\n",
       "\n",
       "    .dataframe thead th {\n",
       "        text-align: right;\n",
       "    }\n",
       "</style>\n",
       "<table border=\"1\" class=\"dataframe\">\n",
       "  <thead>\n",
       "    <tr style=\"text-align: right;\">\n",
       "      <th></th>\n",
       "      <th>SHOT_MADE</th>\n",
       "      <th>POSITION</th>\n",
       "      <th>SHOT_TYPE</th>\n",
       "      <th>ZONE_ABB</th>\n",
       "      <th>SHOT_DISTANCE</th>\n",
       "      <th>QUARTER</th>\n",
       "      <th>y</th>\n",
       "    </tr>\n",
       "  </thead>\n",
       "  <tbody>\n",
       "    <tr>\n",
       "      <th>0</th>\n",
       "      <td>False</td>\n",
       "      <td>SG</td>\n",
       "      <td>2PT Field Goal</td>\n",
       "      <td>C</td>\n",
       "      <td>12</td>\n",
       "      <td>1</td>\n",
       "      <td>0</td>\n",
       "    </tr>\n",
       "    <tr>\n",
       "      <th>1</th>\n",
       "      <td>True</td>\n",
       "      <td>SF</td>\n",
       "      <td>3PT Field Goal</td>\n",
       "      <td>C</td>\n",
       "      <td>25</td>\n",
       "      <td>1</td>\n",
       "      <td>1</td>\n",
       "    </tr>\n",
       "    <tr>\n",
       "      <th>2</th>\n",
       "      <td>True</td>\n",
       "      <td>PG</td>\n",
       "      <td>2PT Field Goal</td>\n",
       "      <td>C</td>\n",
       "      <td>3</td>\n",
       "      <td>1</td>\n",
       "      <td>1</td>\n",
       "    </tr>\n",
       "    <tr>\n",
       "      <th>3</th>\n",
       "      <td>True</td>\n",
       "      <td>SG</td>\n",
       "      <td>2PT Field Goal</td>\n",
       "      <td>C</td>\n",
       "      <td>1</td>\n",
       "      <td>1</td>\n",
       "      <td>1</td>\n",
       "    </tr>\n",
       "    <tr>\n",
       "      <th>4</th>\n",
       "      <td>True</td>\n",
       "      <td>PG</td>\n",
       "      <td>2PT Field Goal</td>\n",
       "      <td>C</td>\n",
       "      <td>1</td>\n",
       "      <td>1</td>\n",
       "      <td>1</td>\n",
       "    </tr>\n",
       "  </tbody>\n",
       "</table>\n",
       "</div>"
      ],
      "text/plain": [
       "   SHOT_MADE POSITION       SHOT_TYPE ZONE_ABB  SHOT_DISTANCE  QUARTER  y\n",
       "0      False       SG  2PT Field Goal        C             12        1  0\n",
       "1       True       SF  3PT Field Goal        C             25        1  1\n",
       "2       True       PG  2PT Field Goal        C              3        1  1\n",
       "3       True       SG  2PT Field Goal        C              1        1  1\n",
       "4       True       PG  2PT Field Goal        C              1        1  1"
      ]
     },
     "execution_count": 14,
     "metadata": {},
     "output_type": "execute_result"
    }
   ],
   "source": [
    "df_clean.head()"
   ]
  },
  {
   "cell_type": "code",
   "execution_count": 15,
   "id": "44a17736",
   "metadata": {},
   "outputs": [
    {
     "data": {
      "text/plain": [
       "POSITION\n",
       "SG       47279\n",
       "PG       45355\n",
       "SF       44096\n",
       "PF       41055\n",
       "C        33956\n",
       "PG-SG     2633\n",
       "SF-SG      850\n",
       "SF-PF      779\n",
       "C-PF       627\n",
       "PF-C       469\n",
       "PF-SF      190\n",
       "SG-PG      148\n",
       "Name: count, dtype: int64"
      ]
     },
     "execution_count": 15,
     "metadata": {},
     "output_type": "execute_result"
    }
   ],
   "source": [
    "df_clean['POSITION'].value_counts()"
   ]
  },
  {
   "cell_type": "code",
   "execution_count": 16,
   "id": "71fb2cae",
   "metadata": {},
   "outputs": [
    {
     "data": {
      "text/plain": [
       "SHOT_TYPE\n",
       "2PT Field Goal    131738\n",
       "3PT Field Goal     85699\n",
       "Name: count, dtype: int64"
      ]
     },
     "execution_count": 16,
     "metadata": {},
     "output_type": "execute_result"
    }
   ],
   "source": [
    "df_clean['SHOT_TYPE'].value_counts()"
   ]
  },
  {
   "cell_type": "code",
   "execution_count": 17,
   "id": "7ba9ceae",
   "metadata": {},
   "outputs": [
    {
     "data": {
      "text/plain": [
       "ZONE_ABB\n",
       "C     123515\n",
       "LC     27881\n",
       "RC     26361\n",
       "L      19816\n",
       "R      19400\n",
       "BC       464\n",
       "Name: count, dtype: int64"
      ]
     },
     "execution_count": 17,
     "metadata": {},
     "output_type": "execute_result"
    }
   ],
   "source": [
    "df_clean['ZONE_ABB'].value_counts()"
   ]
  },
  {
   "cell_type": "code",
   "execution_count": 18,
   "id": "7b5191b1",
   "metadata": {},
   "outputs": [
    {
     "data": {
      "text/plain": [
       "QUARTER\n",
       "1    56235\n",
       "2    54349\n",
       "3    54118\n",
       "4    51559\n",
       "5     1034\n",
       "6      142\n",
       "Name: count, dtype: int64"
      ]
     },
     "execution_count": 18,
     "metadata": {},
     "output_type": "execute_result"
    }
   ],
   "source": [
    "df_clean['QUARTER'].value_counts()"
   ]
  },
  {
   "cell_type": "code",
   "execution_count": 19,
   "id": "8970f962",
   "metadata": {},
   "outputs": [
    {
     "data": {
      "image/png": "[encoded data removed]",
      "text/plain": [
       "<Figure size 640x480 with 1 Axes>"
      ]
     },
     "metadata": {},
     "output_type": "display_data"
    }
   ],
   "source": [
    "plt.scatter(df_clean['SHOT_DISTANCE'], df_clean['QUARTER'])\n",
    "plt.xlabel('SHOT_DISTANCE')\n",
    "plt.ylabel('QUARTER')\n",
    "plt.title('Scatterplot of Shot Distance vs Quarter')\n",
    "plt.show()"
   ]
  },
  {
   "cell_type": "markdown",
   "id": "f173ba69",
   "metadata": {},
   "source": [
    "#### Removing Quarters Greater than 4\n",
    "\n",
    "Since the pool of **overtime (OT)** games in this dataset is small and could affect the data, removing rows where the **quarter value** is greater than 4 seems justified. Overtime periods are rare, and their inclusion could introduce bias in our analysis."
   ]
  },
  {
   "cell_type": "code",
   "execution_count": 20,
   "id": "cb95b5ef",
   "metadata": {},
   "outputs": [
    {
     "data": {
      "text/html": [
       "<div>\n",
       "<style scoped>\n",
       "    .dataframe tbody tr th:only-of-type {\n",
       "        vertical-align: middle;\n",
       "    }\n",
       "\n",
       "    .dataframe tbody tr th {\n",
       "        vertical-align: top;\n",
       "    }\n",
       "\n",
       "    .dataframe thead th {\n",
       "        text-align: right;\n",
       "    }\n",
       "</style>\n",
       "<table border=\"1\" class=\"dataframe\">\n",
       "  <thead>\n",
       "    <tr style=\"text-align: right;\">\n",
       "      <th></th>\n",
       "      <th>SHOT_MADE</th>\n",
       "      <th>POSITION</th>\n",
       "      <th>SHOT_TYPE</th>\n",
       "      <th>ZONE_ABB</th>\n",
       "      <th>SHOT_DISTANCE</th>\n",
       "      <th>QUARTER</th>\n",
       "      <th>y</th>\n",
       "    </tr>\n",
       "  </thead>\n",
       "  <tbody>\n",
       "    <tr>\n",
       "      <th>0</th>\n",
       "      <td>False</td>\n",
       "      <td>SG</td>\n",
       "      <td>2PT Field Goal</td>\n",
       "      <td>C</td>\n",
       "      <td>12</td>\n",
       "      <td>1</td>\n",
       "      <td>0</td>\n",
       "    </tr>\n",
       "    <tr>\n",
       "      <th>1</th>\n",
       "      <td>True</td>\n",
       "      <td>SF</td>\n",
       "      <td>3PT Field Goal</td>\n",
       "      <td>C</td>\n",
       "      <td>25</td>\n",
       "      <td>1</td>\n",
       "      <td>1</td>\n",
       "    </tr>\n",
       "    <tr>\n",
       "      <th>2</th>\n",
       "      <td>True</td>\n",
       "      <td>PG</td>\n",
       "      <td>2PT Field Goal</td>\n",
       "      <td>C</td>\n",
       "      <td>3</td>\n",
       "      <td>1</td>\n",
       "      <td>1</td>\n",
       "    </tr>\n",
       "    <tr>\n",
       "      <th>3</th>\n",
       "      <td>True</td>\n",
       "      <td>SG</td>\n",
       "      <td>2PT Field Goal</td>\n",
       "      <td>C</td>\n",
       "      <td>1</td>\n",
       "      <td>1</td>\n",
       "      <td>1</td>\n",
       "    </tr>\n",
       "    <tr>\n",
       "      <th>4</th>\n",
       "      <td>True</td>\n",
       "      <td>PG</td>\n",
       "      <td>2PT Field Goal</td>\n",
       "      <td>C</td>\n",
       "      <td>1</td>\n",
       "      <td>1</td>\n",
       "      <td>1</td>\n",
       "    </tr>\n",
       "    <tr>\n",
       "      <th>...</th>\n",
       "      <td>...</td>\n",
       "      <td>...</td>\n",
       "      <td>...</td>\n",
       "      <td>...</td>\n",
       "      <td>...</td>\n",
       "      <td>...</td>\n",
       "      <td>...</td>\n",
       "    </tr>\n",
       "    <tr>\n",
       "      <th>218696</th>\n",
       "      <td>False</td>\n",
       "      <td>SG</td>\n",
       "      <td>3PT Field Goal</td>\n",
       "      <td>LC</td>\n",
       "      <td>27</td>\n",
       "      <td>4</td>\n",
       "      <td>0</td>\n",
       "    </tr>\n",
       "    <tr>\n",
       "      <th>218697</th>\n",
       "      <td>False</td>\n",
       "      <td>C</td>\n",
       "      <td>2PT Field Goal</td>\n",
       "      <td>C</td>\n",
       "      <td>9</td>\n",
       "      <td>4</td>\n",
       "      <td>0</td>\n",
       "    </tr>\n",
       "    <tr>\n",
       "      <th>218698</th>\n",
       "      <td>True</td>\n",
       "      <td>C</td>\n",
       "      <td>2PT Field Goal</td>\n",
       "      <td>C</td>\n",
       "      <td>4</td>\n",
       "      <td>4</td>\n",
       "      <td>1</td>\n",
       "    </tr>\n",
       "    <tr>\n",
       "      <th>218699</th>\n",
       "      <td>True</td>\n",
       "      <td>SG</td>\n",
       "      <td>3PT Field Goal</td>\n",
       "      <td>C</td>\n",
       "      <td>29</td>\n",
       "      <td>4</td>\n",
       "      <td>1</td>\n",
       "    </tr>\n",
       "    <tr>\n",
       "      <th>218700</th>\n",
       "      <td>False</td>\n",
       "      <td>SG</td>\n",
       "      <td>3PT Field Goal</td>\n",
       "      <td>RC</td>\n",
       "      <td>28</td>\n",
       "      <td>4</td>\n",
       "      <td>0</td>\n",
       "    </tr>\n",
       "  </tbody>\n",
       "</table>\n",
       "<p>216261 rows × 7 columns</p>\n",
       "</div>"
      ],
      "text/plain": [
       "        SHOT_MADE POSITION       SHOT_TYPE ZONE_ABB  SHOT_DISTANCE  QUARTER  y\n",
       "0           False       SG  2PT Field Goal        C             12        1  0\n",
       "1            True       SF  3PT Field Goal        C             25        1  1\n",
       "2            True       PG  2PT Field Goal        C              3        1  1\n",
       "3            True       SG  2PT Field Goal        C              1        1  1\n",
       "4            True       PG  2PT Field Goal        C              1        1  1\n",
       "...           ...      ...             ...      ...            ...      ... ..\n",
       "218696      False       SG  3PT Field Goal       LC             27        4  0\n",
       "218697      False        C  2PT Field Goal        C              9        4  0\n",
       "218698       True        C  2PT Field Goal        C              4        4  1\n",
       "218699       True       SG  3PT Field Goal        C             29        4  1\n",
       "218700      False       SG  3PT Field Goal       RC             28        4  0\n",
       "\n",
       "[216261 rows x 7 columns]"
      ]
     },
     "execution_count": 20,
     "metadata": {},
     "output_type": "execute_result"
    }
   ],
   "source": [
    "df_clean = df_clean[df_clean[\"QUARTER\"] <= 4]\n",
    "df_clean"
   ]
  },
  {
   "cell_type": "code",
   "execution_count": 21,
   "id": "0e582514",
   "metadata": {},
   "outputs": [
    {
     "data": {
      "text/plain": [
       "array([1, 2, 3, 4])"
      ]
     },
     "execution_count": 21,
     "metadata": {},
     "output_type": "execute_result"
    }
   ],
   "source": [
    "df_clean[\"QUARTER\"].unique()"
   ]
  },
  {
   "cell_type": "code",
   "execution_count": 22,
   "id": "a29d4f47",
   "metadata": {},
   "outputs": [
    {
     "data": {
      "image/png": "[encoded data removed]",
      "text/plain": [
       "<Figure size 800x500 with 1 Axes>"
      ]
     },
     "metadata": {},
     "output_type": "display_data"
    }
   ],
   "source": [
    "plt.figure(figsize=(8, 5))\n",
    "plt.scatter(df_clean['SHOT_DISTANCE'], df_clean['QUARTER'])\n",
    "plt.xlabel('SHOT_DISTANCE (ft)')\n",
    "plt.ylabel('QUARTER')\n",
    "plt.title('Scatterplot of Shot Distance vs Quarter')\n",
    "plt.show()"
   ]
  },
  {
   "cell_type": "code",
   "execution_count": 23,
   "id": "ee324501",
   "metadata": {},
   "outputs": [
    {
     "data": {
      "text/plain": [
       "1176"
      ]
     },
     "execution_count": 23,
     "metadata": {},
     "output_type": "execute_result"
    }
   ],
   "source": [
    "remov_outlier = 217437-216261\n",
    "remov_outlier"
   ]
  },
  {
   "cell_type": "code",
   "execution_count": 24,
   "id": "99ec8fd9",
   "metadata": {},
   "outputs": [
    {
     "name": "stdout",
     "output_type": "stream",
     "text": [
      "There are 1176 total rows removed.\n"
     ]
    }
   ],
   "source": [
    "print(\"There are\", remov_outlier ,\"total rows removed.\")"
   ]
  },
  {
   "cell_type": "code",
   "execution_count": 25,
   "id": "3a9bb0f3",
   "metadata": {},
   "outputs": [
    {
     "name": "stdout",
     "output_type": "stream",
     "text": [
      "There are 216261 total rows after removing the outliers.\n"
     ]
    }
   ],
   "source": [
    "print(\"There are\", df_clean.shape[0] ,\"total rows after removing the outliers.\")"
   ]
  },
  {
   "cell_type": "markdown",
   "id": "beadb669",
   "metadata": {},
   "source": [
    "### Removing Hybrid Position Players\n",
    "\n",
    "Since the pool of hybrid position players in this dataset is small and could affect the data, removing rows where the position type listed shows multiple positions seems justified. Hybrid position players are rare, and their inclusion could introduce bias in our analysis. It's better to have a standard format than to introduce hybrid positions. "
   ]
  },
  {
   "cell_type": "code",
   "execution_count": 26,
   "id": "3fd7d174",
   "metadata": {},
   "outputs": [
    {
     "data": {
      "text/plain": [
       "array(['SG', 'SF', 'PG', 'PF', 'PF-SF', 'C-PF', 'C', 'PF-C', 'PG-SG',\n",
       "       'SF-PF', 'SG-PG', 'SF-SG'], dtype=object)"
      ]
     },
     "execution_count": 26,
     "metadata": {},
     "output_type": "execute_result"
    }
   ],
   "source": [
    "df_clean[\"POSITION\"].unique()"
   ]
  },
  {
   "cell_type": "code",
   "execution_count": 27,
   "id": "84656859",
   "metadata": {},
   "outputs": [
    {
     "data": {
      "text/html": [
       "<div>\n",
       "<style scoped>\n",
       "    .dataframe tbody tr th:only-of-type {\n",
       "        vertical-align: middle;\n",
       "    }\n",
       "\n",
       "    .dataframe tbody tr th {\n",
       "        vertical-align: top;\n",
       "    }\n",
       "\n",
       "    .dataframe thead th {\n",
       "        text-align: right;\n",
       "    }\n",
       "</style>\n",
       "<table border=\"1\" class=\"dataframe\">\n",
       "  <thead>\n",
       "    <tr style=\"text-align: right;\">\n",
       "      <th></th>\n",
       "      <th>SHOT_MADE</th>\n",
       "      <th>POSITION</th>\n",
       "      <th>SHOT_TYPE</th>\n",
       "      <th>ZONE_ABB</th>\n",
       "      <th>SHOT_DISTANCE</th>\n",
       "      <th>QUARTER</th>\n",
       "      <th>y</th>\n",
       "    </tr>\n",
       "  </thead>\n",
       "  <tbody>\n",
       "    <tr>\n",
       "      <th>0</th>\n",
       "      <td>False</td>\n",
       "      <td>SG</td>\n",
       "      <td>2PT Field Goal</td>\n",
       "      <td>C</td>\n",
       "      <td>12</td>\n",
       "      <td>1</td>\n",
       "      <td>0</td>\n",
       "    </tr>\n",
       "    <tr>\n",
       "      <th>1</th>\n",
       "      <td>True</td>\n",
       "      <td>SF</td>\n",
       "      <td>3PT Field Goal</td>\n",
       "      <td>C</td>\n",
       "      <td>25</td>\n",
       "      <td>1</td>\n",
       "      <td>1</td>\n",
       "    </tr>\n",
       "    <tr>\n",
       "      <th>2</th>\n",
       "      <td>True</td>\n",
       "      <td>PG</td>\n",
       "      <td>2PT Field Goal</td>\n",
       "      <td>C</td>\n",
       "      <td>3</td>\n",
       "      <td>1</td>\n",
       "      <td>1</td>\n",
       "    </tr>\n",
       "    <tr>\n",
       "      <th>3</th>\n",
       "      <td>True</td>\n",
       "      <td>SG</td>\n",
       "      <td>2PT Field Goal</td>\n",
       "      <td>C</td>\n",
       "      <td>1</td>\n",
       "      <td>1</td>\n",
       "      <td>1</td>\n",
       "    </tr>\n",
       "    <tr>\n",
       "      <th>4</th>\n",
       "      <td>True</td>\n",
       "      <td>PG</td>\n",
       "      <td>2PT Field Goal</td>\n",
       "      <td>C</td>\n",
       "      <td>1</td>\n",
       "      <td>1</td>\n",
       "      <td>1</td>\n",
       "    </tr>\n",
       "    <tr>\n",
       "      <th>...</th>\n",
       "      <td>...</td>\n",
       "      <td>...</td>\n",
       "      <td>...</td>\n",
       "      <td>...</td>\n",
       "      <td>...</td>\n",
       "      <td>...</td>\n",
       "      <td>...</td>\n",
       "    </tr>\n",
       "    <tr>\n",
       "      <th>218696</th>\n",
       "      <td>False</td>\n",
       "      <td>SG</td>\n",
       "      <td>3PT Field Goal</td>\n",
       "      <td>LC</td>\n",
       "      <td>27</td>\n",
       "      <td>4</td>\n",
       "      <td>0</td>\n",
       "    </tr>\n",
       "    <tr>\n",
       "      <th>218697</th>\n",
       "      <td>False</td>\n",
       "      <td>C</td>\n",
       "      <td>2PT Field Goal</td>\n",
       "      <td>C</td>\n",
       "      <td>9</td>\n",
       "      <td>4</td>\n",
       "      <td>0</td>\n",
       "    </tr>\n",
       "    <tr>\n",
       "      <th>218698</th>\n",
       "      <td>True</td>\n",
       "      <td>C</td>\n",
       "      <td>2PT Field Goal</td>\n",
       "      <td>C</td>\n",
       "      <td>4</td>\n",
       "      <td>4</td>\n",
       "      <td>1</td>\n",
       "    </tr>\n",
       "    <tr>\n",
       "      <th>218699</th>\n",
       "      <td>True</td>\n",
       "      <td>SG</td>\n",
       "      <td>3PT Field Goal</td>\n",
       "      <td>C</td>\n",
       "      <td>29</td>\n",
       "      <td>4</td>\n",
       "      <td>1</td>\n",
       "    </tr>\n",
       "    <tr>\n",
       "      <th>218700</th>\n",
       "      <td>False</td>\n",
       "      <td>SG</td>\n",
       "      <td>3PT Field Goal</td>\n",
       "      <td>RC</td>\n",
       "      <td>28</td>\n",
       "      <td>4</td>\n",
       "      <td>0</td>\n",
       "    </tr>\n",
       "  </tbody>\n",
       "</table>\n",
       "<p>210584 rows × 7 columns</p>\n",
       "</div>"
      ],
      "text/plain": [
       "        SHOT_MADE POSITION       SHOT_TYPE ZONE_ABB  SHOT_DISTANCE  QUARTER  y\n",
       "0           False       SG  2PT Field Goal        C             12        1  0\n",
       "1            True       SF  3PT Field Goal        C             25        1  1\n",
       "2            True       PG  2PT Field Goal        C              3        1  1\n",
       "3            True       SG  2PT Field Goal        C              1        1  1\n",
       "4            True       PG  2PT Field Goal        C              1        1  1\n",
       "...           ...      ...             ...      ...            ...      ... ..\n",
       "218696      False       SG  3PT Field Goal       LC             27        4  0\n",
       "218697      False        C  2PT Field Goal        C              9        4  0\n",
       "218698       True        C  2PT Field Goal        C              4        4  1\n",
       "218699       True       SG  3PT Field Goal        C             29        4  1\n",
       "218700      False       SG  3PT Field Goal       RC             28        4  0\n",
       "\n",
       "[210584 rows x 7 columns]"
      ]
     },
     "execution_count": 27,
     "metadata": {},
     "output_type": "execute_result"
    }
   ],
   "source": [
    "df_clean = df_clean[(df_clean[\"POSITION\"] != \"PF-SF\")\n",
    "                    &(df_clean[\"POSITION\"] != \"SF-PF\")& (df_clean[\"POSITION\"] != \"C-PF\")& (df_clean[\"POSITION\"] != \"PF-C\")\n",
    "                    & (df_clean[\"POSITION\"] != \"C-SF\")& (df_clean[\"POSITION\"] != \"SF-C\")&(df_clean[\"POSITION\"] != 'PG-SG')\n",
    "                    &(df_clean[\"POSITION\"] != 'SG-PG')& (df_clean[\"POSITION\"] != 'SG-SF')& (df_clean[\"POSITION\"] != 'SF-SG')]\n",
    "df_clean\n"
   ]
  },
  {
   "cell_type": "code",
   "execution_count": 28,
   "id": "3c562304",
   "metadata": {},
   "outputs": [
    {
     "data": {
      "text/plain": [
       "array(['SG', 'SF', 'PG', 'PF', 'C'], dtype=object)"
      ]
     },
     "execution_count": 28,
     "metadata": {},
     "output_type": "execute_result"
    }
   ],
   "source": [
    "df_clean[\"POSITION\"].unique()"
   ]
  },
  {
   "cell_type": "code",
   "execution_count": 29,
   "id": "d621ab19",
   "metadata": {},
   "outputs": [
    {
     "data": {
      "image/png": "[encoded data removed]",
      "text/plain": [
       "<Figure size 800x500 with 1 Axes>"
      ]
     },
     "metadata": {},
     "output_type": "display_data"
    }
   ],
   "source": [
    "plt.figure(figsize=(8, 5))\n",
    "plt.scatter(df_clean['SHOT_DISTANCE'], df_clean['POSITION'])\n",
    "plt.xlabel('SHOT_DISTANCE (ft)')\n",
    "plt.ylabel('POSITION')\n",
    "plt.title('Scatterplot of Shot Distance vs POSITION')\n",
    "plt.show()"
   ]
  },
  {
   "cell_type": "code",
   "execution_count": 30,
   "id": "a698c8e1",
   "metadata": {},
   "outputs": [
    {
     "data": {
      "text/plain": [
       "8117"
      ]
     },
     "execution_count": 30,
     "metadata": {},
     "output_type": "execute_result"
    }
   ],
   "source": [
    "remov_outlier = df.shape[0] - df_clean.shape[0]\n",
    "remov_outlier"
   ]
  },
  {
   "cell_type": "code",
   "execution_count": 31,
   "id": "2b4c656d",
   "metadata": {},
   "outputs": [
    {
     "data": {
      "text/plain": [
       "210584"
      ]
     },
     "execution_count": 31,
     "metadata": {},
     "output_type": "execute_result"
    }
   ],
   "source": [
    "df_clean.shape[0]"
   ]
  },
  {
   "cell_type": "markdown",
   "id": "b3783da9",
   "metadata": {},
   "source": [
    "## 4. Preliminary Analysis"
   ]
  },
  {
   "cell_type": "markdown",
   "id": "cab819db",
   "metadata": {},
   "source": [
    "We analyzed the relationship between each explanatory variable and `SHOT_MADE`:\n",
    "\n",
    "- **Shot Type**: **2-point field goals** have a higher success rate (about **55%**) compared to **3-point field goals** (about **36%**), making **`SHOT_TYPE`** a strong predictor of shot success.\n",
    "  \n",
    "- **Court Zone**: **Center (C)** shots have the highest success (about **55%**), while **backcourt (BC)** shots have the lowest (around **3%**). **`ZONE_ABB`** is an important predictor, with shots closer to the basket being more likey to be made.\n",
    "\n",
    "- **Player Position**: **Centers (C)** have the highest shot success (~**55%**), while **Guards (PG, SG)** and **Forwards (SF, PF)** range from **45%-50%**, meaning **`POSITION`** has moderate predictive power.\n",
    "\n",
    "- **Shot Distance**: **Made shots** are taken from much **shorter distances** (~**5 feet**), while missed shots are around **18–20 feet**. **`SHOT_DISTANCE`** is a strong predictor of shot success.\n",
    "\n",
    "- **Quarter**: Shot success doesn't vary much by quarter, making **`QUARTER`** a weak predictor. The gap between made and missed shots narrows in later quarters, possibly due to factors like fatigue, fouls, or timeouts.\n",
    "\n",
    "### Variable Relationships:\n",
    "\n",
    "- **Shot Distance and Quarter**: No strong relationship (correlation = **-0.006361**).\n",
    "  \n",
    "- **Shot Type and Position**: **Guards (PG, SG, SF)** take more **3-pointers**, while **Centers (C)** focus on **2-point shots**.\n",
    "\n",
    "### Interaction Effects:\n",
    "\n",
    "- **Shot Distance and Shot Type**: Longer distances are strongly linked with **3-pointers**, showing an interaction between **`SHOT_TYPE`** and **`SHOT_DISTANCE`**.\n"
   ]
  },
  {
   "cell_type": "code",
   "execution_count": 32,
   "id": "a1a3a850",
   "metadata": {},
   "outputs": [
    {
     "data": {
      "image/png": "[encoded data removed]",
      "text/plain": [
       "<Figure size 800x500 with 1 Axes>"
      ]
     },
     "metadata": {},
     "output_type": "display_data"
    }
   ],
   "source": [
    "plt.figure(figsize=(8,5))\n",
    "sns.barplot(data=df_clean, x='SHOT_TYPE', y='y')\n",
    "plt.title('Shot Type vs Shot Made Probability')\n",
    "plt.ylabel('Probability of Made Shot')\n",
    "plt.xlabel('Shot Type')\n",
    "plt.show()"
   ]
  },
  {
   "cell_type": "markdown",
   "id": "563ea701",
   "metadata": {},
   "source": [
    "The probability of making a shot is higher for **2-point field goals** compared to **3-point field goals**, with players making about **55%** of their 2-point shots, while the shot made percentage for 3-point shots drops to around **36%**. This means that `SHOT_TYPE` is a strong predictor of whether a shot will be made, with 2-point shots being more reliable for getting points in basketball."
   ]
  },
  {
   "cell_type": "code",
   "execution_count": 33,
   "id": "0d13d164",
   "metadata": {},
   "outputs": [
    {
     "data": {
      "image/png": "[encoded data removed]",
      "text/plain": [
       "<Figure size 1000x500 with 1 Axes>"
      ]
     },
     "metadata": {},
     "output_type": "display_data"
    }
   ],
   "source": [
    "plt.figure(figsize=(10,5))\n",
    "sns.barplot(data=df_clean, x='ZONE_ABB', y='y')\n",
    "plt.title('Court Zone vs Shot Made Probability')\n",
    "plt.ylabel('Probability of Made Shot')\n",
    "plt.xlabel('Zone')\n",
    "plt.show()"
   ]
  },
  {
   "cell_type": "markdown",
   "id": "71e3c020",
   "metadata": {},
   "source": [
    "There is some variation in shot success based on court zone.\n",
    "\n",
    "- Shots taken from the **center (C)** zone have the highest shot make probability, which is about **55%**.  \n",
    "- Shots from the **right (R)** and **left (L)** zones follow at roughly **41%** and **40%**, while shots from the **left corner (LC)** and **right corner (RC)** sit near **36–37%**.  \n",
    "- Shots from the **backcourt (BC)** fall to around **3%**.\n",
    "\n",
    "This means that **ZONE_ABB** could have strong predictive power, with shots taken closer to the basket generally yielding higher success rates in made shots.\n"
   ]
  },
  {
   "cell_type": "code",
   "execution_count": 34,
   "id": "0fb6fe9c",
   "metadata": {},
   "outputs": [
    {
     "data": {
      "image/png": "[encoded data removed]",
      "text/plain": [
       "<Figure size 800x500 with 1 Axes>"
      ]
     },
     "metadata": {},
     "output_type": "display_data"
    }
   ],
   "source": [
    "plt.figure(figsize=(8,5))\n",
    "sns.barplot(data=df_clean, x='POSITION', y='y')\n",
    "plt.title('Player Position vs Shot Made Probability')\n",
    "plt.ylabel('Probability of Made Shot')\n",
    "plt.xlabel('Position')\n",
    "plt.show()"
   ]
  },
  {
   "cell_type": "markdown",
   "id": "edc157bc",
   "metadata": {},
   "source": [
    "There is some variation in shot success based on player position.\n",
    "\n",
    "- **Centers (C)** have the highest shot make probability, which is about 55%.  \n",
    "- **Power forwards (PF)** follow at roughly 49%.  \n",
    "- **Small forwards (SF)** sit around 46%.  \n",
    "- **Guards (PG, SG)** fall near 45%.\n",
    "\n",
    "This means that **position** could have moderate predictive power, with big men usually taking closer, higher-percentage shots."
   ]
  },
  {
   "cell_type": "code",
   "execution_count": 35,
   "id": "90e64054",
   "metadata": {},
   "outputs": [
    {
     "data": {
      "image/png": "[encoded data removed]",
      "text/plain": [
       "<Figure size 800x500 with 1 Axes>"
      ]
     },
     "metadata": {},
     "output_type": "display_data"
    }
   ],
   "source": [
    "plt.figure(figsize=(8,5))\n",
    "sns.boxplot(data=df_clean, x='y', y='SHOT_DISTANCE')\n",
    "plt.title('Shot Distance by Shot Made')\n",
    "plt.xlabel('Shot Made (0 = Missed, 1 = Made)')\n",
    "plt.ylabel('Shot Distance')\n",
    "plt.show()"
   ]
  },
  {
   "cell_type": "markdown",
   "id": "19e47b48",
   "metadata": {},
   "source": [
    "### Shot Distance by Shot Made\n",
    "\n",
    "Shots that are **made (labeled as 1)** tend to come from much **shorter distances** compared to missed shots. The **median shot distance** for made shots is approximately **5 feet**, while for missed shots, it's around **18–20 feet**. This suggests that **`SHOT_DISTANCE` is a strong numerical predictor** of whether a shot is made, with **shorter shots being more likely to be made.**.\n"
   ]
  },
  {
   "cell_type": "code",
   "execution_count": 36,
   "id": "dccbfc45",
   "metadata": {},
   "outputs": [
    {
     "data": {
      "image/png": "[encoded data removed]",
      "text/plain": [
       "<Figure size 1000x600 with 1 Axes>"
      ]
     },
     "metadata": {},
     "output_type": "display_data"
    }
   ],
   "source": [
    "plt.figure(figsize=(10,6))\n",
    "sns.countplot(data=df_clean, x='QUARTER', hue='y')\n",
    "plt.title('Shot Outcome by Quarter')\n",
    "plt.xlabel('Quarter')\n",
    "plt.ylabel('Count of Shots')\n",
    "plt.show()"
   ]
  },
  {
   "cell_type": "markdown",
   "id": "6f5929fa",
   "metadata": {},
   "source": [
    "### Shot Outcome by Quarter\n",
    "\n",
    "The chart shows that **missed shots (0)** consistently outnumber **made shots (1)** across all four quarters. Shot attempts are highest in **Quarter 1** and gradually decrease through **Quarter 4**, suggesting a decline in shooting activity as the game progresses. \n",
    "\n",
    "Notably, the gap between made and missed shots narrows in the later quarters, indicating more consistent shooting acuuracy. By **Quarter 4**, the decline in made shots could be attributed to factors like fatigue, defensive pressure, fouls, or timeouts affecting shot opportunities in late-game situations."
   ]
  },
  {
   "cell_type": "code",
   "execution_count": 37,
   "id": "af168023",
   "metadata": {},
   "outputs": [
    {
     "data": {
      "text/html": [
       "<div>\n",
       "<style scoped>\n",
       "    .dataframe tbody tr th:only-of-type {\n",
       "        vertical-align: middle;\n",
       "    }\n",
       "\n",
       "    .dataframe tbody tr th {\n",
       "        vertical-align: top;\n",
       "    }\n",
       "\n",
       "    .dataframe thead th {\n",
       "        text-align: right;\n",
       "    }\n",
       "</style>\n",
       "<table border=\"1\" class=\"dataframe\">\n",
       "  <thead>\n",
       "    <tr style=\"text-align: right;\">\n",
       "      <th></th>\n",
       "      <th>SHOT_DISTANCE</th>\n",
       "      <th>QUARTER</th>\n",
       "      <th>y</th>\n",
       "    </tr>\n",
       "  </thead>\n",
       "  <tbody>\n",
       "    <tr>\n",
       "      <th>SHOT_DISTANCE</th>\n",
       "      <td>1.000000</td>\n",
       "      <td>-0.006361</td>\n",
       "      <td>-0.229746</td>\n",
       "    </tr>\n",
       "    <tr>\n",
       "      <th>QUARTER</th>\n",
       "      <td>-0.006361</td>\n",
       "      <td>1.000000</td>\n",
       "      <td>-0.003661</td>\n",
       "    </tr>\n",
       "    <tr>\n",
       "      <th>y</th>\n",
       "      <td>-0.229746</td>\n",
       "      <td>-0.003661</td>\n",
       "      <td>1.000000</td>\n",
       "    </tr>\n",
       "  </tbody>\n",
       "</table>\n",
       "</div>"
      ],
      "text/plain": [
       "               SHOT_DISTANCE   QUARTER         y\n",
       "SHOT_DISTANCE       1.000000 -0.006361 -0.229746\n",
       "QUARTER            -0.006361  1.000000 -0.003661\n",
       "y                  -0.229746 -0.003661  1.000000"
      ]
     },
     "execution_count": 37,
     "metadata": {},
     "output_type": "execute_result"
    }
   ],
   "source": [
    "corr_matrix = df_clean[['SHOT_DISTANCE', 'QUARTER', 'y']].corr()\n",
    "corr_matrix"
   ]
  },
  {
   "cell_type": "markdown",
   "id": "083ab688",
   "metadata": {},
   "source": [
    "**Correlation between Shot Distance and Quarter**: No strong relationship (correlation = **-0.006361**)."
   ]
  },
  {
   "cell_type": "code",
   "execution_count": 38,
   "id": "936b579b",
   "metadata": {},
   "outputs": [
    {
     "data": {
      "image/png": "[encoded data removed]",
      "text/plain": [
       "<Figure size 640x480 with 1 Axes>"
      ]
     },
     "metadata": {},
     "output_type": "display_data"
    }
   ],
   "source": [
    "sns.boxplot(data=df_clean, x='POSITION', y='SHOT_DISTANCE')\n",
    "plt.title('Interaction Effect of Position and Shot Distance')\n",
    "plt.show()"
   ]
  },
  {
   "cell_type": "markdown",
   "id": "4fc5d04f",
   "metadata": {},
   "source": [
    "The box plot shows shot distances based on player position. The **median** shot distances are:\n",
    "\n",
    "- **SG (Shooting Guard)**: around **19-20 feet**\n",
    "- **SF (Small Forward)**: around **17-19 feet**\n",
    "- **PF (Power Forward)**: around **15-17 feet**\n",
    "- **C (Center)**: under **10-13 feet**\n",
    "\n",
    "The **quartiles** show how spread out the shot distances are:\n",
    "- **PFs** and **Centers** have **wider quartiles**, meaning their shot distances can vary more, with some shots taken from farther away.\n",
    "- **SGs** and **SFs** have **narrower quartiles**, meaning their shots are more consistent, with **SGs** shooting from farther distances.\n",
    "\n",
    "Overall, **SGs** shoot from farther away, **SFs** from mix ranges, and **PFs** and **Centers** from closer distances with more variety."
   ]
  },
  {
   "cell_type": "code",
   "execution_count": 39,
   "id": "a69c3817",
   "metadata": {},
   "outputs": [
    {
     "data": {
      "image/png": "[encoded data removed]",
      "text/plain": [
       "<Figure size 1000x600 with 1 Axes>"
      ]
     },
     "metadata": {},
     "output_type": "display_data"
    }
   ],
   "source": [
    "plt.figure(figsize=(10,6))\n",
    "sns.countplot(data=df_clean, x='POSITION', hue='SHOT_TYPE')\n",
    "plt.title('Shot Type by Position')\n",
    "plt.xlabel('Position')\n",
    "plt.ylabel('Count of Shots')\n",
    "plt.show()"
   ]
  },
  {
   "cell_type": "markdown",
   "id": "6cbabae7",
   "metadata": {},
   "source": [
    "This graph shows the **count of shots** by **position** and **shot type** (2PT and 3PT).\n",
    "\n",
    "- **SGs** and **PGs** primarily take **2PT shots**, with **SGs** shooting slightly more overall.\n",
    "- **SFs** have a more balanced mix of **2PT** and **3PT shots**.\n",
    "- **PFs** focus on **2PT shots**, with fewer **3PT shots**.\n",
    "- **Centers (C)** take far more **2PT shots**, with very few **3PT shots**.\n",
    "\n",
    "Overall, **2PT shots** are more common across all positions, with **Centers** focusing mostly on closer shots (2PT)."
   ]
  },
  {
   "cell_type": "markdown",
   "id": "9a39a6ac",
   "metadata": {},
   "source": [
    "## 5. Model Data Preprocessing"
   ]
  },
  {
   "cell_type": "code",
   "execution_count": 40,
   "id": "5b593e8c",
   "metadata": {},
   "outputs": [],
   "source": [
    "vars = df_clean[['SHOT_TYPE', 'ZONE_ABB', 'SHOT_DISTANCE', 'QUARTER', 'POSITION', 'y']]"
   ]
  },
  {
   "cell_type": "code",
   "execution_count": 41,
   "id": "30eda173",
   "metadata": {},
   "outputs": [],
   "source": [
    "X = vars.drop(['y'], axis=1)\n",
    "y = vars['y']"
   ]
  },
  {
   "cell_type": "code",
   "execution_count": 42,
   "id": "c4799995",
   "metadata": {},
   "outputs": [],
   "source": [
    "X = pd.get_dummies(X, drop_first=True)"
   ]
  },
  {
   "cell_type": "code",
   "execution_count": 43,
   "id": "0e5068f5",
   "metadata": {},
   "outputs": [],
   "source": [
    "scaler = StandardScaler()\n",
    "scaled_X = scaler.fit_transform(X)\n",
    "X = pd.DataFrame(scaled_X, columns=X.columns)"
   ]
  },
  {
   "cell_type": "code",
   "execution_count": 44,
   "id": "0799312b",
   "metadata": {},
   "outputs": [
    {
     "name": "stdout",
     "output_type": "stream",
     "text": [
      "(210584, 12)\n",
      "(210584,)\n"
     ]
    },
    {
     "data": {
      "text/html": [
       "<div>\n",
       "<style scoped>\n",
       "    .dataframe tbody tr th:only-of-type {\n",
       "        vertical-align: middle;\n",
       "    }\n",
       "\n",
       "    .dataframe tbody tr th {\n",
       "        vertical-align: top;\n",
       "    }\n",
       "\n",
       "    .dataframe thead th {\n",
       "        text-align: right;\n",
       "    }\n",
       "</style>\n",
       "<table border=\"1\" class=\"dataframe\">\n",
       "  <thead>\n",
       "    <tr style=\"text-align: right;\">\n",
       "      <th></th>\n",
       "      <th>SHOT_DISTANCE</th>\n",
       "      <th>QUARTER</th>\n",
       "      <th>SHOT_TYPE_3PT Field Goal</th>\n",
       "      <th>ZONE_ABB_C</th>\n",
       "      <th>ZONE_ABB_L</th>\n",
       "      <th>ZONE_ABB_LC</th>\n",
       "      <th>ZONE_ABB_R</th>\n",
       "      <th>ZONE_ABB_RC</th>\n",
       "      <th>POSITION_PF</th>\n",
       "      <th>POSITION_PG</th>\n",
       "      <th>POSITION_SF</th>\n",
       "      <th>POSITION_SG</th>\n",
       "    </tr>\n",
       "  </thead>\n",
       "  <tbody>\n",
       "    <tr>\n",
       "      <th>0</th>\n",
       "      <td>-0.144287</td>\n",
       "      <td>-1.313229</td>\n",
       "      <td>-0.806448</td>\n",
       "      <td>0.871991</td>\n",
       "      <td>-0.316891</td>\n",
       "      <td>-0.383296</td>\n",
       "      <td>-0.312617</td>\n",
       "      <td>-0.371669</td>\n",
       "      <td>-0.490686</td>\n",
       "      <td>-0.521856</td>\n",
       "      <td>-0.513029</td>\n",
       "      <td>1.865766</td>\n",
       "    </tr>\n",
       "    <tr>\n",
       "      <th>1</th>\n",
       "      <td>1.084316</td>\n",
       "      <td>-1.313229</td>\n",
       "      <td>1.240006</td>\n",
       "      <td>0.871991</td>\n",
       "      <td>-0.316891</td>\n",
       "      <td>-0.383296</td>\n",
       "      <td>-0.312617</td>\n",
       "      <td>-0.371669</td>\n",
       "      <td>-0.490686</td>\n",
       "      <td>-0.521856</td>\n",
       "      <td>1.949209</td>\n",
       "      <td>-0.535973</td>\n",
       "    </tr>\n",
       "    <tr>\n",
       "      <th>2</th>\n",
       "      <td>-0.994859</td>\n",
       "      <td>-1.313229</td>\n",
       "      <td>-0.806448</td>\n",
       "      <td>0.871991</td>\n",
       "      <td>-0.316891</td>\n",
       "      <td>-0.383296</td>\n",
       "      <td>-0.312617</td>\n",
       "      <td>-0.371669</td>\n",
       "      <td>-0.490686</td>\n",
       "      <td>1.916236</td>\n",
       "      <td>-0.513029</td>\n",
       "      <td>-0.535973</td>\n",
       "    </tr>\n",
       "    <tr>\n",
       "      <th>3</th>\n",
       "      <td>-1.183875</td>\n",
       "      <td>-1.313229</td>\n",
       "      <td>-0.806448</td>\n",
       "      <td>0.871991</td>\n",
       "      <td>-0.316891</td>\n",
       "      <td>-0.383296</td>\n",
       "      <td>-0.312617</td>\n",
       "      <td>-0.371669</td>\n",
       "      <td>-0.490686</td>\n",
       "      <td>-0.521856</td>\n",
       "      <td>-0.513029</td>\n",
       "      <td>1.865766</td>\n",
       "    </tr>\n",
       "    <tr>\n",
       "      <th>4</th>\n",
       "      <td>-1.183875</td>\n",
       "      <td>-1.313229</td>\n",
       "      <td>-0.806448</td>\n",
       "      <td>0.871991</td>\n",
       "      <td>-0.316891</td>\n",
       "      <td>-0.383296</td>\n",
       "      <td>-0.312617</td>\n",
       "      <td>-0.371669</td>\n",
       "      <td>-0.490686</td>\n",
       "      <td>1.916236</td>\n",
       "      <td>-0.513029</td>\n",
       "      <td>-0.535973</td>\n",
       "    </tr>\n",
       "  </tbody>\n",
       "</table>\n",
       "</div>"
      ],
      "text/plain": [
       "   SHOT_DISTANCE   QUARTER  SHOT_TYPE_3PT Field Goal  ZONE_ABB_C  ZONE_ABB_L  \\\n",
       "0      -0.144287 -1.313229                 -0.806448    0.871991   -0.316891   \n",
       "1       1.084316 -1.313229                  1.240006    0.871991   -0.316891   \n",
       "2      -0.994859 -1.313229                 -0.806448    0.871991   -0.316891   \n",
       "3      -1.183875 -1.313229                 -0.806448    0.871991   -0.316891   \n",
       "4      -1.183875 -1.313229                 -0.806448    0.871991   -0.316891   \n",
       "\n",
       "   ZONE_ABB_LC  ZONE_ABB_R  ZONE_ABB_RC  POSITION_PF  POSITION_PG  \\\n",
       "0    -0.383296   -0.312617    -0.371669    -0.490686    -0.521856   \n",
       "1    -0.383296   -0.312617    -0.371669    -0.490686    -0.521856   \n",
       "2    -0.383296   -0.312617    -0.371669    -0.490686     1.916236   \n",
       "3    -0.383296   -0.312617    -0.371669    -0.490686    -0.521856   \n",
       "4    -0.383296   -0.312617    -0.371669    -0.490686     1.916236   \n",
       "\n",
       "   POSITION_SF  POSITION_SG  \n",
       "0    -0.513029     1.865766  \n",
       "1     1.949209    -0.535973  \n",
       "2    -0.513029    -0.535973  \n",
       "3    -0.513029     1.865766  \n",
       "4    -0.513029    -0.535973  "
      ]
     },
     "execution_count": 44,
     "metadata": {},
     "output_type": "execute_result"
    }
   ],
   "source": [
    "print(X.shape)\n",
    "print(y.shape)\n",
    "X.head()"
   ]
  },
  {
   "cell_type": "code",
   "execution_count": 45,
   "id": "4b70f90e",
   "metadata": {},
   "outputs": [
    {
     "data": {
      "text/html": [
       "<div>\n",
       "<style scoped>\n",
       "    .dataframe tbody tr th:only-of-type {\n",
       "        vertical-align: middle;\n",
       "    }\n",
       "\n",
       "    .dataframe tbody tr th {\n",
       "        vertical-align: top;\n",
       "    }\n",
       "\n",
       "    .dataframe thead th {\n",
       "        text-align: right;\n",
       "    }\n",
       "</style>\n",
       "<table border=\"1\" class=\"dataframe\">\n",
       "  <thead>\n",
       "    <tr style=\"text-align: right;\">\n",
       "      <th></th>\n",
       "      <th>SHOT_DISTANCE</th>\n",
       "      <th>QUARTER</th>\n",
       "      <th>SHOT_TYPE_3PT Field Goal</th>\n",
       "      <th>ZONE_ABB_C</th>\n",
       "      <th>ZONE_ABB_L</th>\n",
       "      <th>ZONE_ABB_LC</th>\n",
       "      <th>ZONE_ABB_R</th>\n",
       "      <th>ZONE_ABB_RC</th>\n",
       "      <th>POSITION_PF</th>\n",
       "      <th>POSITION_PG</th>\n",
       "      <th>POSITION_SF</th>\n",
       "      <th>POSITION_SG</th>\n",
       "    </tr>\n",
       "  </thead>\n",
       "  <tbody>\n",
       "    <tr>\n",
       "      <th>0</th>\n",
       "      <td>-0.144287</td>\n",
       "      <td>-1.313229</td>\n",
       "      <td>-0.806448</td>\n",
       "      <td>0.871991</td>\n",
       "      <td>-0.316891</td>\n",
       "      <td>-0.383296</td>\n",
       "      <td>-0.312617</td>\n",
       "      <td>-0.371669</td>\n",
       "      <td>-0.490686</td>\n",
       "      <td>-0.521856</td>\n",
       "      <td>-0.513029</td>\n",
       "      <td>1.865766</td>\n",
       "    </tr>\n",
       "    <tr>\n",
       "      <th>1</th>\n",
       "      <td>1.084316</td>\n",
       "      <td>-1.313229</td>\n",
       "      <td>1.240006</td>\n",
       "      <td>0.871991</td>\n",
       "      <td>-0.316891</td>\n",
       "      <td>-0.383296</td>\n",
       "      <td>-0.312617</td>\n",
       "      <td>-0.371669</td>\n",
       "      <td>-0.490686</td>\n",
       "      <td>-0.521856</td>\n",
       "      <td>1.949209</td>\n",
       "      <td>-0.535973</td>\n",
       "    </tr>\n",
       "    <tr>\n",
       "      <th>2</th>\n",
       "      <td>-0.994859</td>\n",
       "      <td>-1.313229</td>\n",
       "      <td>-0.806448</td>\n",
       "      <td>0.871991</td>\n",
       "      <td>-0.316891</td>\n",
       "      <td>-0.383296</td>\n",
       "      <td>-0.312617</td>\n",
       "      <td>-0.371669</td>\n",
       "      <td>-0.490686</td>\n",
       "      <td>1.916236</td>\n",
       "      <td>-0.513029</td>\n",
       "      <td>-0.535973</td>\n",
       "    </tr>\n",
       "    <tr>\n",
       "      <th>3</th>\n",
       "      <td>-1.183875</td>\n",
       "      <td>-1.313229</td>\n",
       "      <td>-0.806448</td>\n",
       "      <td>0.871991</td>\n",
       "      <td>-0.316891</td>\n",
       "      <td>-0.383296</td>\n",
       "      <td>-0.312617</td>\n",
       "      <td>-0.371669</td>\n",
       "      <td>-0.490686</td>\n",
       "      <td>-0.521856</td>\n",
       "      <td>-0.513029</td>\n",
       "      <td>1.865766</td>\n",
       "    </tr>\n",
       "    <tr>\n",
       "      <th>4</th>\n",
       "      <td>-1.183875</td>\n",
       "      <td>-1.313229</td>\n",
       "      <td>-0.806448</td>\n",
       "      <td>0.871991</td>\n",
       "      <td>-0.316891</td>\n",
       "      <td>-0.383296</td>\n",
       "      <td>-0.312617</td>\n",
       "      <td>-0.371669</td>\n",
       "      <td>-0.490686</td>\n",
       "      <td>1.916236</td>\n",
       "      <td>-0.513029</td>\n",
       "      <td>-0.535973</td>\n",
       "    </tr>\n",
       "    <tr>\n",
       "      <th>...</th>\n",
       "      <td>...</td>\n",
       "      <td>...</td>\n",
       "      <td>...</td>\n",
       "      <td>...</td>\n",
       "      <td>...</td>\n",
       "      <td>...</td>\n",
       "      <td>...</td>\n",
       "      <td>...</td>\n",
       "      <td>...</td>\n",
       "      <td>...</td>\n",
       "      <td>...</td>\n",
       "      <td>...</td>\n",
       "    </tr>\n",
       "    <tr>\n",
       "      <th>210579</th>\n",
       "      <td>1.273332</td>\n",
       "      <td>1.374884</td>\n",
       "      <td>1.240006</td>\n",
       "      <td>-1.146801</td>\n",
       "      <td>-0.316891</td>\n",
       "      <td>2.608953</td>\n",
       "      <td>-0.312617</td>\n",
       "      <td>-0.371669</td>\n",
       "      <td>-0.490686</td>\n",
       "      <td>-0.521856</td>\n",
       "      <td>-0.513029</td>\n",
       "      <td>1.865766</td>\n",
       "    </tr>\n",
       "    <tr>\n",
       "      <th>210580</th>\n",
       "      <td>-0.427811</td>\n",
       "      <td>1.374884</td>\n",
       "      <td>-0.806448</td>\n",
       "      <td>0.871991</td>\n",
       "      <td>-0.316891</td>\n",
       "      <td>-0.383296</td>\n",
       "      <td>-0.312617</td>\n",
       "      <td>-0.371669</td>\n",
       "      <td>-0.490686</td>\n",
       "      <td>-0.521856</td>\n",
       "      <td>-0.513029</td>\n",
       "      <td>-0.535973</td>\n",
       "    </tr>\n",
       "    <tr>\n",
       "      <th>210581</th>\n",
       "      <td>-0.900351</td>\n",
       "      <td>1.374884</td>\n",
       "      <td>-0.806448</td>\n",
       "      <td>0.871991</td>\n",
       "      <td>-0.316891</td>\n",
       "      <td>-0.383296</td>\n",
       "      <td>-0.312617</td>\n",
       "      <td>-0.371669</td>\n",
       "      <td>-0.490686</td>\n",
       "      <td>-0.521856</td>\n",
       "      <td>-0.513029</td>\n",
       "      <td>-0.535973</td>\n",
       "    </tr>\n",
       "    <tr>\n",
       "      <th>210582</th>\n",
       "      <td>1.462348</td>\n",
       "      <td>1.374884</td>\n",
       "      <td>1.240006</td>\n",
       "      <td>0.871991</td>\n",
       "      <td>-0.316891</td>\n",
       "      <td>-0.383296</td>\n",
       "      <td>-0.312617</td>\n",
       "      <td>-0.371669</td>\n",
       "      <td>-0.490686</td>\n",
       "      <td>-0.521856</td>\n",
       "      <td>-0.513029</td>\n",
       "      <td>1.865766</td>\n",
       "    </tr>\n",
       "    <tr>\n",
       "      <th>210583</th>\n",
       "      <td>1.367840</td>\n",
       "      <td>1.374884</td>\n",
       "      <td>1.240006</td>\n",
       "      <td>-1.146801</td>\n",
       "      <td>-0.316891</td>\n",
       "      <td>-0.383296</td>\n",
       "      <td>-0.312617</td>\n",
       "      <td>2.690564</td>\n",
       "      <td>-0.490686</td>\n",
       "      <td>-0.521856</td>\n",
       "      <td>-0.513029</td>\n",
       "      <td>1.865766</td>\n",
       "    </tr>\n",
       "  </tbody>\n",
       "</table>\n",
       "<p>210584 rows × 12 columns</p>\n",
       "</div>"
      ],
      "text/plain": [
       "        SHOT_DISTANCE   QUARTER  SHOT_TYPE_3PT Field Goal  ZONE_ABB_C  \\\n",
       "0           -0.144287 -1.313229                 -0.806448    0.871991   \n",
       "1            1.084316 -1.313229                  1.240006    0.871991   \n",
       "2           -0.994859 -1.313229                 -0.806448    0.871991   \n",
       "3           -1.183875 -1.313229                 -0.806448    0.871991   \n",
       "4           -1.183875 -1.313229                 -0.806448    0.871991   \n",
       "...               ...       ...                       ...         ...   \n",
       "210579       1.273332  1.374884                  1.240006   -1.146801   \n",
       "210580      -0.427811  1.374884                 -0.806448    0.871991   \n",
       "210581      -0.900351  1.374884                 -0.806448    0.871991   \n",
       "210582       1.462348  1.374884                  1.240006    0.871991   \n",
       "210583       1.367840  1.374884                  1.240006   -1.146801   \n",
       "\n",
       "        ZONE_ABB_L  ZONE_ABB_LC  ZONE_ABB_R  ZONE_ABB_RC  POSITION_PF  \\\n",
       "0        -0.316891    -0.383296   -0.312617    -0.371669    -0.490686   \n",
       "1        -0.316891    -0.383296   -0.312617    -0.371669    -0.490686   \n",
       "2        -0.316891    -0.383296   -0.312617    -0.371669    -0.490686   \n",
       "3        -0.316891    -0.383296   -0.312617    -0.371669    -0.490686   \n",
       "4        -0.316891    -0.383296   -0.312617    -0.371669    -0.490686   \n",
       "...            ...          ...         ...          ...          ...   \n",
       "210579   -0.316891     2.608953   -0.312617    -0.371669    -0.490686   \n",
       "210580   -0.316891    -0.383296   -0.312617    -0.371669    -0.490686   \n",
       "210581   -0.316891    -0.383296   -0.312617    -0.371669    -0.490686   \n",
       "210582   -0.316891    -0.383296   -0.312617    -0.371669    -0.490686   \n",
       "210583   -0.316891    -0.383296   -0.312617     2.690564    -0.490686   \n",
       "\n",
       "        POSITION_PG  POSITION_SF  POSITION_SG  \n",
       "0         -0.521856    -0.513029     1.865766  \n",
       "1         -0.521856     1.949209    -0.535973  \n",
       "2          1.916236    -0.513029    -0.535973  \n",
       "3         -0.521856    -0.513029     1.865766  \n",
       "4          1.916236    -0.513029    -0.535973  \n",
       "...             ...          ...          ...  \n",
       "210579    -0.521856    -0.513029     1.865766  \n",
       "210580    -0.521856    -0.513029    -0.535973  \n",
       "210581    -0.521856    -0.513029    -0.535973  \n",
       "210582    -0.521856    -0.513029     1.865766  \n",
       "210583    -0.521856    -0.513029     1.865766  \n",
       "\n",
       "[210584 rows x 12 columns]"
      ]
     },
     "execution_count": 45,
     "metadata": {},
     "output_type": "execute_result"
    }
   ],
   "source": [
    "X.corr()\n",
    "X"
   ]
  },
  {
   "cell_type": "markdown",
   "id": "186d855b",
   "metadata": {},
   "source": [
    "## 6. Feature Selection with k-Fold Cross-Validation"
   ]
  },
  {
   "cell_type": "markdown",
   "id": "6d879db8",
   "metadata": {},
   "source": [
    "Elastic Net is best for the matrix because it applies both L1 and L2 penalties, allowing shrinkage and sparsity. LASSO may drop significant but correlated zone dummies, while Ridge keeps all features, even uninformative ones. Elastic Net balances both, retaining key spatial features and removing irrelevant predictors or variables that cause overfitting, leading to the highest test AUC after k-fold cross-validation."
   ]
  },
  {
   "cell_type": "code",
   "execution_count": 46,
   "id": "e2f1bab9",
   "metadata": {},
   "outputs": [],
   "source": [
    "from sklearn.linear_model import ElasticNet\n",
    "from sklearn.model_selection import cross_val_score, KFold\n",
    "from sklearn.linear_model import LogisticRegression"
   ]
  },
  {
   "cell_type": "code",
   "execution_count": 47,
   "id": "eec210fa",
   "metadata": {},
   "outputs": [
    {
     "data": {
      "text/html": [
       "<div>\n",
       "<style scoped>\n",
       "    .dataframe tbody tr th:only-of-type {\n",
       "        vertical-align: middle;\n",
       "    }\n",
       "\n",
       "    .dataframe tbody tr th {\n",
       "        vertical-align: top;\n",
       "    }\n",
       "\n",
       "    .dataframe thead th {\n",
       "        text-align: right;\n",
       "    }\n",
       "</style>\n",
       "<table border=\"1\" class=\"dataframe\">\n",
       "  <thead>\n",
       "    <tr style=\"text-align: right;\">\n",
       "      <th></th>\n",
       "      <th>lambda</th>\n",
       "      <th>mean_auc</th>\n",
       "      <th>std_auc</th>\n",
       "    </tr>\n",
       "  </thead>\n",
       "  <tbody>\n",
       "    <tr>\n",
       "      <th>0</th>\n",
       "      <td>0.001</td>\n",
       "      <td>0.638252</td>\n",
       "      <td>0.002574</td>\n",
       "    </tr>\n",
       "  </tbody>\n",
       "</table>\n",
       "</div>"
      ],
      "text/plain": [
       "   lambda  mean_auc   std_auc\n",
       "0   0.001  0.638252  0.002574"
      ]
     },
     "execution_count": 47,
     "metadata": {},
     "output_type": "execute_result"
    }
   ],
   "source": [
    "cv = KFold(n_splits=5, shuffle=True, random_state=207)\n",
    "\n",
    "results = []\n",
    "\n",
    "for lam in np.arange(0.001, 0.1, 20):\n",
    "    C = 1 / lam  \n",
    "    log_mod = LogisticRegression(penalty='elasticnet', solver='saga', l1_ratio=0.5, C=C, max_iter=1000)\n",
    "    auc_scores = cross_val_score(log_mod, X, y, cv=cv, scoring='roc_auc')\n",
    "    results.append([lam, auc_scores.mean(), auc_scores.std()])\n",
    "\n",
    "df_auc = pd.DataFrame(results, columns=['lambda', 'mean_auc', 'std_auc'])\n",
    "df_auc"
   ]
  },
  {
   "cell_type": "markdown",
   "id": "2a9862e4",
   "metadata": {},
   "source": [
    "Lambda is very low, close to 0, and a mean AUC of .638 shows minimal regularization. Since elastic uses both penalty terms, it still doesn't do much to reap the benefits of shrinkage. "
   ]
  },
  {
   "cell_type": "markdown",
   "id": "1fa14d2f",
   "metadata": {},
   "source": [
    "## 7. Best Model Discussion"
   ]
  },
  {
   "cell_type": "code",
   "execution_count": 48,
   "id": "536a698e",
   "metadata": {},
   "outputs": [],
   "source": [
    "X_train, X_test, y_train, y_test = train_test_split(X, y, test_size=0.2, random_state=207)"
   ]
  },
  {
   "cell_type": "code",
   "execution_count": 49,
   "id": "fcc1bff1",
   "metadata": {},
   "outputs": [],
   "source": [
    "scaler = StandardScaler()\n",
    "scaled_X = scaler.fit_transform(X)\n",
    "X = pd.DataFrame(scaled_X, columns=X.columns)"
   ]
  },
  {
   "cell_type": "code",
   "execution_count": 50,
   "id": "9816b2d9",
   "metadata": {},
   "outputs": [
    {
     "data": {
      "text/html": [
       "<style>#sk-container-id-1 {\n",
       "  /* Definition of color scheme common for light and dark mode */\n",
       "  --sklearn-color-text: black;\n",
       "  --sklearn-color-line: gray;\n",
       "  /* Definition of color scheme for unfitted estimators */\n",
       "  --sklearn-color-unfitted-level-0: #fff5e6;\n",
       "  --sklearn-color-unfitted-level-1: #f6e4d2;\n",
       "  --sklearn-color-unfitted-level-2: #ffe0b3;\n",
       "  --sklearn-color-unfitted-level-3: chocolate;\n",
       "  /* Definition of color scheme for fitted estimators */\n",
       "  --sklearn-color-fitted-level-0: #f0f8ff;\n",
       "  --sklearn-color-fitted-level-1: #d4ebff;\n",
       "  --sklearn-color-fitted-level-2: #b3dbfd;\n",
       "  --sklearn-color-fitted-level-3: cornflowerblue;\n",
       "\n",
       "  /* Specific color for light theme */\n",
       "  --sklearn-color-text-on-default-background: var(--sg-text-color, var(--theme-code-foreground, var(--jp-content-font-color1, black)));\n",
       "  --sklearn-color-background: var(--sg-background-color, var(--theme-background, var(--jp-layout-color0, white)));\n",
       "  --sklearn-color-border-box: var(--sg-text-color, var(--theme-code-foreground, var(--jp-content-font-color1, black)));\n",
       "  --sklearn-color-icon: #696969;\n",
       "\n",
       "  @media (prefers-color-scheme: dark) {\n",
       "    /* Redefinition of color scheme for dark theme */\n",
       "    --sklearn-color-text-on-default-background: var(--sg-text-color, var(--theme-code-foreground, var(--jp-content-font-color1, white)));\n",
       "    --sklearn-color-background: var(--sg-background-color, var(--theme-background, var(--jp-layout-color0, #111)));\n",
       "    --sklearn-color-border-box: var(--sg-text-color, var(--theme-code-foreground, var(--jp-content-font-color1, white)));\n",
       "    --sklearn-color-icon: #878787;\n",
       "  }\n",
       "}\n",
       "\n",
       "#sk-container-id-1 {\n",
       "  color: var(--sklearn-color-text);\n",
       "}\n",
       "\n",
       "#sk-container-id-1 pre {\n",
       "  padding: 0;\n",
       "}\n",
       "\n",
       "#sk-container-id-1 input.sk-hidden--visually {\n",
       "  border: 0;\n",
       "  clip: rect(1px 1px 1px 1px);\n",
       "  clip: rect(1px, 1px, 1px, 1px);\n",
       "  height: 1px;\n",
       "  margin: -1px;\n",
       "  overflow: hidden;\n",
       "  padding: 0;\n",
       "  position: absolute;\n",
       "  width: 1px;\n",
       "}\n",
       "\n",
       "#sk-container-id-1 div.sk-dashed-wrapped {\n",
       "  border: 1px dashed var(--sklearn-color-line);\n",
       "  margin: 0 0.4em 0.5em 0.4em;\n",
       "  box-sizing: border-box;\n",
       "  padding-bottom: 0.4em;\n",
       "  background-color: var(--sklearn-color-background);\n",
       "}\n",
       "\n",
       "#sk-container-id-1 div.sk-container {\n",
       "  /* jupyter's `normalize.less` sets `[hidden] { display: none; }`\n",
       "     but bootstrap.min.css set `[hidden] { display: none !important; }`\n",
       "     so we also need the `!important` here to be able to override the\n",
       "     default hidden behavior on the sphinx rendered scikit-learn.org.\n",
       "     See: https://github.com/scikit-learn/scikit-learn/issues/21755 */\n",
       "  display: inline-block !important;\n",
       "  position: relative;\n",
       "}\n",
       "\n",
       "#sk-container-id-1 div.sk-text-repr-fallback {\n",
       "  display: none;\n",
       "}\n",
       "\n",
       "div.sk-parallel-item,\n",
       "div.sk-serial,\n",
       "div.sk-item {\n",
       "  /* draw centered vertical line to link estimators */\n",
       "  background-image: linear-gradient(var(--sklearn-color-text-on-default-background), var(--sklearn-color-text-on-default-background));\n",
       "  background-size: 2px 100%;\n",
       "  background-repeat: no-repeat;\n",
       "  background-position: center center;\n",
       "}\n",
       "\n",
       "/* Parallel-specific style estimator block */\n",
       "\n",
       "#sk-container-id-1 div.sk-parallel-item::after {\n",
       "  content: \"\";\n",
       "  width: 100%;\n",
       "  border-bottom: 2px solid var(--sklearn-color-text-on-default-background);\n",
       "  flex-grow: 1;\n",
       "}\n",
       "\n",
       "#sk-container-id-1 div.sk-parallel {\n",
       "  display: flex;\n",
       "  align-items: stretch;\n",
       "  justify-content: center;\n",
       "  background-color: var(--sklearn-color-background);\n",
       "  position: relative;\n",
       "}\n",
       "\n",
       "#sk-container-id-1 div.sk-parallel-item {\n",
       "  display: flex;\n",
       "  flex-direction: column;\n",
       "}\n",
       "\n",
       "#sk-container-id-1 div.sk-parallel-item:first-child::after {\n",
       "  align-self: flex-end;\n",
       "  width: 50%;\n",
       "}\n",
       "\n",
       "#sk-container-id-1 div.sk-parallel-item:last-child::after {\n",
       "  align-self: flex-start;\n",
       "  width: 50%;\n",
       "}\n",
       "\n",
       "#sk-container-id-1 div.sk-parallel-item:only-child::after {\n",
       "  width: 0;\n",
       "}\n",
       "\n",
       "/* Serial-specific style estimator block */\n",
       "\n",
       "#sk-container-id-1 div.sk-serial {\n",
       "  display: flex;\n",
       "  flex-direction: column;\n",
       "  align-items: center;\n",
       "  background-color: var(--sklearn-color-background);\n",
       "  padding-right: 1em;\n",
       "  padding-left: 1em;\n",
       "}\n",
       "\n",
       "\n",
       "/* Toggleable style: style used for estimator/Pipeline/ColumnTransformer box that is\n",
       "clickable and can be expanded/collapsed.\n",
       "- Pipeline and ColumnTransformer use this feature and define the default style\n",
       "- Estimators will overwrite some part of the style using the `sk-estimator` class\n",
       "*/\n",
       "\n",
       "/* Pipeline and ColumnTransformer style (default) */\n",
       "\n",
       "#sk-container-id-1 div.sk-toggleable {\n",
       "  /* Default theme specific background. It is overwritten whether we have a\n",
       "  specific estimator or a Pipeline/ColumnTransformer */\n",
       "  background-color: var(--sklearn-color-background);\n",
       "}\n",
       "\n",
       "/* Toggleable label */\n",
       "#sk-container-id-1 label.sk-toggleable__label {\n",
       "  cursor: pointer;\n",
       "  display: block;\n",
       "  width: 100%;\n",
       "  margin-bottom: 0;\n",
       "  padding: 0.5em;\n",
       "  box-sizing: border-box;\n",
       "  text-align: center;\n",
       "}\n",
       "\n",
       "#sk-container-id-1 label.sk-toggleable__label-arrow:before {\n",
       "  /* Arrow on the left of the label */\n",
       "  content: \"▸\";\n",
       "  float: left;\n",
       "  margin-right: 0.25em;\n",
       "  color: var(--sklearn-color-icon);\n",
       "}\n",
       "\n",
       "#sk-container-id-1 label.sk-toggleable__label-arrow:hover:before {\n",
       "  color: var(--sklearn-color-text);\n",
       "}\n",
       "\n",
       "/* Toggleable content - dropdown */\n",
       "\n",
       "#sk-container-id-1 div.sk-toggleable__content {\n",
       "  max-height: 0;\n",
       "  max-width: 0;\n",
       "  overflow: hidden;\n",
       "  text-align: left;\n",
       "  /* unfitted */\n",
       "  background-color: var(--sklearn-color-unfitted-level-0);\n",
       "}\n",
       "\n",
       "#sk-container-id-1 div.sk-toggleable__content.fitted {\n",
       "  /* fitted */\n",
       "  background-color: var(--sklearn-color-fitted-level-0);\n",
       "}\n",
       "\n",
       "#sk-container-id-1 div.sk-toggleable__content pre {\n",
       "  margin: 0.2em;\n",
       "  border-radius: 0.25em;\n",
       "  color: var(--sklearn-color-text);\n",
       "  /* unfitted */\n",
       "  background-color: var(--sklearn-color-unfitted-level-0);\n",
       "}\n",
       "\n",
       "#sk-container-id-1 div.sk-toggleable__content.fitted pre {\n",
       "  /* unfitted */\n",
       "  background-color: var(--sklearn-color-fitted-level-0);\n",
       "}\n",
       "\n",
       "#sk-container-id-1 input.sk-toggleable__control:checked~div.sk-toggleable__content {\n",
       "  /* Expand drop-down */\n",
       "  max-height: 200px;\n",
       "  max-width: 100%;\n",
       "  overflow: auto;\n",
       "}\n",
       "\n",
       "#sk-container-id-1 input.sk-toggleable__control:checked~label.sk-toggleable__label-arrow:before {\n",
       "  content: \"▾\";\n",
       "}\n",
       "\n",
       "/* Pipeline/ColumnTransformer-specific style */\n",
       "\n",
       "#sk-container-id-1 div.sk-label input.sk-toggleable__control:checked~label.sk-toggleable__label {\n",
       "  color: var(--sklearn-color-text);\n",
       "  background-color: var(--sklearn-color-unfitted-level-2);\n",
       "}\n",
       "\n",
       "#sk-container-id-1 div.sk-label.fitted input.sk-toggleable__control:checked~label.sk-toggleable__label {\n",
       "  background-color: var(--sklearn-color-fitted-level-2);\n",
       "}\n",
       "\n",
       "/* Estimator-specific style */\n",
       "\n",
       "/* Colorize estimator box */\n",
       "#sk-container-id-1 div.sk-estimator input.sk-toggleable__control:checked~label.sk-toggleable__label {\n",
       "  /* unfitted */\n",
       "  background-color: var(--sklearn-color-unfitted-level-2);\n",
       "}\n",
       "\n",
       "#sk-container-id-1 div.sk-estimator.fitted input.sk-toggleable__control:checked~label.sk-toggleable__label {\n",
       "  /* fitted */\n",
       "  background-color: var(--sklearn-color-fitted-level-2);\n",
       "}\n",
       "\n",
       "#sk-container-id-1 div.sk-label label.sk-toggleable__label,\n",
       "#sk-container-id-1 div.sk-label label {\n",
       "  /* The background is the default theme color */\n",
       "  color: var(--sklearn-color-text-on-default-background);\n",
       "}\n",
       "\n",
       "/* On hover, darken the color of the background */\n",
       "#sk-container-id-1 div.sk-label:hover label.sk-toggleable__label {\n",
       "  color: var(--sklearn-color-text);\n",
       "  background-color: var(--sklearn-color-unfitted-level-2);\n",
       "}\n",
       "\n",
       "/* Label box, darken color on hover, fitted */\n",
       "#sk-container-id-1 div.sk-label.fitted:hover label.sk-toggleable__label.fitted {\n",
       "  color: var(--sklearn-color-text);\n",
       "  background-color: var(--sklearn-color-fitted-level-2);\n",
       "}\n",
       "\n",
       "/* Estimator label */\n",
       "\n",
       "#sk-container-id-1 div.sk-label label {\n",
       "  font-family: monospace;\n",
       "  font-weight: bold;\n",
       "  display: inline-block;\n",
       "  line-height: 1.2em;\n",
       "}\n",
       "\n",
       "#sk-container-id-1 div.sk-label-container {\n",
       "  text-align: center;\n",
       "}\n",
       "\n",
       "/* Estimator-specific */\n",
       "#sk-container-id-1 div.sk-estimator {\n",
       "  font-family: monospace;\n",
       "  border: 1px dotted var(--sklearn-color-border-box);\n",
       "  border-radius: 0.25em;\n",
       "  box-sizing: border-box;\n",
       "  margin-bottom: 0.5em;\n",
       "  /* unfitted */\n",
       "  background-color: var(--sklearn-color-unfitted-level-0);\n",
       "}\n",
       "\n",
       "#sk-container-id-1 div.sk-estimator.fitted {\n",
       "  /* fitted */\n",
       "  background-color: var(--sklearn-color-fitted-level-0);\n",
       "}\n",
       "\n",
       "/* on hover */\n",
       "#sk-container-id-1 div.sk-estimator:hover {\n",
       "  /* unfitted */\n",
       "  background-color: var(--sklearn-color-unfitted-level-2);\n",
       "}\n",
       "\n",
       "#sk-container-id-1 div.sk-estimator.fitted:hover {\n",
       "  /* fitted */\n",
       "  background-color: var(--sklearn-color-fitted-level-2);\n",
       "}\n",
       "\n",
       "/* Specification for estimator info (e.g. \"i\" and \"?\") */\n",
       "\n",
       "/* Common style for \"i\" and \"?\" */\n",
       "\n",
       ".sk-estimator-doc-link,\n",
       "a:link.sk-estimator-doc-link,\n",
       "a:visited.sk-estimator-doc-link {\n",
       "  float: right;\n",
       "  font-size: smaller;\n",
       "  line-height: 1em;\n",
       "  font-family: monospace;\n",
       "  background-color: var(--sklearn-color-background);\n",
       "  border-radius: 1em;\n",
       "  height: 1em;\n",
       "  width: 1em;\n",
       "  text-decoration: none !important;\n",
       "  margin-left: 1ex;\n",
       "  /* unfitted */\n",
       "  border: var(--sklearn-color-unfitted-level-1) 1pt solid;\n",
       "  color: var(--sklearn-color-unfitted-level-1);\n",
       "}\n",
       "\n",
       ".sk-estimator-doc-link.fitted,\n",
       "a:link.sk-estimator-doc-link.fitted,\n",
       "a:visited.sk-estimator-doc-link.fitted {\n",
       "  /* fitted */\n",
       "  border: var(--sklearn-color-fitted-level-1) 1pt solid;\n",
       "  color: var(--sklearn-color-fitted-level-1);\n",
       "}\n",
       "\n",
       "/* On hover */\n",
       "div.sk-estimator:hover .sk-estimator-doc-link:hover,\n",
       ".sk-estimator-doc-link:hover,\n",
       "div.sk-label-container:hover .sk-estimator-doc-link:hover,\n",
       ".sk-estimator-doc-link:hover {\n",
       "  /* unfitted */\n",
       "  background-color: var(--sklearn-color-unfitted-level-3);\n",
       "  color: var(--sklearn-color-background);\n",
       "  text-decoration: none;\n",
       "}\n",
       "\n",
       "div.sk-estimator.fitted:hover .sk-estimator-doc-link.fitted:hover,\n",
       ".sk-estimator-doc-link.fitted:hover,\n",
       "div.sk-label-container:hover .sk-estimator-doc-link.fitted:hover,\n",
       ".sk-estimator-doc-link.fitted:hover {\n",
       "  /* fitted */\n",
       "  background-color: var(--sklearn-color-fitted-level-3);\n",
       "  color: var(--sklearn-color-background);\n",
       "  text-decoration: none;\n",
       "}\n",
       "\n",
       "/* Span, style for the box shown on hovering the info icon */\n",
       ".sk-estimator-doc-link span {\n",
       "  display: none;\n",
       "  z-index: 9999;\n",
       "  position: relative;\n",
       "  font-weight: normal;\n",
       "  right: .2ex;\n",
       "  padding: .5ex;\n",
       "  margin: .5ex;\n",
       "  width: min-content;\n",
       "  min-width: 20ex;\n",
       "  max-width: 50ex;\n",
       "  color: var(--sklearn-color-text);\n",
       "  box-shadow: 2pt 2pt 4pt #999;\n",
       "  /* unfitted */\n",
       "  background: var(--sklearn-color-unfitted-level-0);\n",
       "  border: .5pt solid var(--sklearn-color-unfitted-level-3);\n",
       "}\n",
       "\n",
       ".sk-estimator-doc-link.fitted span {\n",
       "  /* fitted */\n",
       "  background: var(--sklearn-color-fitted-level-0);\n",
       "  border: var(--sklearn-color-fitted-level-3);\n",
       "}\n",
       "\n",
       ".sk-estimator-doc-link:hover span {\n",
       "  display: block;\n",
       "}\n",
       "\n",
       "/* \"?\"-specific style due to the `<a>` HTML tag */\n",
       "\n",
       "#sk-container-id-1 a.estimator_doc_link {\n",
       "  float: right;\n",
       "  font-size: 1rem;\n",
       "  line-height: 1em;\n",
       "  font-family: monospace;\n",
       "  background-color: var(--sklearn-color-background);\n",
       "  border-radius: 1rem;\n",
       "  height: 1rem;\n",
       "  width: 1rem;\n",
       "  text-decoration: none;\n",
       "  /* unfitted */\n",
       "  color: var(--sklearn-color-unfitted-level-1);\n",
       "  border: var(--sklearn-color-unfitted-level-1) 1pt solid;\n",
       "}\n",
       "\n",
       "#sk-container-id-1 a.estimator_doc_link.fitted {\n",
       "  /* fitted */\n",
       "  border: var(--sklearn-color-fitted-level-1) 1pt solid;\n",
       "  color: var(--sklearn-color-fitted-level-1);\n",
       "}\n",
       "\n",
       "/* On hover */\n",
       "#sk-container-id-1 a.estimator_doc_link:hover {\n",
       "  /* unfitted */\n",
       "  background-color: var(--sklearn-color-unfitted-level-3);\n",
       "  color: var(--sklearn-color-background);\n",
       "  text-decoration: none;\n",
       "}\n",
       "\n",
       "#sk-container-id-1 a.estimator_doc_link.fitted:hover {\n",
       "  /* fitted */\n",
       "  background-color: var(--sklearn-color-fitted-level-3);\n",
       "}\n",
       "</style><div id=\"sk-container-id-1\" class=\"sk-top-container\"><div class=\"sk-text-repr-fallback\"><pre>LogisticRegression(C=1000.0, l1_ratio=0.5, max_iter=1000, penalty=&#x27;elasticnet&#x27;,\n",
       "                   solver=&#x27;saga&#x27;)</pre><b>In a Jupyter environment, please rerun this cell to show the HTML representation or trust the notebook. <br />On GitHub, the HTML representation is unable to render, please try loading this page with nbviewer.org.</b></div><div class=\"sk-container\" hidden><div class=\"sk-item\"><div class=\"sk-estimator fitted sk-toggleable\"><input class=\"sk-toggleable__control sk-hidden--visually\" id=\"sk-estimator-id-1\" type=\"checkbox\" checked><label for=\"sk-estimator-id-1\" class=\"sk-toggleable__label fitted sk-toggleable__label-arrow fitted\">&nbsp;&nbsp;LogisticRegression<a class=\"sk-estimator-doc-link fitted\" rel=\"noreferrer\" target=\"_blank\" href=\"https://scikit-learn.org/1.5/modules/generated/sklearn.linear_model.LogisticRegression.html\">?<span>Documentation for LogisticRegression</span></a><span class=\"sk-estimator-doc-link fitted\">i<span>Fitted</span></span></label><div class=\"sk-toggleable__content fitted\"><pre>LogisticRegression(C=1000.0, l1_ratio=0.5, max_iter=1000, penalty=&#x27;elasticnet&#x27;,\n",
       "                   solver=&#x27;saga&#x27;)</pre></div> </div></div></div></div>"
      ],
      "text/plain": [
       "LogisticRegression(C=1000.0, l1_ratio=0.5, max_iter=1000, penalty='elasticnet',\n",
       "                   solver='saga')"
      ]
     },
     "execution_count": 50,
     "metadata": {},
     "output_type": "execute_result"
    }
   ],
   "source": [
    "model = LogisticRegression(penalty='elasticnet',solver='saga',l1_ratio=0.5,C=1/0.001,max_iter=1000)\n",
    "model.fit(X_train, y_train)"
   ]
  },
  {
   "cell_type": "code",
   "execution_count": 51,
   "id": "b28ad297",
   "metadata": {},
   "outputs": [
    {
     "name": "stdout",
     "output_type": "stream",
     "text": [
      "Intercept: -0.10774700018524941\n",
      "SHOT_DISTANCE: -0.7768626884906696\n",
      "QUARTER: -0.010669389348868848\n",
      "SHOT_TYPE_3PT Field Goal: 0.30812039872297897\n",
      "ZONE_ABB_C: 0.5576554448770457\n",
      "ZONE_ABB_L: 0.3196085454320441\n",
      "ZONE_ABB_LC: 0.4161808611070065\n",
      "ZONE_ABB_R: 0.3233725433986023\n",
      "ZONE_ABB_RC: 0.4025753327001276\n",
      "POSITION_PF: -0.03083303331238381\n",
      "POSITION_PG: -0.038327646105368485\n",
      "POSITION_SF: -0.051600438375622844\n",
      "POSITION_SG: -0.04338097280269527\n"
     ]
    }
   ],
   "source": [
    "print(f\"Intercept: {model.intercept_[0]}\")\n",
    "for name, coef in zip(X.columns, model.coef_[0]):\n",
    "    print(f\"{name}: {coef}\")"
   ]
  },
  {
   "cell_type": "code",
   "execution_count": 52,
   "id": "c843cfec",
   "metadata": {},
   "outputs": [
    {
     "data": {
      "text/html": [
       "<div>\n",
       "<style scoped>\n",
       "    .dataframe tbody tr th:only-of-type {\n",
       "        vertical-align: middle;\n",
       "    }\n",
       "\n",
       "    .dataframe tbody tr th {\n",
       "        vertical-align: top;\n",
       "    }\n",
       "\n",
       "    .dataframe thead th {\n",
       "        text-align: right;\n",
       "    }\n",
       "</style>\n",
       "<table border=\"1\" class=\"dataframe\">\n",
       "  <thead>\n",
       "    <tr style=\"text-align: right;\">\n",
       "      <th></th>\n",
       "      <th>SHOT_DISTANCE</th>\n",
       "      <th>QUARTER</th>\n",
       "      <th>SHOT_TYPE_3PT Field Goal</th>\n",
       "      <th>ZONE_ABB_C</th>\n",
       "      <th>ZONE_ABB_L</th>\n",
       "      <th>ZONE_ABB_LC</th>\n",
       "      <th>ZONE_ABB_R</th>\n",
       "      <th>ZONE_ABB_RC</th>\n",
       "      <th>POSITION_PF</th>\n",
       "      <th>POSITION_PG</th>\n",
       "      <th>POSITION_SF</th>\n",
       "      <th>POSITION_SG</th>\n",
       "    </tr>\n",
       "  </thead>\n",
       "  <tbody>\n",
       "    <tr>\n",
       "      <th>SHOT_DISTANCE</th>\n",
       "      <td>1.000000</td>\n",
       "      <td>-0.006361</td>\n",
       "      <td>0.889940</td>\n",
       "      <td>-0.714938</td>\n",
       "      <td>0.145249</td>\n",
       "      <td>0.412555</td>\n",
       "      <td>0.132630</td>\n",
       "      <td>0.392839</td>\n",
       "      <td>-0.044883</td>\n",
       "      <td>0.078921</td>\n",
       "      <td>0.056242</td>\n",
       "      <td>0.098191</td>\n",
       "    </tr>\n",
       "    <tr>\n",
       "      <th>QUARTER</th>\n",
       "      <td>-0.006361</td>\n",
       "      <td>1.000000</td>\n",
       "      <td>0.004010</td>\n",
       "      <td>0.005061</td>\n",
       "      <td>-0.002946</td>\n",
       "      <td>0.003865</td>\n",
       "      <td>-0.004064</td>\n",
       "      <td>-0.003481</td>\n",
       "      <td>0.001204</td>\n",
       "      <td>0.011637</td>\n",
       "      <td>0.005270</td>\n",
       "      <td>0.011209</td>\n",
       "    </tr>\n",
       "    <tr>\n",
       "      <th>SHOT_TYPE_3PT Field Goal</th>\n",
       "      <td>0.889940</td>\n",
       "      <td>0.004010</td>\n",
       "      <td>1.000000</td>\n",
       "      <td>-0.627613</td>\n",
       "      <td>0.117779</td>\n",
       "      <td>0.387122</td>\n",
       "      <td>0.095716</td>\n",
       "      <td>0.360198</td>\n",
       "      <td>-0.034042</td>\n",
       "      <td>0.033992</td>\n",
       "      <td>0.067318</td>\n",
       "      <td>0.094458</td>\n",
       "    </tr>\n",
       "    <tr>\n",
       "      <th>ZONE_ABB_C</th>\n",
       "      <td>-0.714938</td>\n",
       "      <td>0.005061</td>\n",
       "      <td>-0.627613</td>\n",
       "      <td>1.000000</td>\n",
       "      <td>-0.363410</td>\n",
       "      <td>-0.439564</td>\n",
       "      <td>-0.358509</td>\n",
       "      <td>-0.426231</td>\n",
       "      <td>0.016500</td>\n",
       "      <td>-0.046323</td>\n",
       "      <td>-0.066279</td>\n",
       "      <td>-0.084513</td>\n",
       "    </tr>\n",
       "    <tr>\n",
       "      <th>ZONE_ABB_L</th>\n",
       "      <td>0.145249</td>\n",
       "      <td>-0.002946</td>\n",
       "      <td>0.117779</td>\n",
       "      <td>-0.363410</td>\n",
       "      <td>1.000000</td>\n",
       "      <td>-0.121463</td>\n",
       "      <td>-0.099065</td>\n",
       "      <td>-0.117778</td>\n",
       "      <td>0.016134</td>\n",
       "      <td>-0.011549</td>\n",
       "      <td>0.035323</td>\n",
       "      <td>0.025328</td>\n",
       "    </tr>\n",
       "    <tr>\n",
       "      <th>ZONE_ABB_LC</th>\n",
       "      <td>0.412555</td>\n",
       "      <td>0.003865</td>\n",
       "      <td>0.387122</td>\n",
       "      <td>-0.439564</td>\n",
       "      <td>-0.121463</td>\n",
       "      <td>1.000000</td>\n",
       "      <td>-0.119825</td>\n",
       "      <td>-0.142459</td>\n",
       "      <td>-0.027613</td>\n",
       "      <td>0.048231</td>\n",
       "      <td>0.012788</td>\n",
       "      <td>0.050346</td>\n",
       "    </tr>\n",
       "    <tr>\n",
       "      <th>ZONE_ABB_R</th>\n",
       "      <td>0.132630</td>\n",
       "      <td>-0.004064</td>\n",
       "      <td>0.095716</td>\n",
       "      <td>-0.358509</td>\n",
       "      <td>-0.099065</td>\n",
       "      <td>-0.119825</td>\n",
       "      <td>1.000000</td>\n",
       "      <td>-0.116190</td>\n",
       "      <td>0.012815</td>\n",
       "      <td>-0.004670</td>\n",
       "      <td>0.032258</td>\n",
       "      <td>0.017268</td>\n",
       "    </tr>\n",
       "    <tr>\n",
       "      <th>ZONE_ABB_RC</th>\n",
       "      <td>0.392839</td>\n",
       "      <td>-0.003481</td>\n",
       "      <td>0.360198</td>\n",
       "      <td>-0.426231</td>\n",
       "      <td>-0.117778</td>\n",
       "      <td>-0.142459</td>\n",
       "      <td>-0.116190</td>\n",
       "      <td>1.000000</td>\n",
       "      <td>-0.021134</td>\n",
       "      <td>0.034046</td>\n",
       "      <td>0.027447</td>\n",
       "      <td>0.039195</td>\n",
       "    </tr>\n",
       "    <tr>\n",
       "      <th>POSITION_PF</th>\n",
       "      <td>-0.044883</td>\n",
       "      <td>0.001204</td>\n",
       "      <td>-0.034042</td>\n",
       "      <td>0.016500</td>\n",
       "      <td>0.016134</td>\n",
       "      <td>-0.027613</td>\n",
       "      <td>0.012815</td>\n",
       "      <td>-0.021134</td>\n",
       "      <td>1.000000</td>\n",
       "      <td>-0.256068</td>\n",
       "      <td>-0.251736</td>\n",
       "      <td>-0.262995</td>\n",
       "    </tr>\n",
       "    <tr>\n",
       "      <th>POSITION_PG</th>\n",
       "      <td>0.078921</td>\n",
       "      <td>0.011637</td>\n",
       "      <td>0.033992</td>\n",
       "      <td>-0.046323</td>\n",
       "      <td>-0.011549</td>\n",
       "      <td>0.048231</td>\n",
       "      <td>-0.004670</td>\n",
       "      <td>0.034046</td>\n",
       "      <td>-0.256068</td>\n",
       "      <td>1.000000</td>\n",
       "      <td>-0.267727</td>\n",
       "      <td>-0.279701</td>\n",
       "    </tr>\n",
       "    <tr>\n",
       "      <th>POSITION_SF</th>\n",
       "      <td>0.056242</td>\n",
       "      <td>0.005270</td>\n",
       "      <td>0.067318</td>\n",
       "      <td>-0.066279</td>\n",
       "      <td>0.035323</td>\n",
       "      <td>0.012788</td>\n",
       "      <td>0.032258</td>\n",
       "      <td>0.027447</td>\n",
       "      <td>-0.251736</td>\n",
       "      <td>-0.267727</td>\n",
       "      <td>1.000000</td>\n",
       "      <td>-0.274969</td>\n",
       "    </tr>\n",
       "    <tr>\n",
       "      <th>POSITION_SG</th>\n",
       "      <td>0.098191</td>\n",
       "      <td>0.011209</td>\n",
       "      <td>0.094458</td>\n",
       "      <td>-0.084513</td>\n",
       "      <td>0.025328</td>\n",
       "      <td>0.050346</td>\n",
       "      <td>0.017268</td>\n",
       "      <td>0.039195</td>\n",
       "      <td>-0.262995</td>\n",
       "      <td>-0.279701</td>\n",
       "      <td>-0.274969</td>\n",
       "      <td>1.000000</td>\n",
       "    </tr>\n",
       "  </tbody>\n",
       "</table>\n",
       "</div>"
      ],
      "text/plain": [
       "                          SHOT_DISTANCE   QUARTER  SHOT_TYPE_3PT Field Goal  \\\n",
       "SHOT_DISTANCE                  1.000000 -0.006361                  0.889940   \n",
       "QUARTER                       -0.006361  1.000000                  0.004010   \n",
       "SHOT_TYPE_3PT Field Goal       0.889940  0.004010                  1.000000   \n",
       "ZONE_ABB_C                    -0.714938  0.005061                 -0.627613   \n",
       "ZONE_ABB_L                     0.145249 -0.002946                  0.117779   \n",
       "ZONE_ABB_LC                    0.412555  0.003865                  0.387122   \n",
       "ZONE_ABB_R                     0.132630 -0.004064                  0.095716   \n",
       "ZONE_ABB_RC                    0.392839 -0.003481                  0.360198   \n",
       "POSITION_PF                   -0.044883  0.001204                 -0.034042   \n",
       "POSITION_PG                    0.078921  0.011637                  0.033992   \n",
       "POSITION_SF                    0.056242  0.005270                  0.067318   \n",
       "POSITION_SG                    0.098191  0.011209                  0.094458   \n",
       "\n",
       "                          ZONE_ABB_C  ZONE_ABB_L  ZONE_ABB_LC  ZONE_ABB_R  \\\n",
       "SHOT_DISTANCE              -0.714938    0.145249     0.412555    0.132630   \n",
       "QUARTER                     0.005061   -0.002946     0.003865   -0.004064   \n",
       "SHOT_TYPE_3PT Field Goal   -0.627613    0.117779     0.387122    0.095716   \n",
       "ZONE_ABB_C                  1.000000   -0.363410    -0.439564   -0.358509   \n",
       "ZONE_ABB_L                 -0.363410    1.000000    -0.121463   -0.099065   \n",
       "ZONE_ABB_LC                -0.439564   -0.121463     1.000000   -0.119825   \n",
       "ZONE_ABB_R                 -0.358509   -0.099065    -0.119825    1.000000   \n",
       "ZONE_ABB_RC                -0.426231   -0.117778    -0.142459   -0.116190   \n",
       "POSITION_PF                 0.016500    0.016134    -0.027613    0.012815   \n",
       "POSITION_PG                -0.046323   -0.011549     0.048231   -0.004670   \n",
       "POSITION_SF                -0.066279    0.035323     0.012788    0.032258   \n",
       "POSITION_SG                -0.084513    0.025328     0.050346    0.017268   \n",
       "\n",
       "                          ZONE_ABB_RC  POSITION_PF  POSITION_PG  POSITION_SF  \\\n",
       "SHOT_DISTANCE                0.392839    -0.044883     0.078921     0.056242   \n",
       "QUARTER                     -0.003481     0.001204     0.011637     0.005270   \n",
       "SHOT_TYPE_3PT Field Goal     0.360198    -0.034042     0.033992     0.067318   \n",
       "ZONE_ABB_C                  -0.426231     0.016500    -0.046323    -0.066279   \n",
       "ZONE_ABB_L                  -0.117778     0.016134    -0.011549     0.035323   \n",
       "ZONE_ABB_LC                 -0.142459    -0.027613     0.048231     0.012788   \n",
       "ZONE_ABB_R                  -0.116190     0.012815    -0.004670     0.032258   \n",
       "ZONE_ABB_RC                  1.000000    -0.021134     0.034046     0.027447   \n",
       "POSITION_PF                 -0.021134     1.000000    -0.256068    -0.251736   \n",
       "POSITION_PG                  0.034046    -0.256068     1.000000    -0.267727   \n",
       "POSITION_SF                  0.027447    -0.251736    -0.267727     1.000000   \n",
       "POSITION_SG                  0.039195    -0.262995    -0.279701    -0.274969   \n",
       "\n",
       "                          POSITION_SG  \n",
       "SHOT_DISTANCE                0.098191  \n",
       "QUARTER                      0.011209  \n",
       "SHOT_TYPE_3PT Field Goal     0.094458  \n",
       "ZONE_ABB_C                  -0.084513  \n",
       "ZONE_ABB_L                   0.025328  \n",
       "ZONE_ABB_LC                  0.050346  \n",
       "ZONE_ABB_R                   0.017268  \n",
       "ZONE_ABB_RC                  0.039195  \n",
       "POSITION_PF                 -0.262995  \n",
       "POSITION_PG                 -0.279701  \n",
       "POSITION_SF                 -0.274969  \n",
       "POSITION_SG                  1.000000  "
      ]
     },
     "execution_count": 52,
     "metadata": {},
     "output_type": "execute_result"
    }
   ],
   "source": [
    "X.corr()"
   ]
  },
  {
   "cell_type": "markdown",
   "id": "1edd8450",
   "metadata": {},
   "source": [
    "The equation for our logistic regression model is:\n",
    "\n",
    "**`Made Shot`** = **-0.1078** - **0.7768**(`SHOT_DISTANCE`) - **0.0107**(`QUARTER`) + **0.3081**(`SHOT_TYPE_3PT Field Goal`) + **0.5576**(`ZONE_ABB_C`) + **0.3196**(`ZONE_ABB_L`) + **0.4161**(`ZONE_ABB_LC`) + **0.3234**(`ZONE_ABB_R`) + **0.4025**(`ZONE_ABB_RC`) - **0.0308**(`POSITION_PF`) - **0.0383**(`POSITION_PG`) - **0.0516**(`POSITION_SF`) - **0.0434**(`POSITION_SG`)\n",
    "\n",
    "Our model has an issue with multicollinearity because at least one pair of explanatory variables has a correlation value above our threshold of **0.7**, indicating multicollinearity.\n",
    "\n",
    "Because of this issue with multicollinearity, we must be cautious in interpreting the slope coefficients. However, since we scaled our explanatory variables, all their standard deviations are roughly the same. Therefore, we can interpret the slope coefficients, but caution is still necessary due to the multicollinearity problem."
   ]
  },
  {
   "cell_type": "code",
   "execution_count": 53,
   "id": "df21db43",
   "metadata": {},
   "outputs": [],
   "source": [
    "def plot_roc(fpr, tpr, auc, lw=2):\n",
    "    plt.plot(fpr,tpr,color=\"darkorange\",lw=lw,label = \"ROC curve (area = \"+str(round(auc,3))+\")\")\n",
    "    plt.plot([0,1],color = \"navy\",lw=lw,linestyle = \"--\")\n",
    "    plt.xlabel(\"FPR\")\n",
    "    plt.ylabel(\"TPR\")\n",
    "    plt.title(\"ROC Curve\")\n",
    "    plt.legend(loc = \"lower right\")\n",
    "    plt.show()"
   ]
  },
  {
   "cell_type": "code",
   "execution_count": 54,
   "id": "def7e1f8",
   "metadata": {},
   "outputs": [
    {
     "data": {
      "image/png": "[encoded data removed]",
      "text/plain": [
       "<Figure size 640x480 with 1 Axes>"
      ]
     },
     "metadata": {},
     "output_type": "display_data"
    }
   ],
   "source": [
    "from sklearn.metrics import roc_curve,roc_auc_score\n",
    "predictive_prob = model.predict_proba(X_test)[:, 1]\n",
    "fprs, tprs, thresholds = roc_curve(y_true=y_test, y_score=predictive_prob)\n",
    "auc = roc_auc_score(y_true=y_test, y_score=predictive_prob)\n",
    "plot_roc(fprs, tprs, auc)"
   ]
  },
  {
   "cell_type": "code",
   "execution_count": 55,
   "id": "0f08cdf8",
   "metadata": {},
   "outputs": [
    {
     "data": {
      "text/html": [
       "<div>\n",
       "<style scoped>\n",
       "    .dataframe tbody tr th:only-of-type {\n",
       "        vertical-align: middle;\n",
       "    }\n",
       "\n",
       "    .dataframe tbody tr th {\n",
       "        vertical-align: top;\n",
       "    }\n",
       "\n",
       "    .dataframe thead th {\n",
       "        text-align: right;\n",
       "    }\n",
       "</style>\n",
       "<table border=\"1\" class=\"dataframe\">\n",
       "  <thead>\n",
       "    <tr style=\"text-align: right;\">\n",
       "      <th></th>\n",
       "      <th>Threshold</th>\n",
       "      <th>TPR</th>\n",
       "      <th>FPR</th>\n",
       "    </tr>\n",
       "  </thead>\n",
       "  <tbody>\n",
       "    <tr>\n",
       "      <th>0</th>\n",
       "      <td>inf</td>\n",
       "      <td>0.000000</td>\n",
       "      <td>0.000000</td>\n",
       "    </tr>\n",
       "    <tr>\n",
       "      <th>1</th>\n",
       "      <td>0.670515</td>\n",
       "      <td>0.012009</td>\n",
       "      <td>0.002937</td>\n",
       "    </tr>\n",
       "    <tr>\n",
       "      <th>2</th>\n",
       "      <td>0.668400</td>\n",
       "      <td>0.021816</td>\n",
       "      <td>0.006597</td>\n",
       "    </tr>\n",
       "    <tr>\n",
       "      <th>3</th>\n",
       "      <td>0.666277</td>\n",
       "      <td>0.032174</td>\n",
       "      <td>0.010031</td>\n",
       "    </tr>\n",
       "    <tr>\n",
       "      <th>4</th>\n",
       "      <td>0.664148</td>\n",
       "      <td>0.040630</td>\n",
       "      <td>0.012787</td>\n",
       "    </tr>\n",
       "    <tr>\n",
       "      <th>...</th>\n",
       "      <td>...</td>\n",
       "      <td>...</td>\n",
       "      <td>...</td>\n",
       "    </tr>\n",
       "    <tr>\n",
       "      <th>1843</th>\n",
       "      <td>0.013165</td>\n",
       "      <td>0.999950</td>\n",
       "      <td>0.998690</td>\n",
       "    </tr>\n",
       "    <tr>\n",
       "      <th>1844</th>\n",
       "      <td>0.012919</td>\n",
       "      <td>0.999950</td>\n",
       "      <td>0.998780</td>\n",
       "    </tr>\n",
       "    <tr>\n",
       "      <th>1845</th>\n",
       "      <td>0.012290</td>\n",
       "      <td>0.999950</td>\n",
       "      <td>0.998825</td>\n",
       "    </tr>\n",
       "    <tr>\n",
       "      <th>1846</th>\n",
       "      <td>0.012244</td>\n",
       "      <td>1.000000</td>\n",
       "      <td>0.998825</td>\n",
       "    </tr>\n",
       "    <tr>\n",
       "      <th>1847</th>\n",
       "      <td>0.002355</td>\n",
       "      <td>1.000000</td>\n",
       "      <td>1.000000</td>\n",
       "    </tr>\n",
       "  </tbody>\n",
       "</table>\n",
       "<p>1848 rows × 3 columns</p>\n",
       "</div>"
      ],
      "text/plain": [
       "      Threshold       TPR       FPR\n",
       "0           inf  0.000000  0.000000\n",
       "1      0.670515  0.012009  0.002937\n",
       "2      0.668400  0.021816  0.006597\n",
       "3      0.666277  0.032174  0.010031\n",
       "4      0.664148  0.040630  0.012787\n",
       "...         ...       ...       ...\n",
       "1843   0.013165  0.999950  0.998690\n",
       "1844   0.012919  0.999950  0.998780\n",
       "1845   0.012290  0.999950  0.998825\n",
       "1846   0.012244  1.000000  0.998825\n",
       "1847   0.002355  1.000000  1.000000\n",
       "\n",
       "[1848 rows x 3 columns]"
      ]
     },
     "execution_count": 55,
     "metadata": {},
     "output_type": "execute_result"
    }
   ],
   "source": [
    "roc_df = pd.DataFrame({\"Threshold\": thresholds,\"TPR\": tprs,\"FPR\": fprs})\n",
    "roc_df"
   ]
  },
  {
   "cell_type": "code",
   "execution_count": 56,
   "id": "0ac35031",
   "metadata": {},
   "outputs": [
    {
     "data": {
      "text/html": [
       "<div>\n",
       "<style scoped>\n",
       "    .dataframe tbody tr th:only-of-type {\n",
       "        vertical-align: middle;\n",
       "    }\n",
       "\n",
       "    .dataframe tbody tr th {\n",
       "        vertical-align: top;\n",
       "    }\n",
       "\n",
       "    .dataframe thead th {\n",
       "        text-align: right;\n",
       "    }\n",
       "</style>\n",
       "<table border=\"1\" class=\"dataframe\">\n",
       "  <thead>\n",
       "    <tr style=\"text-align: right;\">\n",
       "      <th></th>\n",
       "      <th>Threshold</th>\n",
       "      <th>TPR</th>\n",
       "      <th>FPR</th>\n",
       "    </tr>\n",
       "  </thead>\n",
       "  <tbody>\n",
       "    <tr>\n",
       "      <th>1846</th>\n",
       "      <td>0.012244</td>\n",
       "      <td>1.000000</td>\n",
       "      <td>0.998825</td>\n",
       "    </tr>\n",
       "    <tr>\n",
       "      <th>1847</th>\n",
       "      <td>0.002355</td>\n",
       "      <td>1.000000</td>\n",
       "      <td>1.000000</td>\n",
       "    </tr>\n",
       "    <tr>\n",
       "      <th>1844</th>\n",
       "      <td>0.012919</td>\n",
       "      <td>0.999950</td>\n",
       "      <td>0.998780</td>\n",
       "    </tr>\n",
       "    <tr>\n",
       "      <th>1845</th>\n",
       "      <td>0.012290</td>\n",
       "      <td>0.999950</td>\n",
       "      <td>0.998825</td>\n",
       "    </tr>\n",
       "    <tr>\n",
       "      <th>1843</th>\n",
       "      <td>0.013165</td>\n",
       "      <td>0.999950</td>\n",
       "      <td>0.998690</td>\n",
       "    </tr>\n",
       "    <tr>\n",
       "      <th>...</th>\n",
       "      <td>...</td>\n",
       "      <td>...</td>\n",
       "      <td>...</td>\n",
       "    </tr>\n",
       "    <tr>\n",
       "      <th>882</th>\n",
       "      <td>0.374840</td>\n",
       "      <td>0.801001</td>\n",
       "      <td>0.689725</td>\n",
       "    </tr>\n",
       "    <tr>\n",
       "      <th>881</th>\n",
       "      <td>0.374982</td>\n",
       "      <td>0.799600</td>\n",
       "      <td>0.687014</td>\n",
       "    </tr>\n",
       "    <tr>\n",
       "      <th>880</th>\n",
       "      <td>0.375019</td>\n",
       "      <td>0.799450</td>\n",
       "      <td>0.686743</td>\n",
       "    </tr>\n",
       "    <tr>\n",
       "      <th>879</th>\n",
       "      <td>0.375045</td>\n",
       "      <td>0.797398</td>\n",
       "      <td>0.683806</td>\n",
       "    </tr>\n",
       "    <tr>\n",
       "      <th>878</th>\n",
       "      <td>0.375260</td>\n",
       "      <td>0.797248</td>\n",
       "      <td>0.683761</td>\n",
       "    </tr>\n",
       "  </tbody>\n",
       "</table>\n",
       "<p>970 rows × 3 columns</p>\n",
       "</div>"
      ],
      "text/plain": [
       "      Threshold       TPR       FPR\n",
       "1846   0.012244  1.000000  0.998825\n",
       "1847   0.002355  1.000000  1.000000\n",
       "1844   0.012919  0.999950  0.998780\n",
       "1845   0.012290  0.999950  0.998825\n",
       "1843   0.013165  0.999950  0.998690\n",
       "...         ...       ...       ...\n",
       "882    0.374840  0.801001  0.689725\n",
       "881    0.374982  0.799600  0.687014\n",
       "880    0.375019  0.799450  0.686743\n",
       "879    0.375045  0.797398  0.683806\n",
       "878    0.375260  0.797248  0.683761\n",
       "\n",
       "[970 rows x 3 columns]"
      ]
     },
     "execution_count": 56,
     "metadata": {},
     "output_type": "execute_result"
    }
   ],
   "source": [
    "roc_df.sort_values(by=\"TPR\", ascending=False).head(970)"
   ]
  },
  {
   "cell_type": "code",
   "execution_count": 57,
   "id": "9c52ca12",
   "metadata": {},
   "outputs": [],
   "source": [
    "threshold = 0.374832\n",
    "y_pred = (predictive_prob >= threshold).astype(int)"
   ]
  },
  {
   "cell_type": "code",
   "execution_count": 58,
   "id": "37b87ec1",
   "metadata": {},
   "outputs": [
    {
     "name": "stdout",
     "output_type": "stream",
     "text": [
      "0.8011508631473605 0.689770468100488\n"
     ]
    }
   ],
   "source": [
    "from sklearn.metrics import confusion_matrix\n",
    "tn, fp, fn, tp = confusion_matrix(y_test, y_pred).ravel()\n",
    "fpr = fp / (fp + tn)\n",
    "tpr = tp / (tp + fn)\n",
    "print(tpr,fpr)"
   ]
  },
  {
   "cell_type": "markdown",
   "id": "9e980110",
   "metadata": {},
   "source": [
    "The TPR means that 80.1% of actual shots made were correctly predicted.\n",
    "The FPR means that 68.7014278% of missed shots were incorrectly predicted as made."
   ]
  },
  {
   "cell_type": "markdown",
   "id": "8ba2736a",
   "metadata": {},
   "source": [
    "## 8. Additional Analysis/Insight"
   ]
  },
  {
   "cell_type": "code",
   "execution_count": 59,
   "id": "a0dd0173",
   "metadata": {},
   "outputs": [
    {
     "data": {
      "text/plain": [
       "<Axes: xlabel='SHOT_DISTANCE', ylabel='Predicted_Prob'>"
      ]
     },
     "execution_count": 59,
     "metadata": {},
     "output_type": "execute_result"
    },
    {
     "data": {
      "image/png": "[encoded data removed]",
      "text/plain": [
       "<Figure size 640x480 with 1 Axes>"
      ]
     },
     "metadata": {},
     "output_type": "display_data"
    }
   ],
   "source": [
    "from sklearn.cluster import KMeans\n",
    "cluster_df = pd.DataFrame({\n",
    "    'SHOT_DISTANCE': df_clean['SHOT_DISTANCE'],\n",
    "    'Predicted_Prob': model.predict_proba(X)[:, 1]\n",
    "})\n",
    "\n",
    "kmeans = KMeans(n_clusters=3, random_state=207)\n",
    "cluster_df['Cluster'] = kmeans.fit_predict(cluster_df)\n",
    "\n",
    "sns.scatterplot(data=cluster_df, x='SHOT_DISTANCE', y='Predicted_Prob', hue='Cluster')"
   ]
  },
  {
   "cell_type": "markdown",
   "id": "9cd18ee4",
   "metadata": {},
   "source": [
    "We applied KMeans clustering to determine if shots could be segmented according to SHOT_DISTANCE and scoring probability from our logistic regression output. As depicted in the plot, three clusters were formed: one for close shots with high predicted probabilities of scoring, one for shots taken at the midpoint with nominally predicted scoring averages, and one for long-distance tries (three-pointers) with low probabilities of scoring. This finding adds to our goal of actionable recommendations because it indicates to coaches/analysts which shots are more effective in scoring. Thus, more focus should be given to shots taken up close and less trust in shots taken far away with projected failures."
   ]
  },
  {
   "cell_type": "markdown",
   "id": "62af211b",
   "metadata": {},
   "source": [
    "## 9. Conclusion"
   ]
  },
  {
   "cell_type": "markdown",
   "id": "22ec1789",
   "metadata": {},
   "source": [
    "The average test AUC, our final elastic net logistic regression model emerged as the top performer, achieving an AUC of approximately 0.638. While this value doesn’t suggest perfect prediction, it does indicate moderate predictive power and offers useful insights into how shot characteristics influence success. Given this, I would recommend the use of our model for a coach or data analyst looking to improve team shooting strategies or player development. It can help highlight trends, such as when certain shot types or court regions are less effective, and aid in smarter decision making on the court. We can't say with certainty that this is the best possible model that could be built using this dataset. There’s still room to explore techniques to boost accuracy. Additionally, our model does not include many potentially predictive features, such as defender distance, shot clock timing, or player fatigue, factors that could heavily influence shot success. For future work, it would be interesting to train models specific to each player or position group. This could better account for individual shooting tendencies and possibly lead to more personalized training or game planning recommendations. Overall, our project builds a solid foundation, but it also opens the door to further analysis."
   ]
  }
 ],
 "metadata": {
  "kernelspec": {
   "display_name": "Python 3",
   "language": "python",
   "name": "python3"
  },
  "language_info": {
   "codemirror_mode": {
    "name": "ipython",
    "version": 3
   },
   "file_extension": ".py",
   "mimetype": "text/x-python",
   "name": "python",
   "nbconvert_exporter": "python",
   "pygments_lexer": "ipython3",
   "version": "3.12.10"
  }
 },
 "nbformat": 4,
 "nbformat_minor": 5
}
